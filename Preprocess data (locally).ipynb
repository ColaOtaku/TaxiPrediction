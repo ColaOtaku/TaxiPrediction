{
 "cells": [
  {
   "cell_type": "code",
   "execution_count": 1,
   "metadata": {
    "collapsed": true
   },
   "outputs": [],
   "source": [
    "def preprocess_data(cabFilenames):\n",
    "    \"\"\"\n",
    "    Function that takes a list of filenames (strings) and a boolean as parameters.\n",
    "    Removes the header from the each file and verifies the schema of the data.\n",
    "    \"\"\"\n",
    "    # Dictionary where key = filename, value = (schema, bool==True if there is a blank line after header)\n",
    "    file_schemas = {}\n",
    "    prefix = 'data/'\n",
    "        \n",
    "    for filename in cabFilenames:\n",
    "        # Fetch schema\n",
    "        with open(prefix+filename,'r') as in_fp:\n",
    "            #read first two lines\n",
    "            lines = [in_fp.readline() for i in xrange(2)]\n",
    "\n",
    "        # now open again to write out\n",
    "        file_schemas[filename] = (tuple(lines[0].split(',')), lines[1]=='\\r\\n')\n",
    "    \n",
    "    # verify all files have the necessary columns in the same position\n",
    "    for (schema,blank) in file_schemas.values():\n",
    "        assert 'ickup' in schema[1]\n",
    "        assert 'atetime' in schema[1]\n",
    "        assert 'ickup' in schema[5]\n",
    "        assert 'ongitude' in schema[5]\n",
    "        assert 'ickup' in schema[6]\n",
    "        assert 'atitude' in schema[6]\n",
    "    print \"Schema:\", file_schemas[filename][0]\n",
    "    \n",
    "    # Remove header and blank line from file\n",
    "    for filename in cabFilenames:\n",
    "        print \"Writing to %r\" % filename \n",
    "        with open(prefix+filename,'r') as in_fp:\n",
    "            #read whole file\n",
    "            lines = in_fp.readlines()\n",
    "\n",
    "        with open(prefix+filename,'w') as out_fp:\n",
    "\n",
    "            # check if there is a blank line after the header\n",
    "            if file_schemas[filename][1]:\n",
    "                out_fp.writelines(lines[2:])\n",
    "            else:\n",
    "                out_fp.writelines(lines[1:])"
   ]
  },
  {
   "cell_type": "code",
   "execution_count": 2,
   "metadata": {
    "collapsed": false
   },
   "outputs": [
    {
     "name": "stdout",
     "output_type": "stream",
     "text": [
      "Schema: ('VendorID', 'lpep_pickup_datetime', 'Lpep_dropoff_datetime', 'Store_and_fwd_flag', 'RateCodeID', 'Pickup_longitude', 'Pickup_latitude', 'Dropoff_longitude', 'Dropoff_latitude', 'Passenger_count', 'Trip_distance', 'Fare_amount', 'Extra', 'MTA_tax', 'Tip_amount', 'Tolls_amount', 'Ehail_fee', 'Total_amount', 'Payment_type', 'Trip_type \\n')\n",
      "Writing to 'yellow_tripdata_2013-01.csv'\n",
      "Writing to 'green_tripdata_2013-12.csv'\n"
     ]
    }
   ],
   "source": [
    "preprocess_data([\"yellow_tripdata_2013-01.csv\",\"green_tripdata_2013-12.csv\"])"
   ]
  },
  {
   "cell_type": "code",
   "execution_count": 3,
   "metadata": {
    "collapsed": false
   },
   "outputs": [
    {
     "data": {
      "text/plain": [
       "3"
      ]
     },
     "execution_count": 3,
     "metadata": {},
     "output_type": "execute_result"
    }
   ],
   "source": [
    "indices = (1,6,5)\n",
    "len(indices)"
   ]
  },
  {
   "cell_type": "code",
   "execution_count": null,
   "metadata": {
    "collapsed": true
   },
   "outputs": [],
   "source": []
  }
 ],
 "metadata": {
  "kernelspec": {
   "display_name": "Python 2",
   "language": "python",
   "name": "python2"
  },
  "language_info": {
   "codemirror_mode": {
    "name": "ipython",
    "version": 2
   },
   "file_extension": ".py",
   "mimetype": "text/x-python",
   "name": "python",
   "nbconvert_exporter": "python",
   "pygments_lexer": "ipython2",
   "version": "2.7.10"
  }
 },
 "nbformat": 4,
 "nbformat_minor": 0
}
