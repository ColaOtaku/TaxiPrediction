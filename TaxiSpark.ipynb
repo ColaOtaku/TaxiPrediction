{
 "cells": [
  {
   "cell_type": "code",
   "execution_count": 7,
   "metadata": {
    "collapsed": true
   },
   "outputs": [],
   "source": [
    "%matplotlib inline\n",
    "import numpy as np\n",
    "import scipy as sp\n",
    "import matplotlib as mpl\n",
    "import matplotlib.cm as cm\n",
    "import matplotlib.pyplot as plt\n",
    "import pandas as pd\n",
    "pd.set_option('display.width', 500)\n",
    "pd.set_option('display.max_columns', 100)\n",
    "pd.set_option('display.notebook_repr_html', True)\n",
    "import seaborn as sns\n",
    "sns.set_style(\"whitegrid\")\n",
    "sns.set_context(\"poster\")"
   ]
  },
  {
   "cell_type": "code",
   "execution_count": 2,
   "metadata": {
    "collapsed": true
   },
   "outputs": [],
   "source": [
    "import os\n",
    "os.environ['PYSPARK_PYTHON'] = '/anaconda/bin/python'"
   ]
  },
  {
   "cell_type": "code",
   "execution_count": 3,
   "metadata": {
    "collapsed": false
   },
   "outputs": [
    {
     "name": "stdout",
     "output_type": "stream",
     "text": [
      "/usr/local/opt/apache-spark/libexec\n"
     ]
    }
   ],
   "source": [
    "import findspark\n",
    "findspark.init()\n",
    "print findspark.find()\n",
    "# Depending on your setup you might have to change this line of code\n",
    "#findspark makes sure I dont need the below on homebrew.\n",
    "#os.environ['SPARK_HOME']=\"/usr/local/Cellar/apache-spark/1.5.1/libexec/\"\n",
    "#the below actually broke my spark, so I removed it. \n",
    "#Depending on how you started the notebook, you might need it.\n",
    "#os.environ['PYSPARK_SUBMIT_ARGS']=\"--master local pyspark --executor-memory 4g\""
   ]
  },
  {
   "cell_type": "code",
   "execution_count": 4,
   "metadata": {
    "collapsed": true
   },
   "outputs": [],
   "source": [
    "import pyspark\n",
    "conf = (pyspark.SparkConf()\n",
    "    .setMaster('local')\n",
    "    .setAppName('pyspark')\n",
    "    .set(\"spark.driver.memory\", \"5g\"))\n",
    "sc = pyspark.SparkContext(conf=conf)"
   ]
  },
  {
   "cell_type": "code",
   "execution_count": 5,
   "metadata": {
    "collapsed": true
   },
   "outputs": [],
   "source": [
    "from pyspark.sql import SQLContext\n",
    "sqlsc=SQLContext(sc)"
   ]
  },
  {
   "cell_type": "code",
   "execution_count": 6,
   "metadata": {
    "collapsed": false
   },
   "outputs": [],
   "source": [
    "raw_data = sc.textFile('yellow_tripdata_2015-02.csv').map(lambda line: tuple(line.split(','))).zipWithIndex()"
   ]
  },
  {
   "cell_type": "code",
   "execution_count": 7,
   "metadata": {
    "collapsed": false
   },
   "outputs": [
    {
     "name": "stdout",
     "output_type": "stream",
     "text": [
      "((u'VendorID', u'tpep_pickup_datetime', u'tpep_dropoff_datetime', u'passenger_count', u'trip_distance', u'pickup_longitude', u'pickup_latitude', u'RateCodeID', u'store_and_fwd_flag', u'dropoff_longitude', u'dropoff_latitude', u'payment_type', u'fare_amount', u'extra', u'mta_tax', u'tip_amount', u'tolls_amount', u'improvement_surcharge', u'total_amount'), 0)\n"
     ]
    }
   ],
   "source": [
    "column_names = raw_data.take(1)[0]\n",
    "print column_names"
   ]
  },
  {
   "cell_type": "code",
   "execution_count": 16,
   "metadata": {
    "collapsed": true
   },
   "outputs": [],
   "source": [
    "def col_extracter(row):\n",
    "    # helper function that strips the index and grabs the following columns:\n",
    "    # u'tpep_pickup_datetime', u'tpep_dropoff_datetime', u'pickup_longitude', u'pickup_latitude', u'dropoff_longitude', u'dropoff_latitude'\n",
    "    return (row[1], row[2], row[5], row[6], row[9], row[10])\n",
    "        "
   ]
  },
  {
   "cell_type": "code",
   "execution_count": 17,
   "metadata": {
    "collapsed": false
   },
   "outputs": [],
   "source": [
    "#get rid of header row and indices\n",
    "data = raw_data.filter(lambda (row,index): index > 0).keys().map(col_extracter)"
   ]
  },
  {
   "cell_type": "code",
   "execution_count": 18,
   "metadata": {
    "collapsed": false
   },
   "outputs": [
    {
     "data": {
      "text/plain": [
       "[(u'2015-02-08 11:33:46',\n",
       "  u'2015-02-08 11:37:45',\n",
       "  u'-73.949905395507813',\n",
       "  u'40.717437744140625',\n",
       "  u'-73.95001220703125',\n",
       "  u'40.724010467529297')]"
      ]
     },
     "execution_count": 18,
     "metadata": {},
     "output_type": "execute_result"
    }
   ],
   "source": [
    "data.take(1)"
   ]
  },
  {
   "cell_type": "code",
   "execution_count": 2,
   "metadata": {
    "collapsed": false
   },
   "outputs": [
    {
     "name": "stdout",
     "output_type": "stream",
     "text": [
      "Block Width: 0.0016735\n",
      "Block Height: 0.0013\n"
     ]
    }
   ],
   "source": [
    "'''\n",
    "This is data collected from http://www.findlatitudeandlongitude.com/?loc=manhattan%2C+New+York#.VlVCnmSrRL8\n",
    "Each coordinate corresponds a the corner of a square city block in manhattan.  \n",
    "Using this data, we will discretize manhattan into enumerated blocks\n",
    "NW Corner:\n",
    "    Lat: 40.769155\n",
    "    Long: -73.963201\n",
    "NE Corner:\n",
    "    Lat: 40.768448\n",
    "    Long: -73.961517\n",
    "SE Corner:\n",
    "    Lat: 40.767148\n",
    "    Long: -73.962466\n",
    "SW Corner:\n",
    "    Lat: 40.767855\n",
    "    Long: -73.964129\n",
    "'''\n",
    "#each cordinate is (Latitude, Longitude)\n",
    "block_NW = (40.769155, -73.963201)\n",
    "block_NE = (40.768448, -73.961517)\n",
    "block_SE = (40.767148, -73.962466)\n",
    "block_SW = (40.767855, -73.964129)\n",
    "\n",
    "# Calculate width of a block by averaging estimated difference in longitude between east and west corners\n",
    "# Note that moving East is positive, moving North is positive\n",
    "block_w = abs(block_NW[1] - block_NE[1] + block_SW[1] - block_SE[1])/2\n",
    "# Calculate width of a block by averaging estimated difference in longitude between south and north corners\n",
    "block_h = abs(block_NW[0] - block_SW[0] + block_NE[0] - block_SE[0])/2\n",
    "print \"Block Width:\", block_w\n",
    "print \"Block Height:\", block_h"
   ]
  },
  {
   "cell_type": "code",
   "execution_count": 13,
   "metadata": {
    "collapsed": false
   },
   "outputs": [
    {
     "name": "stdout",
     "output_type": "stream",
     "text": [
      "Height of city (in blocks) 196.0\n",
      "Width of city (in blocks) 299.0\n",
      "City NW: (40.874486000000104, -74.229624499998636)\n",
      "City NE: (40.874486000000104, -73.729248)\n",
      "City SE: (40.619686, -73.729248)\n",
      "City SW: (40.619686, -74.229624499998636)\n"
     ]
    }
   ],
   "source": [
    "'''\n",
    "Now we determine the latitude and longitude boundaries for NYC so that we can enumerate the blocks\n",
    "Data collected from http://www.findlatitudeandlongitude.com/?loc=manhattan%2C+New+York#.VlVCnmSrRL8\n",
    "Boundaries were selected in include all 3 major airports.\n",
    "\n",
    "SW Corner:\n",
    "    Lat: 40.619686\n",
    "    Long: -74.229813\n",
    "SE Corner: \n",
    "    Lat: 40.619686\n",
    "    Long: -73.729248\n",
    "NE Corner:\n",
    "    Lat: 40.874065\n",
    "    Long: -73.729248\n",
    "NW Corner:\n",
    "    Lat: 40.874065\n",
    "    Long: -74.229813\n",
    "'''    \n",
    "city_NW = (40.874065, -74.229813)\n",
    "city_NE = (40.874065, -73.729248)\n",
    "city_SE = (40.619686, -73.729248)\n",
    "city_SW = (40.619686, -74.229813)\n",
    "#adjust estimated city corners so that the height and width are an integer number of blocks\n",
    "num_h_blocks = abs(np.ceil((city_NW[0]-city_SW[0])/block_h))\n",
    "num_w_blocks = abs(np.ceil((city_NW[1]-city_NE[1])/block_w))\n",
    "print \"Height of city (in blocks)\", num_h_blocks\n",
    "print \"Width of city (in blocks)\", num_w_blocks\n",
    "city_NE = (city_SE[0]+num_h_blocks * block_h, city_SE[1])\n",
    "city_SW = (city_SE[0], city_SE[1] - num_w_blocks * block_w)\n",
    "city_NW = (city_NE[0], city_SW[1])\n",
    "print \"City NW:\", city_NW\n",
    "print \"City NE:\", city_NE\n",
    "print \"City SE:\", city_SE\n",
    "print \"City SW:\", city_SW"
   ]
  },
  {
   "cell_type": "code",
   "execution_count": null,
   "metadata": {
    "collapsed": true
   },
   "outputs": [],
   "source": [
    "# Now for each pickup location and dropoff location we want to assign an index, which corresponds to the block\n",
    "# that the pickup/dropoff occurs in.\n",
    "# To do this, we will enumerate all blocks starting with 0 at SE corner.\n",
    "# Note we start at the SE corner so that indices increase as longitude and latitude increase"
   ]
  }
 ],
 "metadata": {
  "kernelspec": {
   "display_name": "Python 2",
   "language": "python",
   "name": "python2"
  },
  "language_info": {
   "codemirror_mode": {
    "name": "ipython",
    "version": 2
   },
   "file_extension": ".py",
   "mimetype": "text/x-python",
   "name": "python",
   "nbconvert_exporter": "python",
   "pygments_lexer": "ipython2",
   "version": "2.7.10"
  }
 },
 "nbformat": 4,
 "nbformat_minor": 0
}
