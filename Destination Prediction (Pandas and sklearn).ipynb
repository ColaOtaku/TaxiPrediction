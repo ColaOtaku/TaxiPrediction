{
 "cells": [
  {
   "cell_type": "code",
   "execution_count": 1,
   "metadata": {
    "collapsed": true
   },
   "outputs": [],
   "source": [
    "%matplotlib inline\n",
    "\n",
    "import numpy as np\n",
    "import scipy as sp\n",
    "import matplotlib as mpl\n",
    "import matplotlib.cm as cm\n",
    "import matplotlib.pyplot as plt\n",
    "import pandas as pd\n",
    "pd.set_option('display.width', 500)\n",
    "pd.set_option('display.max_columns', 100)\n",
    "pd.set_option('display.notebook_repr_html', True)\n",
    "import seaborn as sns\n",
    "sns.set_style(\"whitegrid\")\n",
    "sns.set_context(\"poster\")\n",
    "from sklearn.grid_search import GridSearchCV\n",
    "from sklearn.cross_validation import train_test_split\n",
    "from sklearn.metrics import confusion_matrix\n",
    "from sklearn.ensemble import RandomForestRegressor\n",
    "from sklearn.pipeline import Pipeline\n",
    "from sklearn.cross_validation import cross_val_score\n",
    "import geohash\n",
    "from sklearn.metrics import mean_squared_error\n",
    "import random\n",
    "import math\n",
    "import datetime\n"
   ]
  },
  {
   "cell_type": "markdown",
   "metadata": {},
   "source": [
    "### Goal: Explore the possiblity of predicting a destination (lat/long) based on the pickup location, time & day"
   ]
  },
  {
   "cell_type": "markdown",
   "metadata": {},
   "source": [
    "## 1. Load the aggregated data from the CSV file"
   ]
  },
  {
   "cell_type": "code",
   "execution_count": 19,
   "metadata": {
    "collapsed": false
   },
   "outputs": [
    {
     "name": "stdout",
     "output_type": "stream",
     "text": [
      "(15285988, 5)\n"
     ]
    }
   ],
   "source": [
    "# Each line is of the format:\n",
    "\n",
    "#pickupGeohash, dropOffGeohash,time_num,day_of_week, count\n",
    "# File is also available here: https://s3.amazonaws.com/testsetu/nyc/final/groupbydestn/singlefile/part-00000\n",
    "names = [\"pickup_geohash\",\"dropoff_geohash\",\"time_num\",\"day_of_week\", \"count\"]\n",
    "df=pd.read_csv(\"./tmplocaldata/final/singlefile/part-00000\", header=None, names = names)\n",
    "#df = df.sample(n=10000000,weights=df['count'], replace=True)\n",
    "print df.shape"
   ]
  },
  {
   "cell_type": "markdown",
   "metadata": {},
   "source": [
    "## 2. Feature Extraction"
   ]
  },
  {
   "cell_type": "code",
   "execution_count": 57,
   "metadata": {
    "collapsed": false
   },
   "outputs": [],
   "source": [
    "# Get the longitude and latitude from the geohash\n",
    "def decodegeo(geo, which):\n",
    "    if len(geo) >= 6:\n",
    "        geodecoded = geohash.decode(geo)\n",
    "        return geodecoded[which]\n",
    "    else:\n",
    "        return 0\n",
    "    \n",
    "def further_data_prep(df):\n",
    "  \n",
    "    df['time_sin'] = (df['time_num'] * 2 * math.pi).apply(math.sin)\n",
    "    df['time_cos'] = (df['time_num'] * 2 * math.pi).apply(math.cos)\n",
    "    df['pickup_lat'] = df['pickup_geohash'].apply(lambda geo: decodegeo(geo, 0))\n",
    "    df['pickup_long'] = df['pickup_geohash'].apply(lambda geo: decodegeo(geo, 1))\n",
    "    df['dropoff_lat'] = df['dropoff_geohash'].apply(lambda geo: decodegeo(geo, 0))\n",
    "    df['dropoff_long'] = df['dropoff_geohash'].apply(lambda geo: decodegeo(geo, 1))\n",
    "    \n",
    "    return df"
   ]
  },
  {
   "cell_type": "code",
   "execution_count": 58,
   "metadata": {
    "collapsed": false
   },
   "outputs": [],
   "source": [
    "df = further_data_prep(df)"
   ]
  },
  {
   "cell_type": "markdown",
   "metadata": {},
   "source": [
    "## 3. Train-test split"
   ]
  },
  {
   "cell_type": "code",
   "execution_count": 59,
   "metadata": {
    "collapsed": true
   },
   "outputs": [],
   "source": [
    "trainSetSampleSize = 10000000\n",
    "testSetSize = 2000000\n",
    "testSetPosns = np.random.choice(df.shape[0],testSetSize, replace = False)"
   ]
  },
  {
   "cell_type": "code",
   "execution_count": 60,
   "metadata": {
    "collapsed": true
   },
   "outputs": [],
   "source": [
    "testSet = df.iloc[testSetPosns]\n",
    "trainSet = df.drop(testSetPosns)"
   ]
  },
  {
   "cell_type": "code",
   "execution_count": 61,
   "metadata": {
    "collapsed": false
   },
   "outputs": [
    {
     "name": "stdout",
     "output_type": "stream",
     "text": [
      "(15285988, 11)\n",
      "(13285988, 11)\n",
      "(2000000, 11)\n"
     ]
    }
   ],
   "source": [
    "print df.shape\n",
    "print trainSet.shape\n",
    "print testSet.shape"
   ]
  },
  {
   "cell_type": "code",
   "execution_count": 62,
   "metadata": {
    "collapsed": true
   },
   "outputs": [],
   "source": [
    "#sample with replacement\n",
    "trainSet = trainSet.sample(n=trainSetSampleSize,weights=trainSet['count'], replace=True)"
   ]
  },
  {
   "cell_type": "code",
   "execution_count": 63,
   "metadata": {
    "collapsed": true
   },
   "outputs": [],
   "source": [
    "X_train = trainSet[['time_num', 'time_sin', 'time_cos','day_of_week', 'pickup_lat', 'pickup_long', 'count']]\n",
    "y_train = trainSet[['dropoff_lat', 'dropoff_long']]\n",
    "\n",
    "X_test = testSet[['time_num', 'time_sin', 'time_cos','day_of_week', 'pickup_lat', 'pickup_long', 'count']]\n",
    "y_test = testSet[['dropoff_lat', 'dropoff_long']]"
   ]
  },
  {
   "cell_type": "code",
   "execution_count": 64,
   "metadata": {
    "collapsed": false
   },
   "outputs": [
    {
     "name": "stderr",
     "output_type": "stream",
     "text": [
      "C:\\DevLibs\\Anaconda\\lib\\site-packages\\ipykernel\\__main__.py:2: SettingWithCopyWarning: \n",
      "A value is trying to be set on a copy of a slice from a DataFrame\n",
      "\n",
      "See the caveats in the documentation: http://pandas.pydata.org/pandas-docs/stable/indexing.html#indexing-view-versus-copy\n",
      "  from ipykernel import kernelapp as app\n",
      "C:\\DevLibs\\Anaconda\\lib\\site-packages\\ipykernel\\__main__.py:5: SettingWithCopyWarning: \n",
      "A value is trying to be set on a copy of a slice from a DataFrame\n",
      "\n",
      "See the caveats in the documentation: http://pandas.pydata.org/pandas-docs/stable/indexing.html#indexing-view-versus-copy\n"
     ]
    }
   ],
   "source": [
    "pickup_count_train = X_train[['count']]\n",
    "X_train.drop('count', axis=1, inplace=True)\n",
    "\n",
    "pickup_count_test = X_test[['count']]\n",
    "X_test.drop('count', axis=1, inplace=True)"
   ]
  },
  {
   "cell_type": "markdown",
   "metadata": {},
   "source": [
    "## 4. Machine learning"
   ]
  },
  {
   "cell_type": "code",
   "execution_count": 72,
   "metadata": {
    "collapsed": false
   },
   "outputs": [
    {
     "name": "stderr",
     "output_type": "stream",
     "text": [
      "[Parallel(n_jobs=-1)]: Done   1 out of   1 | elapsed:   41.5s remaining:    0.0s\n",
      "[Parallel(n_jobs=-1)]: Done   1 out of   1 | elapsed:   41.5s finished\n",
      "[Parallel(n_jobs=1)]: Done   1 jobs       | elapsed:    2.0s\n",
      "[Parallel(n_jobs=1)]: Done   1 out of   1 | elapsed:    2.0s finished\n",
      "[Parallel(n_jobs=1)]: Done   1 jobs       | elapsed:    0.4s\n",
      "[Parallel(n_jobs=1)]: Done   1 out of   1 | elapsed:    0.4s finished\n",
      "[Parallel(n_jobs=1)]: Done   1 jobs       | elapsed:    1.9s\n",
      "[Parallel(n_jobs=1)]: Done   1 out of   1 | elapsed:    1.9s finished\n",
      "[Parallel(n_jobs=1)]: Done   1 jobs       | elapsed:    0.4s\n"
     ]
    },
    {
     "name": "stdout",
     "output_type": "stream",
     "text": [
      "building tree 1 of 1\n",
      " R^2 (train) = 0.234, R^2 (valid) = -0.057, RMSE (train) = 0.036, RMSE (valid) = 0.128"
     ]
    },
    {
     "name": "stderr",
     "output_type": "stream",
     "text": [
      "[Parallel(n_jobs=1)]: Done   1 out of   1 | elapsed:    0.4s finished\n",
      "[Parallel(n_jobs=-1)]: Done   1 out of   1 | elapsed:   41.2s remaining:    0.0s\n",
      "[Parallel(n_jobs=-1)]: Done   1 out of   1 | elapsed:   41.2s finished\n",
      "[Parallel(n_jobs=2)]: Done   1 out of   2 | elapsed:    2.0s remaining:    2.0s\n",
      "[Parallel(n_jobs=2)]: Done   2 out of   2 | elapsed:    2.0s finished\n",
      "[Parallel(n_jobs=2)]: Done   1 out of   2 | elapsed:    0.5s remaining:    0.5s\n",
      "[Parallel(n_jobs=2)]: Done   2 out of   2 | elapsed:    0.5s finished\n",
      "[Parallel(n_jobs=2)]: Done   1 out of   2 | elapsed:    2.1s remaining:    2.1s\n",
      "[Parallel(n_jobs=2)]: Done   2 out of   2 | elapsed:    2.1s finished\n",
      "[Parallel(n_jobs=2)]: Done   1 out of   2 | elapsed:    0.5s remaining:    0.5s\n",
      "[Parallel(n_jobs=2)]: Done   2 out of   2 | elapsed:    0.5s finished\n"
     ]
    },
    {
     "name": "stdout",
     "output_type": "stream",
     "text": [
      "\n",
      "building tree 1 of 1\n",
      " R^2 (train) = 0.275, R^2 (valid) = 0.016, RMSE (train) = 0.035, RMSE (valid) = 0.123"
     ]
    },
    {
     "name": "stderr",
     "output_type": "stream",
     "text": [
      "[Parallel(n_jobs=-1)]: Done   1 out of   1 | elapsed:   39.4s remaining:    0.0s\n",
      "[Parallel(n_jobs=-1)]: Done   1 out of   1 | elapsed:   39.4s finished\n",
      "[Parallel(n_jobs=3)]: Done   2 out of   3 | elapsed:    2.2s remaining:    1.1s\n",
      "[Parallel(n_jobs=3)]: Done   1 out of   3 | elapsed:    2.3s remaining:    4.7s\n",
      "[Parallel(n_jobs=3)]: Done   3 out of   3 | elapsed:    2.3s finished\n",
      "[Parallel(n_jobs=3)]: Done   1 out of   3 | elapsed:    0.5s remaining:    1.2s\n",
      "[Parallel(n_jobs=3)]: Done   2 out of   3 | elapsed:    0.5s remaining:    0.2s\n",
      "[Parallel(n_jobs=3)]: Done   3 out of   3 | elapsed:    0.6s finished\n",
      "[Parallel(n_jobs=3)]: Done   2 out of   3 | elapsed:    2.2s remaining:    1.1s\n",
      "[Parallel(n_jobs=3)]: Done   1 out of   3 | elapsed:    2.3s remaining:    4.7s\n",
      "[Parallel(n_jobs=3)]: Done   3 out of   3 | elapsed:    2.3s finished\n",
      "[Parallel(n_jobs=3)]: Done   2 out of   3 | elapsed:    0.5s remaining:    0.2s\n",
      "[Parallel(n_jobs=3)]: Done   1 out of   3 | elapsed:    0.6s remaining:    1.3s\n",
      "[Parallel(n_jobs=3)]: Done   3 out of   3 | elapsed:    0.6s finished\n"
     ]
    },
    {
     "name": "stdout",
     "output_type": "stream",
     "text": [
      "\n",
      "building tree 1 of 1\n",
      " R^2 (train) = 0.283, R^2 (valid) = 0.035, RMSE (train) = 0.035, RMSE (valid) = 0.122"
     ]
    },
    {
     "name": "stderr",
     "output_type": "stream",
     "text": [
      "[Parallel(n_jobs=-1)]: Done   1 out of   1 | elapsed:   42.0s remaining:    0.0s\n",
      "[Parallel(n_jobs=-1)]: Done   1 out of   1 | elapsed:   42.0s finished\n",
      "[Parallel(n_jobs=4)]: Done   1 out of   4 | elapsed:    2.7s remaining:    8.3s\n",
      "[Parallel(n_jobs=4)]: Done   2 out of   4 | elapsed:    2.7s remaining:    2.7s\n",
      "[Parallel(n_jobs=4)]: Done   4 out of   4 | elapsed:    2.7s finished\n",
      "[Parallel(n_jobs=4)]: Done   2 out of   4 | elapsed:    0.6s remaining:    0.6s\n",
      "[Parallel(n_jobs=4)]: Done   1 out of   4 | elapsed:    0.7s remaining:    2.3s\n",
      "[Parallel(n_jobs=4)]: Done   4 out of   4 | elapsed:    0.7s finished\n",
      "[Parallel(n_jobs=4)]: Done   2 out of   4 | elapsed:    2.5s remaining:    2.5s\n",
      "[Parallel(n_jobs=4)]: Done   1 out of   4 | elapsed:    2.6s remaining:    7.9s\n",
      "[Parallel(n_jobs=4)]: Done   4 out of   4 | elapsed:    2.6s finished\n"
     ]
    },
    {
     "name": "stdout",
     "output_type": "stream",
     "text": [
      "\n",
      "building tree 1 of 1\n",
      " R^2 (train) = 0.286, R^2 (valid) = 0.055, RMSE (train) = 0.035, RMSE (valid) = 0.121"
     ]
    },
    {
     "name": "stderr",
     "output_type": "stream",
     "text": [
      "[Parallel(n_jobs=4)]: Done   2 out of   4 | elapsed:    0.7s remaining:    0.7s\n",
      "[Parallel(n_jobs=4)]: Done   1 out of   4 | elapsed:    0.7s remaining:    2.3s\n",
      "[Parallel(n_jobs=4)]: Done   4 out of   4 | elapsed:    0.7s finished\n",
      "[Parallel(n_jobs=-1)]: Done   1 out of   1 | elapsed:   39.2s remaining:    0.0s\n",
      "[Parallel(n_jobs=-1)]: Done   1 out of   1 | elapsed:   39.2s finished\n",
      "[Parallel(n_jobs=5)]: Done   1 out of   5 | elapsed:    2.9s remaining:   11.8s\n",
      "[Parallel(n_jobs=5)]: Done   3 out of   5 | elapsed:    2.9s remaining:    1.9s\n",
      "[Parallel(n_jobs=5)]: Done   5 out of   5 | elapsed:    3.0s finished\n",
      "[Parallel(n_jobs=5)]: Done   3 out of   5 | elapsed:    0.7s remaining:    0.5s\n",
      "[Parallel(n_jobs=5)]: Done   1 out of   5 | elapsed:    0.8s remaining:    3.4s\n",
      "[Parallel(n_jobs=5)]: Done   5 out of   5 | elapsed:    0.8s finished\n",
      "[Parallel(n_jobs=5)]: Done   3 out of   5 | elapsed:    2.9s remaining:    1.9s\n",
      "[Parallel(n_jobs=5)]: Done   1 out of   5 | elapsed:    3.0s remaining:   12.3s\n",
      "[Parallel(n_jobs=5)]: Done   5 out of   5 | elapsed:    3.0s finished\n"
     ]
    },
    {
     "name": "stdout",
     "output_type": "stream",
     "text": [
      "\n",
      "building tree 1 of 1\n",
      " R^2 (train) = 0.286, R^2 (valid) = 0.068, RMSE (train) = 0.035, RMSE (valid) = 0.120"
     ]
    },
    {
     "name": "stderr",
     "output_type": "stream",
     "text": [
      "[Parallel(n_jobs=5)]: Done   3 out of   5 | elapsed:    0.7s remaining:    0.5s\n",
      "[Parallel(n_jobs=5)]: Done   1 out of   5 | elapsed:    0.7s remaining:    3.3s\n",
      "[Parallel(n_jobs=5)]: Done   5 out of   5 | elapsed:    0.7s finished\n",
      "[Parallel(n_jobs=-1)]: Done   1 out of   1 | elapsed:   41.4s remaining:    0.0s\n",
      "[Parallel(n_jobs=-1)]: Done   1 out of   1 | elapsed:   41.4s finished\n",
      "[Parallel(n_jobs=6)]: Done   2 out of   6 | elapsed:    2.8s remaining:    5.7s\n",
      "[Parallel(n_jobs=6)]: Done   4 out of   6 | elapsed:    2.9s remaining:    1.4s\n",
      "[Parallel(n_jobs=6)]: Done   1 out of   6 | elapsed:    3.0s remaining:   15.5s\n",
      "[Parallel(n_jobs=6)]: Done   6 out of   6 | elapsed:    3.1s finished\n",
      "[Parallel(n_jobs=6)]: Done   4 out of   6 | elapsed:    0.7s remaining:    0.3s\n",
      "[Parallel(n_jobs=6)]: Done   2 out of   6 | elapsed:    0.7s remaining:    1.5s\n",
      "[Parallel(n_jobs=6)]: Done   1 out of   6 | elapsed:    0.8s remaining:    4.4s\n",
      "[Parallel(n_jobs=6)]: Done   6 out of   6 | elapsed:    0.9s finished\n",
      "[Parallel(n_jobs=6)]: Done   4 out of   6 | elapsed:    2.9s remaining:    1.4s\n",
      "[Parallel(n_jobs=6)]: Done   1 out of   6 | elapsed:    3.2s remaining:   16.5s\n",
      "[Parallel(n_jobs=6)]: Done   2 out of   6 | elapsed:    3.2s remaining:    6.6s\n",
      "[Parallel(n_jobs=6)]: Done   6 out of   6 | elapsed:    3.3s finished\n",
      "[Parallel(n_jobs=6)]: Done   1 out of   6 | elapsed:    0.7s remaining:    4.0s\n",
      "[Parallel(n_jobs=6)]: Done   4 out of   6 | elapsed:    0.7s remaining:    0.3s\n",
      "[Parallel(n_jobs=6)]: Done   2 out of   6 | elapsed:    0.8s remaining:    1.7s\n",
      "[Parallel(n_jobs=6)]: Done   6 out of   6 | elapsed:    0.8s finished\n"
     ]
    },
    {
     "name": "stdout",
     "output_type": "stream",
     "text": [
      "\n",
      "building tree 1 of 1\n",
      " R^2 (train) = 0.288, R^2 (valid) = 0.068, RMSE (train) = 0.035, RMSE (valid) = 0.120"
     ]
    },
    {
     "name": "stderr",
     "output_type": "stream",
     "text": [
      "[Parallel(n_jobs=-1)]: Done   1 out of   1 | elapsed:   41.9s remaining:    0.0s\n",
      "[Parallel(n_jobs=-1)]: Done   1 out of   1 | elapsed:   41.9s finished\n",
      "[Parallel(n_jobs=7)]: Done   3 out of   7 | elapsed:    3.4s remaining:    4.6s\n",
      "[Parallel(n_jobs=7)]: Done   1 out of   7 | elapsed:    3.4s remaining:   21.2s\n",
      "[Parallel(n_jobs=7)]: Done   5 out of   7 | elapsed:    3.5s remaining:    1.3s\n",
      "[Parallel(n_jobs=7)]: Done   7 out of   7 | elapsed:    3.5s finished\n",
      "[Parallel(n_jobs=7)]: Done   3 out of   7 | elapsed:    0.8s remaining:    1.1s\n",
      "[Parallel(n_jobs=7)]: Done   5 out of   7 | elapsed:    0.9s remaining:    0.3s\n",
      "[Parallel(n_jobs=7)]: Done   1 out of   7 | elapsed:    0.9s remaining:    5.9s\n",
      "[Parallel(n_jobs=7)]: Done   7 out of   7 | elapsed:    0.9s finished\n",
      "[Parallel(n_jobs=7)]: Done   3 out of   7 | elapsed:    3.4s remaining:    4.5s\n",
      "[Parallel(n_jobs=7)]: Done   1 out of   7 | elapsed:    3.4s remaining:   20.8s\n",
      "[Parallel(n_jobs=7)]: Done   5 out of   7 | elapsed:    3.4s remaining:    1.3s\n",
      "[Parallel(n_jobs=7)]: Done   7 out of   7 | elapsed:    3.4s finished\n",
      "[Parallel(n_jobs=7)]: Done   5 out of   7 | elapsed:    0.8s remaining:    0.3s\n",
      "[Parallel(n_jobs=7)]: Done   3 out of   7 | elapsed:    0.9s remaining:    1.2s\n",
      "[Parallel(n_jobs=7)]: Done   1 out of   7 | elapsed:    0.9s remaining:    6.0s\n",
      "[Parallel(n_jobs=7)]: Done   7 out of   7 | elapsed:    0.9s finished\n"
     ]
    },
    {
     "name": "stdout",
     "output_type": "stream",
     "text": [
      "\n",
      "building tree 1 of 1\n",
      " R^2 (train) = 0.288, R^2 (valid) = 0.069, RMSE (train) = 0.035, RMSE (valid) = 0.120"
     ]
    },
    {
     "name": "stderr",
     "output_type": "stream",
     "text": [
      "[Parallel(n_jobs=-1)]: Done   1 out of   1 | elapsed:   41.5s remaining:    0.0s\n",
      "[Parallel(n_jobs=-1)]: Done   1 out of   1 | elapsed:   41.5s finished\n",
      "[Parallel(n_jobs=8)]: Done   7 out of   8 | elapsed:    3.5s remaining:    0.4s\n",
      "[Parallel(n_jobs=8)]: Done   4 out of   8 | elapsed:    3.9s remaining:    3.9s\n",
      "[Parallel(n_jobs=8)]: Done   1 out of   8 | elapsed:    4.2s remaining:   30.3s\n",
      "[Parallel(n_jobs=8)]: Done   8 out of   8 | elapsed:    4.2s finished\n",
      "[Parallel(n_jobs=8)]: Done   4 out of   8 | elapsed:    0.9s remaining:    0.9s\n",
      "[Parallel(n_jobs=8)]: Done   1 out of   8 | elapsed:    1.0s remaining:    7.5s\n",
      "[Parallel(n_jobs=8)]: Done   7 out of   8 | elapsed:    1.0s remaining:    0.1s\n",
      "[Parallel(n_jobs=8)]: Done   8 out of   8 | elapsed:    1.0s finished\n",
      "[Parallel(n_jobs=8)]: Done   4 out of   8 | elapsed:    3.5s remaining:    3.5s\n",
      "[Parallel(n_jobs=8)]: Done   1 out of   8 | elapsed:    3.9s remaining:   27.7s\n",
      "[Parallel(n_jobs=8)]: Done   7 out of   8 | elapsed:    3.9s remaining:    0.5s\n",
      "[Parallel(n_jobs=8)]: Done   8 out of   8 | elapsed:    3.9s finished\n",
      "[Parallel(n_jobs=8)]: Done   4 out of   8 | elapsed:    0.9s remaining:    0.9s\n",
      "[Parallel(n_jobs=8)]: Done   1 out of   8 | elapsed:    0.9s remaining:    7.2s\n",
      "[Parallel(n_jobs=8)]: Done   7 out of   8 | elapsed:    1.0s remaining:    0.1s\n",
      "[Parallel(n_jobs=8)]: Done   8 out of   8 | elapsed:    1.0s finished\n"
     ]
    },
    {
     "name": "stdout",
     "output_type": "stream",
     "text": [
      "\n",
      "building tree 1 of 1\n",
      " R^2 (train) = 0.289, R^2 (valid) = 0.069, RMSE (train) = 0.035, RMSE (valid) = 0.120"
     ]
    },
    {
     "name": "stderr",
     "output_type": "stream",
     "text": [
      "[Parallel(n_jobs=-1)]: Done   1 out of   1 | elapsed:   41.4s remaining:    0.0s\n",
      "[Parallel(n_jobs=-1)]: Done   1 out of   1 | elapsed:   41.4s finished\n",
      "[Parallel(n_jobs=8)]: Done   1 out of   9 | elapsed:    3.7s remaining:   30.7s\n",
      "[Parallel(n_jobs=8)]: Done   8 out of   9 | elapsed:    3.9s remaining:    0.4s\n",
      "[Parallel(n_jobs=8)]: Done   2 out of   9 | elapsed:    3.9s remaining:   13.8s\n",
      "[Parallel(n_jobs=8)]: Done   5 out of   9 | elapsed:    3.9s remaining:    3.1s\n",
      "[Parallel(n_jobs=8)]: Done   9 out of   9 | elapsed:    5.9s finished\n",
      "[Parallel(n_jobs=8)]: Done   2 out of   9 | elapsed:    1.0s remaining:    3.6s\n",
      "[Parallel(n_jobs=8)]: Done   5 out of   9 | elapsed:    1.0s remaining:    0.8s\n",
      "[Parallel(n_jobs=8)]: Done   8 out of   9 | elapsed:    1.0s remaining:    0.0s\n",
      "[Parallel(n_jobs=8)]: Done   1 out of   9 | elapsed:    1.0s remaining:    8.6s\n",
      "[Parallel(n_jobs=8)]: Done   9 out of   9 | elapsed:    1.4s finished\n",
      "[Parallel(n_jobs=8)]: Done   2 out of   9 | elapsed:    3.7s remaining:   13.1s\n",
      "[Parallel(n_jobs=8)]: Done   1 out of   9 | elapsed:    3.8s remaining:   31.1s\n",
      "[Parallel(n_jobs=8)]: Done   5 out of   9 | elapsed:    3.8s remaining:    3.0s\n",
      "[Parallel(n_jobs=8)]: Done   8 out of   9 | elapsed:    3.9s remaining:    0.4s\n",
      "[Parallel(n_jobs=8)]: Done   9 out of   9 | elapsed:    5.9s finished\n",
      "[Parallel(n_jobs=8)]: Done   2 out of   9 | elapsed:    1.0s remaining:    3.8s\n",
      "[Parallel(n_jobs=8)]: Done   5 out of   9 | elapsed:    1.0s remaining:    0.8s\n",
      "[Parallel(n_jobs=8)]: Done   1 out of   9 | elapsed:    1.2s remaining:   10.0s\n",
      "[Parallel(n_jobs=8)]: Done   8 out of   9 | elapsed:    1.2s remaining:    0.1s\n",
      "[Parallel(n_jobs=8)]: Done   9 out of   9 | elapsed:    1.7s finished\n"
     ]
    },
    {
     "name": "stdout",
     "output_type": "stream",
     "text": [
      "\n",
      "building tree 1 of 1\n",
      " R^2 (train) = 0.289, R^2 (valid) = 0.067, RMSE (train) = 0.035, RMSE (valid) = 0.120"
     ]
    },
    {
     "name": "stderr",
     "output_type": "stream",
     "text": [
      "[Parallel(n_jobs=-1)]: Done   1 out of   1 | elapsed:   41.8s remaining:    0.0s\n",
      "[Parallel(n_jobs=-1)]: Done   1 out of   1 | elapsed:   41.8s finished\n",
      "[Parallel(n_jobs=8)]: Done   6 out of  10 | elapsed:    3.9s remaining:    2.5s\n",
      "[Parallel(n_jobs=8)]: Done   1 out of  10 | elapsed:    4.0s remaining:   36.4s\n",
      "[Parallel(n_jobs=8)]: Done   3 out of  10 | elapsed:    4.2s remaining:    9.9s\n",
      "[Parallel(n_jobs=8)]: Done   9 out of  10 | elapsed:    6.0s remaining:    0.6s\n",
      "[Parallel(n_jobs=8)]: Done  10 out of  10 | elapsed:    6.2s finished\n",
      "[Parallel(n_jobs=8)]: Done   6 out of  10 | elapsed:    0.9s remaining:    0.6s\n",
      "[Parallel(n_jobs=8)]: Done   1 out of  10 | elapsed:    0.9s remaining:    9.3s\n",
      "[Parallel(n_jobs=8)]: Done   3 out of  10 | elapsed:    1.2s remaining:    3.0s\n",
      "[Parallel(n_jobs=8)]: Done   9 out of  10 | elapsed:    1.6s remaining:    0.1s\n",
      "[Parallel(n_jobs=8)]: Done  10 out of  10 | elapsed:    1.6s finished\n",
      "[Parallel(n_jobs=8)]: Done   3 out of  10 | elapsed:    3.8s remaining:    9.1s\n",
      "[Parallel(n_jobs=8)]: Done   6 out of  10 | elapsed:    4.0s remaining:    2.6s\n",
      "[Parallel(n_jobs=8)]: Done   1 out of  10 | elapsed:    4.0s remaining:   37.0s\n",
      "[Parallel(n_jobs=8)]: Done   9 out of  10 | elapsed:    6.1s remaining:    0.6s\n",
      "[Parallel(n_jobs=8)]: Done  10 out of  10 | elapsed:    6.1s finished\n",
      "[Parallel(n_jobs=8)]: Done   3 out of  10 | elapsed:    0.9s remaining:    2.3s\n",
      "[Parallel(n_jobs=8)]: Done   1 out of  10 | elapsed:    1.0s remaining:    9.8s\n",
      "[Parallel(n_jobs=8)]: Done   6 out of  10 | elapsed:    1.1s remaining:    0.7s\n",
      "[Parallel(n_jobs=8)]: Done   9 out of  10 | elapsed:    1.5s remaining:    0.1s\n",
      "[Parallel(n_jobs=8)]: Done  10 out of  10 | elapsed:    1.6s finished\n"
     ]
    },
    {
     "name": "stdout",
     "output_type": "stream",
     "text": [
      "\n",
      "building tree 1 of 1\n",
      " R^2 (train) = 0.289, R^2 (valid) = 0.065, RMSE (train) = 0.035, RMSE (valid) = 0.120"
     ]
    },
    {
     "name": "stderr",
     "output_type": "stream",
     "text": [
      "[Parallel(n_jobs=-1)]: Done   1 out of   1 | elapsed:   39.5s remaining:    0.0s\n",
      "[Parallel(n_jobs=-1)]: Done   1 out of   1 | elapsed:   39.5s finished\n",
      "[Parallel(n_jobs=8)]: Done   4 out of  11 | elapsed:    3.5s remaining:    6.1s\n",
      "[Parallel(n_jobs=8)]: Done   1 out of  11 | elapsed:    3.7s remaining:   38.4s\n",
      "[Parallel(n_jobs=8)]: Done   7 out of  11 | elapsed:    3.8s remaining:    2.1s\n",
      "[Parallel(n_jobs=8)]: Done  10 out of  11 | elapsed:    6.0s remaining:    0.5s\n",
      "[Parallel(n_jobs=8)]: Done  11 out of  11 | elapsed:    6.1s finished\n",
      "[Parallel(n_jobs=8)]: Done   4 out of  11 | elapsed:    0.9s remaining:    1.6s\n",
      "[Parallel(n_jobs=8)]: Done   7 out of  11 | elapsed:    0.9s remaining:    0.5s\n",
      "[Parallel(n_jobs=8)]: Done   1 out of  11 | elapsed:    1.0s remaining:   10.4s\n",
      "[Parallel(n_jobs=8)]: Done  10 out of  11 | elapsed:    1.6s remaining:    0.1s\n",
      "[Parallel(n_jobs=8)]: Done  11 out of  11 | elapsed:    1.6s finished\n",
      "[Parallel(n_jobs=8)]: Done   1 out of  11 | elapsed:    3.8s remaining:   39.1s\n",
      "[Parallel(n_jobs=8)]: Done   7 out of  11 | elapsed:    3.8s remaining:    2.1s\n",
      "[Parallel(n_jobs=8)]: Done   4 out of  11 | elapsed:    3.8s remaining:    6.8s\n",
      "[Parallel(n_jobs=8)]: Done  10 out of  11 | elapsed:    6.2s remaining:    0.5s\n",
      "[Parallel(n_jobs=8)]: Done  11 out of  11 | elapsed:    6.2s finished\n",
      "[Parallel(n_jobs=8)]: Done   4 out of  11 | elapsed:    0.8s remaining:    1.5s\n",
      "[Parallel(n_jobs=8)]: Done   1 out of  11 | elapsed:    0.9s remaining:   10.1s\n",
      "[Parallel(n_jobs=8)]: Done   7 out of  11 | elapsed:    1.0s remaining:    0.5s\n",
      "[Parallel(n_jobs=8)]: Done  10 out of  11 | elapsed:    1.6s remaining:    0.1s\n",
      "[Parallel(n_jobs=8)]: Done  11 out of  11 | elapsed:    1.6s finished\n"
     ]
    },
    {
     "name": "stdout",
     "output_type": "stream",
     "text": [
      "\n",
      "building tree 1 of 1\n",
      " R^2 (train) = 0.290, R^2 (valid) = 0.063, RMSE (train) = 0.035, RMSE (valid) = 0.120"
     ]
    },
    {
     "name": "stderr",
     "output_type": "stream",
     "text": [
      "[Parallel(n_jobs=-1)]: Done   1 out of   1 | elapsed:   41.4s remaining:    0.0s\n",
      "[Parallel(n_jobs=-1)]: Done   1 out of   1 | elapsed:   41.4s finished\n",
      "[Parallel(n_jobs=8)]: Done   6 out of  12 | elapsed:    3.7s remaining:    3.7s\n",
      "[Parallel(n_jobs=8)]: Done   1 out of  12 | elapsed:    3.8s remaining:   42.5s\n",
      "[Parallel(n_jobs=8)]: Done   2 out of  12 | elapsed:    3.8s remaining:   19.3s\n",
      "[Parallel(n_jobs=8)]: Done  10 out of  12 | elapsed:    6.4s remaining:    1.2s\n",
      "[Parallel(n_jobs=8)]: Done  12 out of  12 | elapsed:    6.5s finished\n",
      "[Parallel(n_jobs=8)]: Done   1 out of  12 | elapsed:    0.9s remaining:   11.2s\n",
      "[Parallel(n_jobs=8)]: Done   2 out of  12 | elapsed:    1.0s remaining:    5.2s\n",
      "[Parallel(n_jobs=8)]: Done   6 out of  12 | elapsed:    1.0s remaining:    1.0s\n",
      "[Parallel(n_jobs=8)]: Done  10 out of  12 | elapsed:    1.7s remaining:    0.3s\n",
      "[Parallel(n_jobs=8)]: Done  12 out of  12 | elapsed:    1.7s finished\n",
      "[Parallel(n_jobs=8)]: Done   6 out of  12 | elapsed:    3.6s remaining:    3.6s\n",
      "[Parallel(n_jobs=8)]: Done   2 out of  12 | elapsed:    3.8s remaining:   19.5s\n",
      "[Parallel(n_jobs=8)]: Done   1 out of  12 | elapsed:    3.9s remaining:   43.4s\n",
      "[Parallel(n_jobs=8)]: Done  10 out of  12 | elapsed:    6.4s remaining:    1.2s\n",
      "[Parallel(n_jobs=8)]: Done  12 out of  12 | elapsed:    6.5s finished\n",
      "[Parallel(n_jobs=8)]: Done   2 out of  12 | elapsed:    0.8s remaining:    4.6s\n",
      "[Parallel(n_jobs=8)]: Done   6 out of  12 | elapsed:    1.0s remaining:    1.0s\n",
      "[Parallel(n_jobs=8)]: Done   1 out of  12 | elapsed:    1.0s remaining:   12.4s\n",
      "[Parallel(n_jobs=8)]: Done  10 out of  12 | elapsed:    1.6s remaining:    0.2s\n",
      "[Parallel(n_jobs=8)]: Done  12 out of  12 | elapsed:    1.7s finished\n"
     ]
    },
    {
     "name": "stdout",
     "output_type": "stream",
     "text": [
      "\n",
      "building tree 1 of 1\n",
      " R^2 (train) = 0.290, R^2 (valid) = 0.063, RMSE (train) = 0.035, RMSE (valid) = 0.120"
     ]
    },
    {
     "name": "stderr",
     "output_type": "stream",
     "text": [
      "[Parallel(n_jobs=-1)]: Done   1 out of   1 | elapsed:   39.7s remaining:    0.0s\n",
      "[Parallel(n_jobs=-1)]: Done   1 out of   1 | elapsed:   39.7s finished\n",
      "[Parallel(n_jobs=8)]: Done   3 out of  13 | elapsed:    3.7s remaining:   12.7s\n",
      "[Parallel(n_jobs=8)]: Done   7 out of  13 | elapsed:    3.8s remaining:    3.2s\n",
      "[Parallel(n_jobs=8)]: Done   1 out of  13 | elapsed:    4.0s remaining:   48.9s\n",
      "[Parallel(n_jobs=8)]: Done  11 out of  13 | elapsed:    6.8s remaining:    1.2s\n",
      "[Parallel(n_jobs=8)]: Done  13 out of  13 | elapsed:    6.8s finished\n",
      "[Parallel(n_jobs=8)]: Done   3 out of  13 | elapsed:    0.9s remaining:    3.2s\n",
      "[Parallel(n_jobs=8)]: Done   7 out of  13 | elapsed:    1.0s remaining:    0.8s\n",
      "[Parallel(n_jobs=8)]: Done   1 out of  13 | elapsed:    1.0s remaining:   12.5s\n",
      "[Parallel(n_jobs=8)]: Done  11 out of  13 | elapsed:    1.7s remaining:    0.2s\n",
      "[Parallel(n_jobs=8)]: Done  13 out of  13 | elapsed:    1.7s finished\n",
      "[Parallel(n_jobs=8)]: Done   1 out of  13 | elapsed:    3.8s remaining:   46.4s\n",
      "[Parallel(n_jobs=8)]: Done   7 out of  13 | elapsed:    3.8s remaining:    3.3s\n",
      "[Parallel(n_jobs=8)]: Done   3 out of  13 | elapsed:    3.9s remaining:   13.1s\n",
      "[Parallel(n_jobs=8)]: Done  11 out of  13 | elapsed:    6.8s remaining:    1.2s\n",
      "[Parallel(n_jobs=8)]: Done  13 out of  13 | elapsed:    6.9s finished\n",
      "[Parallel(n_jobs=8)]: Done   3 out of  13 | elapsed:    0.9s remaining:    3.2s\n",
      "[Parallel(n_jobs=8)]: Done   7 out of  13 | elapsed:    0.9s remaining:    0.8s\n",
      "[Parallel(n_jobs=8)]: Done   1 out of  13 | elapsed:    1.0s remaining:   13.2s\n",
      "[Parallel(n_jobs=8)]: Done  11 out of  13 | elapsed:    1.7s remaining:    0.2s\n",
      "[Parallel(n_jobs=8)]: Done  13 out of  13 | elapsed:    1.8s finished\n"
     ]
    },
    {
     "name": "stdout",
     "output_type": "stream",
     "text": [
      "\n",
      "building tree 1 of 1\n",
      " R^2 (train) = 0.291, R^2 (valid) = 0.062, RMSE (train) = 0.035, RMSE (valid) = 0.120"
     ]
    },
    {
     "name": "stderr",
     "output_type": "stream",
     "text": [
      "[Parallel(n_jobs=-1)]: Done   1 out of   1 | elapsed:   39.0s remaining:    0.0s\n",
      "[Parallel(n_jobs=-1)]: Done   1 out of   1 | elapsed:   39.0s finished\n",
      "[Parallel(n_jobs=8)]: Done   4 out of  14 | elapsed:    3.7s remaining:    9.4s\n",
      "[Parallel(n_jobs=8)]: Done   8 out of  14 | elapsed:    3.8s remaining:    2.8s\n",
      "[Parallel(n_jobs=8)]: Done   1 out of  14 | elapsed:    3.8s remaining:   51.1s\n",
      "[Parallel(n_jobs=8)]: Done  12 out of  14 | elapsed:    6.9s remaining:    1.1s\n",
      "[Parallel(n_jobs=8)]: Done  14 out of  14 | elapsed:    7.0s finished\n",
      "[Parallel(n_jobs=8)]: Done   4 out of  14 | elapsed:    0.9s remaining:    2.3s\n",
      "[Parallel(n_jobs=8)]: Done   1 out of  14 | elapsed:    0.9s remaining:   13.1s\n",
      "[Parallel(n_jobs=8)]: Done   8 out of  14 | elapsed:    1.0s remaining:    0.7s\n",
      "[Parallel(n_jobs=8)]: Done  12 out of  14 | elapsed:    1.7s remaining:    0.2s\n",
      "[Parallel(n_jobs=8)]: Done  14 out of  14 | elapsed:    1.8s finished\n",
      "[Parallel(n_jobs=8)]: Done   4 out of  14 | elapsed:    3.8s remaining:    9.5s\n",
      "[Parallel(n_jobs=8)]: Done   8 out of  14 | elapsed:    3.8s remaining:    2.8s\n",
      "[Parallel(n_jobs=8)]: Done   1 out of  14 | elapsed:    3.8s remaining:   51.2s\n",
      "[Parallel(n_jobs=8)]: Done  12 out of  14 | elapsed:    6.8s remaining:    1.1s\n",
      "[Parallel(n_jobs=8)]: Done  14 out of  14 | elapsed:    7.0s finished\n",
      "[Parallel(n_jobs=8)]: Done   4 out of  14 | elapsed:    0.8s remaining:    2.2s\n",
      "[Parallel(n_jobs=8)]: Done   1 out of  14 | elapsed:    1.0s remaining:   14.0s\n",
      "[Parallel(n_jobs=8)]: Done   8 out of  14 | elapsed:    1.0s remaining:    0.8s\n",
      "[Parallel(n_jobs=8)]: Done  12 out of  14 | elapsed:    1.8s remaining:    0.2s\n",
      "[Parallel(n_jobs=8)]: Done  14 out of  14 | elapsed:    1.8s finished\n"
     ]
    },
    {
     "name": "stdout",
     "output_type": "stream",
     "text": [
      "\n",
      "building tree 1 of 1\n",
      " R^2 (train) = 0.291, R^2 (valid) = 0.063, RMSE (train) = 0.035, RMSE (valid) = 0.120"
     ]
    },
    {
     "name": "stderr",
     "output_type": "stream",
     "text": [
      "[Parallel(n_jobs=-1)]: Done   1 out of   1 | elapsed:   40.8s remaining:    0.0s\n",
      "[Parallel(n_jobs=-1)]: Done   1 out of   1 | elapsed:   40.8s finished\n",
      "[Parallel(n_jobs=8)]: Done   1 out of  15 | elapsed:    3.7s remaining:   52.7s\n",
      "[Parallel(n_jobs=8)]: Done   5 out of  15 | elapsed:    3.8s remaining:    7.6s\n",
      "[Parallel(n_jobs=8)]: Done   9 out of  15 | elapsed:    7.1s remaining:    4.7s\n",
      "[Parallel(n_jobs=8)]: Done  13 out of  15 | elapsed:    7.1s remaining:    1.0s\n",
      "[Parallel(n_jobs=8)]: Done  15 out of  15 | elapsed:    7.2s finished\n",
      "[Parallel(n_jobs=8)]: Done   5 out of  15 | elapsed:    1.0s remaining:    2.1s\n",
      "[Parallel(n_jobs=8)]: Done   1 out of  15 | elapsed:    1.0s remaining:   15.1s\n",
      "[Parallel(n_jobs=8)]: Done   9 out of  15 | elapsed:    1.8s remaining:    1.1s\n",
      "[Parallel(n_jobs=8)]: Done  13 out of  15 | elapsed:    1.9s remaining:    0.2s\n",
      "[Parallel(n_jobs=8)]: Done  15 out of  15 | elapsed:    1.9s finished\n",
      "[Parallel(n_jobs=8)]: Done   1 out of  15 | elapsed:    3.8s remaining:   54.4s\n",
      "[Parallel(n_jobs=8)]: Done   5 out of  15 | elapsed:    3.9s remaining:    7.9s\n",
      "[Parallel(n_jobs=8)]: Done  13 out of  15 | elapsed:    7.3s remaining:    1.0s\n",
      "[Parallel(n_jobs=8)]: Done   9 out of  15 | elapsed:    7.3s remaining:    4.9s\n",
      "[Parallel(n_jobs=8)]: Done  15 out of  15 | elapsed:    7.4s finished\n",
      "[Parallel(n_jobs=8)]: Done   5 out of  15 | elapsed:    1.0s remaining:    2.2s\n",
      "[Parallel(n_jobs=8)]: Done   1 out of  15 | elapsed:    1.1s remaining:   16.1s\n",
      "[Parallel(n_jobs=8)]: Done   9 out of  15 | elapsed:    1.8s remaining:    1.2s\n",
      "[Parallel(n_jobs=8)]: Done  13 out of  15 | elapsed:    1.9s remaining:    0.2s\n",
      "[Parallel(n_jobs=8)]: Done  15 out of  15 | elapsed:    1.9s finished\n"
     ]
    },
    {
     "name": "stdout",
     "output_type": "stream",
     "text": [
      "\n",
      "building tree 1 of 1\n",
      " R^2 (train) = 0.291, R^2 (valid) = 0.063, RMSE (train) = 0.035, RMSE (valid) = 0.120"
     ]
    },
    {
     "name": "stderr",
     "output_type": "stream",
     "text": [
      "[Parallel(n_jobs=-1)]: Done   1 out of   1 | elapsed:   41.1s remaining:    0.0s\n",
      "[Parallel(n_jobs=-1)]: Done   1 out of   1 | elapsed:   41.1s finished\n",
      "[Parallel(n_jobs=8)]: Done   8 out of  16 | elapsed:    3.8s remaining:    3.8s\n",
      "[Parallel(n_jobs=8)]: Done   1 out of  16 | elapsed:    3.9s remaining:  1.0min\n",
      "[Parallel(n_jobs=8)]: Done   3 out of  16 | elapsed:    4.1s remaining:   18.1s\n",
      "[Parallel(n_jobs=8)]: Done  13 out of  16 | elapsed:    7.5s remaining:    1.6s\n",
      "[Parallel(n_jobs=8)]: Done  16 out of  16 | elapsed:    7.5s finished\n",
      "[Parallel(n_jobs=8)]: Done   3 out of  16 | elapsed:    1.0s remaining:    4.6s\n",
      "[Parallel(n_jobs=8)]: Done   1 out of  16 | elapsed:    1.0s remaining:   16.1s\n",
      "[Parallel(n_jobs=8)]: Done   8 out of  16 | elapsed:    1.0s remaining:    1.0s\n",
      "[Parallel(n_jobs=8)]: Done  13 out of  16 | elapsed:    1.9s remaining:    0.4s\n",
      "[Parallel(n_jobs=8)]: Done  16 out of  16 | elapsed:    2.0s finished\n",
      "[Parallel(n_jobs=8)]: Done   3 out of  16 | elapsed:    3.7s remaining:   16.6s\n",
      "[Parallel(n_jobs=8)]: Done   8 out of  16 | elapsed:    3.8s remaining:    3.8s\n",
      "[Parallel(n_jobs=8)]: Done   1 out of  16 | elapsed:    3.9s remaining:   59.2s\n",
      "[Parallel(n_jobs=8)]: Done  13 out of  16 | elapsed:    7.4s remaining:    1.6s\n",
      "[Parallel(n_jobs=8)]: Done  16 out of  16 | elapsed:    7.5s finished\n",
      "[Parallel(n_jobs=8)]: Done   1 out of  16 | elapsed:    0.9s remaining:   15.1s\n",
      "[Parallel(n_jobs=8)]: Done   3 out of  16 | elapsed:    0.9s remaining:    4.4s\n",
      "[Parallel(n_jobs=8)]: Done   8 out of  16 | elapsed:    1.1s remaining:    1.1s\n",
      "[Parallel(n_jobs=8)]: Done  13 out of  16 | elapsed:    1.9s remaining:    0.4s\n",
      "[Parallel(n_jobs=8)]: Done  16 out of  16 | elapsed:    1.9s finished\n"
     ]
    },
    {
     "name": "stdout",
     "output_type": "stream",
     "text": [
      "\n",
      "building tree 1 of 1\n",
      " R^2 (train) = 0.291, R^2 (valid) = 0.065, RMSE (train) = 0.035, RMSE (valid) = 0.120"
     ]
    },
    {
     "name": "stderr",
     "output_type": "stream",
     "text": [
      "[Parallel(n_jobs=-1)]: Done   1 out of   1 | elapsed:   39.4s remaining:    0.0s\n",
      "[Parallel(n_jobs=-1)]: Done   1 out of   1 | elapsed:   39.4s finished\n",
      "[Parallel(n_jobs=8)]: Done   4 out of  17 | elapsed:    3.5s remaining:   11.7s\n",
      "[Parallel(n_jobs=8)]: Done   1 out of  17 | elapsed:    3.8s remaining:  1.0min\n",
      "[Parallel(n_jobs=8)]: Done   9 out of  17 | elapsed:    7.1s remaining:    6.3s\n",
      "[Parallel(n_jobs=8)]: Done  14 out of  17 | elapsed:    7.5s remaining:    1.5s\n",
      "[Parallel(n_jobs=8)]: Done  17 out of  17 | elapsed:    9.3s finished\n",
      "[Parallel(n_jobs=8)]: Done   4 out of  17 | elapsed:    0.8s remaining:    2.8s\n",
      "[Parallel(n_jobs=8)]: Done   1 out of  17 | elapsed:    1.0s remaining:   18.2s\n",
      "[Parallel(n_jobs=8)]: Done   9 out of  17 | elapsed:    1.8s remaining:    1.6s\n",
      "[Parallel(n_jobs=8)]: Done  14 out of  17 | elapsed:    1.9s remaining:    0.3s\n",
      "[Parallel(n_jobs=8)]: Done  17 out of  17 | elapsed:    2.4s finished\n",
      "[Parallel(n_jobs=8)]: Done   4 out of  17 | elapsed:    3.6s remaining:   11.8s\n",
      "[Parallel(n_jobs=8)]: Done   1 out of  17 | elapsed:    3.7s remaining:  1.0min\n",
      "[Parallel(n_jobs=8)]: Done   9 out of  17 | elapsed:    7.1s remaining:    6.3s\n",
      "[Parallel(n_jobs=8)]: Done  14 out of  17 | elapsed:    7.6s remaining:    1.5s\n",
      "[Parallel(n_jobs=8)]: Done  17 out of  17 | elapsed:    9.3s finished\n",
      "[Parallel(n_jobs=8)]: Done   4 out of  17 | elapsed:    0.9s remaining:    3.1s\n",
      "[Parallel(n_jobs=8)]: Done   1 out of  17 | elapsed:    1.2s remaining:   20.1s\n",
      "[Parallel(n_jobs=8)]: Done   9 out of  17 | elapsed:    1.8s remaining:    1.6s\n",
      "[Parallel(n_jobs=8)]: Done  14 out of  17 | elapsed:    2.1s remaining:    0.4s\n",
      "[Parallel(n_jobs=8)]: Done  17 out of  17 | elapsed:    2.4s finished\n"
     ]
    },
    {
     "name": "stdout",
     "output_type": "stream",
     "text": [
      "\n",
      "building tree 1 of 1\n",
      " R^2 (train) = 0.291, R^2 (valid) = 0.065, RMSE (train) = 0.035, RMSE (valid) = 0.120"
     ]
    },
    {
     "name": "stderr",
     "output_type": "stream",
     "text": [
      "[Parallel(n_jobs=-1)]: Done   1 out of   1 | elapsed:   39.1s remaining:    0.0s\n",
      "[Parallel(n_jobs=-1)]: Done   1 out of   1 | elapsed:   39.1s finished\n",
      "[Parallel(n_jobs=8)]: Done   1 out of  18 | elapsed:    3.9s remaining:  1.1min\n",
      "[Parallel(n_jobs=8)]: Done   5 out of  18 | elapsed:    4.0s remaining:   10.7s\n",
      "[Parallel(n_jobs=8)]: Done  10 out of  18 | elapsed:    7.6s remaining:    6.1s\n",
      "[Parallel(n_jobs=8)]: Done  15 out of  18 | elapsed:    7.9s remaining:    1.5s\n",
      "[Parallel(n_jobs=8)]: Done  18 out of  18 | elapsed:    9.8s finished\n",
      "[Parallel(n_jobs=8)]: Done   1 out of  18 | elapsed:    0.9s remaining:   16.8s\n",
      "[Parallel(n_jobs=8)]: Done   5 out of  18 | elapsed:    1.0s remaining:    2.7s\n",
      "[Parallel(n_jobs=8)]: Done  10 out of  18 | elapsed:    1.9s remaining:    1.5s\n",
      "[Parallel(n_jobs=8)]: Done  15 out of  18 | elapsed:    2.0s remaining:    0.3s\n",
      "[Parallel(n_jobs=8)]: Done  18 out of  18 | elapsed:    2.5s finished\n",
      "[Parallel(n_jobs=8)]: Done   5 out of  18 | elapsed:    3.9s remaining:   10.2s\n",
      "[Parallel(n_jobs=8)]: Done   1 out of  18 | elapsed:    3.9s remaining:  1.1min\n",
      "[Parallel(n_jobs=8)]: Done  10 out of  18 | elapsed:    7.5s remaining:    6.0s\n",
      "[Parallel(n_jobs=8)]: Done  15 out of  18 | elapsed:    7.9s remaining:    1.5s\n",
      "[Parallel(n_jobs=8)]: Done  18 out of  18 | elapsed:    9.8s finished\n",
      "[Parallel(n_jobs=8)]: Done   1 out of  18 | elapsed:    1.1s remaining:   19.8s\n",
      "[Parallel(n_jobs=8)]: Done   5 out of  18 | elapsed:    1.1s remaining:    2.9s\n",
      "[Parallel(n_jobs=8)]: Done  10 out of  18 | elapsed:    2.1s remaining:    1.6s\n",
      "[Parallel(n_jobs=8)]: Done  15 out of  18 | elapsed:    2.1s remaining:    0.3s\n",
      "[Parallel(n_jobs=8)]: Done  18 out of  18 | elapsed:    2.7s finished\n"
     ]
    },
    {
     "name": "stdout",
     "output_type": "stream",
     "text": [
      "\n",
      "building tree 1 of 1\n",
      " R^2 (train) = 0.291, R^2 (valid) = 0.065, RMSE (train) = 0.035, RMSE (valid) = 0.120"
     ]
    },
    {
     "name": "stderr",
     "output_type": "stream",
     "text": [
      "[Parallel(n_jobs=-1)]: Done   1 out of   1 | elapsed:   40.1s remaining:    0.0s\n",
      "[Parallel(n_jobs=-1)]: Done   1 out of   1 | elapsed:   40.1s finished\n",
      "[Parallel(n_jobs=8)]: Done   6 out of  19 | elapsed:    3.9s remaining:    8.6s\n",
      "[Parallel(n_jobs=8)]: Done   1 out of  19 | elapsed:    3.9s remaining:  1.2min\n",
      "[Parallel(n_jobs=8)]: Done  11 out of  19 | elapsed:    7.5s remaining:    5.5s\n",
      "[Parallel(n_jobs=8)]: Done  16 out of  19 | elapsed:    8.0s remaining:    1.4s\n",
      "[Parallel(n_jobs=8)]: Done  19 out of  19 | elapsed:   10.3s finished\n",
      "[Parallel(n_jobs=8)]: Done   6 out of  19 | elapsed:    1.1s remaining:    2.4s\n",
      "[Parallel(n_jobs=8)]: Done   1 out of  19 | elapsed:    1.1s remaining:   20.9s\n",
      "[Parallel(n_jobs=8)]: Done  11 out of  19 | elapsed:    2.1s remaining:    1.5s\n",
      "[Parallel(n_jobs=8)]: Done  16 out of  19 | elapsed:    2.3s remaining:    0.3s\n",
      "[Parallel(n_jobs=8)]: Done  19 out of  19 | elapsed:    2.8s finished\n",
      "[Parallel(n_jobs=8)]: Done   6 out of  19 | elapsed:    3.8s remaining:    8.4s\n",
      "[Parallel(n_jobs=8)]: Done   1 out of  19 | elapsed:    3.9s remaining:  1.2min\n",
      "[Parallel(n_jobs=8)]: Done  11 out of  19 | elapsed:    7.9s remaining:    5.8s\n",
      "[Parallel(n_jobs=8)]: Done  16 out of  19 | elapsed:    8.3s remaining:    1.5s\n",
      "[Parallel(n_jobs=8)]: Done  19 out of  19 | elapsed:   10.5s finished\n",
      "[Parallel(n_jobs=8)]: Done   1 out of  19 | elapsed:    0.9s remaining:   18.7s\n",
      "[Parallel(n_jobs=8)]: Done   6 out of  19 | elapsed:    1.1s remaining:    2.6s\n",
      "[Parallel(n_jobs=8)]: Done  11 out of  19 | elapsed:    2.2s remaining:    1.5s\n",
      "[Parallel(n_jobs=8)]: Done  16 out of  19 | elapsed:    2.3s remaining:    0.3s\n",
      "[Parallel(n_jobs=8)]: Done  19 out of  19 | elapsed:    2.8s finished\n"
     ]
    },
    {
     "name": "stdout",
     "output_type": "stream",
     "text": [
      "\n",
      "building tree 1 of 1\n",
      " R^2 (train) = 0.291, R^2 (valid) = 0.062, RMSE (train) = 0.035, RMSE (valid) = 0.120\n"
     ]
    }
   ],
   "source": [
    "reg = RandomForestRegressor(n_estimators=1, max_depth=20, n_jobs=-1, verbose=4, warm_start=True)\n",
    "for n in range(1,20):\n",
    "   reg.set_params(n_estimators=n)\n",
    "   reg.fit(X_train,y_train) #, sample_weight=pickup_count_train.values)\n",
    "   training_accuracy = reg.score(X_train, y_train)\n",
    "   valid_accuracy = reg.score(X_test, y_test)\n",
    "   rmsetrain = np.sqrt(mean_squared_error(reg.predict(X_train),y_train))\n",
    "   rmsevalid = np.sqrt(mean_squared_error(reg.predict(X_test),y_test))\n",
    "   print \" R^2 (train) = %0.3f, R^2 (valid) = %0.3f, RMSE (train) = %0.3f, RMSE (valid) = %0.3f\" % (training_accuracy, valid_accuracy, rmsetrain, rmsevalid)"
   ]
  },
  {
   "cell_type": "markdown",
   "metadata": {},
   "source": [
    "### Outcome\n",
    "\n",
    "The best RMSE value that we got was 0.120. In NYC each longitude is approx 53 miles & latitude is approx 69 miles (see reference below). This gives an **error range of 6.36 x 8.28 square miles**. So we do not have a great predictor here (but a great learning experience in modeling this problem)\n",
    "\n",
    "note: 1. We have not standardized lat & long in same scale - ideally this shd be done part of data prep. This would have given us a RMSE that we can apply properly to find exact error in distance.\n",
    "\n",
    "#### Reference [link](http://geography.about.com/library/faq/blqzdistancedegree.htm)\n",
    "Each degree of latitude is approximately 69 miles (111 kilometers) apart. The range varies (due to the earth's slightly ellipsoid shape) from 68.703 miles (110.567 km) at the equator to 69.407 (111.699 km) at the poles. \n",
    "A degree of longitude is widest at the equator at 69.172 miles (111.321) and gradually shrinks to zero at the poles. At 40° north or south the distance between a degree of longitude is 53 miles (85 km)."
   ]
  }
 ],
 "metadata": {
  "kernelspec": {
   "display_name": "Python 2",
   "language": "python",
   "name": "python2"
  },
  "language_info": {
   "codemirror_mode": {
    "name": "ipython",
    "version": 2
   },
   "file_extension": ".py",
   "mimetype": "text/x-python",
   "name": "python",
   "nbconvert_exporter": "python",
   "pygments_lexer": "ipython2",
   "version": "2.7.10"
  }
 },
 "nbformat": 4,
 "nbformat_minor": 0
}
