{
 "cells": [
  {
   "cell_type": "code",
   "execution_count": 1,
   "metadata": {
    "collapsed": true
   },
   "outputs": [],
   "source": [
    "import numpy as np\n",
    "import scipy as sp\n",
    "import pandas as pd\n",
    "from pyspark.sql import SQLContext\n",
    "from pyspark.sql.types import *\n",
    "\n",
    "from datetime import *\n",
    "from dateutil.parser import parse\n",
    "\n",
    "pd.set_option('display.width', 500)\n",
    "pd.set_option('display.max_columns', 100)\n",
    "pd.set_option('display.notebook_repr_html', True)"
   ]
  },
  {
   "cell_type": "code",
   "execution_count": 2,
   "metadata": {
    "collapsed": false
   },
   "outputs": [
    {
     "data": {
      "text/plain": [
       "<pyspark.context.SparkContext at 0x7f2c4cde4410>"
      ]
     },
     "execution_count": 2,
     "metadata": {},
     "output_type": "execute_result"
    }
   ],
   "source": [
    "sc"
   ]
  },
  {
   "cell_type": "markdown",
   "metadata": {},
   "source": [
    "## Contents\n",
    "\n",
    "#### 0. Prerequisites\n",
    "#### 1. Create the Schema\n",
    "#### 2. Functions to parse and cleanse\n",
    "#### 3. Create parsed & validated RDDs\n",
    "#### 4. Save clean csv files into s3\n",
    "#### 5. Create a dataframe and sanity check the whole process"
   ]
  },
  {
   "cell_type": "markdown",
   "metadata": {},
   "source": [
    "## 0. Prerequsites\n",
    "\n",
    "1. Setup the spark cluster\n",
    "2. Upload this notebook\n",
    "3. When you start pyspark, use the following command instead. This is required for loading the spark-csv framework used by data frames. This library is used in the last section for sanity checking.\n",
    ">pyspark --packages com.databricks:spark-csv_2.10:1.3.0"
   ]
  },
  {
   "cell_type": "markdown",
   "metadata": {},
   "source": [
    "## 1. Create the Schema (to be used in Dataframe)"
   ]
  },
  {
   "cell_type": "markdown",
   "metadata": {},
   "source": [
    "Note the difference between yellow and green cabs: Green cab data has extra fields\n",
    "\n",
    "1. Trip_type (indicating street hail or dispatched)\n",
    "2. ehail_fee\n",
    "\n",
    "**Yellow cab data header: ** 'VendorID,tpep_pickup_datetime,tpep_dropoff_datetime,passenger_count,trip_distance,pickup_longitude,pickup_latitude,RateCodeID,store_and_fwd_flag,dropoff_longitude,dropoff_latitude,payment_type,fare_amount,extra,mta_tax,tip_amount,tolls_amount,improvement_surcharge,total_amount'\n",
    "\n",
    "**Green cab data header: ** VendorID\tlpep_pickup_datetime\tLpep_dropoff_datetime\tStore_and_fwd_flag\tRateCodeID\tPickup_longitude\tPickup_latitude\tDropoff_longitude\tDropoff_latitude\tPassenger_count\tTrip_distance\tFare_amount\tExtra\tMTA_tax\tTip_amount\tTolls_amount\tEhail_fee\timprovement_surcharge\tTotal_amount\tPayment_type\tTrip_type "
   ]
  },
  {
   "cell_type": "markdown",
   "metadata": {},
   "source": [
    "#### 1. Yellow cab schema"
   ]
  },
  {
   "cell_type": "code",
   "execution_count": 3,
   "metadata": {
    "collapsed": false
   },
   "outputs": [
    {
     "name": "stdout",
     "output_type": "stream",
     "text": [
      "# of columns:  20\n"
     ]
    }
   ],
   "source": [
    "#yCabFnameToGetHeader = \"s3://testsetu/nyc/yellow_tripdata_2015-02.csv\"\n",
    "#yCabHeader = sc.textFile(yCabFnameToGetHeader).first()\n",
    "yCabHeader = \"cab_company,vendor_id,pickup_datetime,dropoff_datetime,passenger_count,trip_distance,pickup_longitude,pickup_latitude,rate_code_id,store_and_fwd_flag,dropoff_longitude,dropoff_latitude,payment_type,fare_amount,extra,mta_tax,tip_amount,tolls_amount,improvement_surcharge,total_amount\"\n",
    "\n",
    "#schemaString = header\n",
    "fields = [StructField(field_name, StringType(), True) for field_name in yCabHeader.split(',')]\n",
    "print \"# of columns: \", len(fields)\n",
    "\n",
    "#cab_company: StringType (i.e. no change reqd)\n",
    "\n",
    "#vendor_id: StringType (i.e. no change reqd)\n",
    "\n",
    "#tpep_pickup_datetime\n",
    "fields[2].dataType = TimestampType()\n",
    "\n",
    "#tpep_dropoff_datetime\n",
    "fields[3].dataType = TimestampType()\n",
    "\n",
    "#passenger_count\n",
    "fields[4].dataType = IntegerType()\n",
    "\n",
    "#trip_distance\n",
    "fields[5].dataType = FloatType()\n",
    "\n",
    "#pickup_longitude\n",
    "fields[6].dataType = FloatType()\n",
    "\n",
    "#pickup_latitude\n",
    "fields[7].dataType = FloatType()\n",
    "\n",
    "#RateCodeID: StringType (i.e. no change reqd)\n",
    "#store_and_fwd_flag: StringType (i.e. no change reqd)\n",
    "\n",
    "#dropoff_longitude\n",
    "fields[10].dataType = FloatType()\n",
    "\n",
    "#dropoff_latitude\n",
    "fields[11].dataType = FloatType()\n",
    "\n",
    "#payment_type : StringType (i.e. no change reqd)\n",
    "\n",
    "#fare_amount\n",
    "fields[13].dataType = FloatType()\n",
    "\n",
    "#extra\n",
    "fields[14].dataType = FloatType()\n",
    "\n",
    "#mta_tax\n",
    "fields[15].dataType = FloatType()\n",
    "\n",
    "#tip_amount\n",
    "fields[16].dataType = FloatType()\n",
    "\n",
    "#tolls_amount\n",
    "fields[17].dataType = FloatType()\n",
    "\n",
    "#improvement_surcharge\n",
    "fields[18].dataType = FloatType()\n",
    "\n",
    "#total_amount\n",
    "fields[19].dataType = FloatType()\n",
    "\n",
    "yCabSchema = StructType(fields)"
   ]
  },
  {
   "cell_type": "markdown",
   "metadata": {},
   "source": [
    "#### 2. Green cab schema"
   ]
  },
  {
   "cell_type": "code",
   "execution_count": 4,
   "metadata": {
    "collapsed": false
   },
   "outputs": [
    {
     "name": "stdout",
     "output_type": "stream",
     "text": [
      "# of columns:  22\n"
     ]
    }
   ],
   "source": [
    "gCabHeader = \"cab_company,vendor_id,pickup_datetime,dropoff_datetime,store_and_fwd_flag,rate_code_id,pickup_longitude,pickup_latitude,dropoff_longitude,dropoff_latitude,passenger_count,trip_distance,fare_amount,extra,mta_tax,tip_amount,tolls_amount,ehail_fee,improvement_surcharge,total_amount,payment_type,trip_type\"\n",
    "\n",
    "#schemaString = header\n",
    "fields = [StructField(field_name, StringType(), True) for field_name in gCabHeader.split(',')]\n",
    "print \"# of columns: \", len(fields)\n",
    "\n",
    "#cab_company: StringType (i.e. no change reqd)\n",
    "\n",
    "#vendor_id: StringType (i.e. no change reqd)\n",
    "\n",
    "#pickup_datetime\n",
    "fields[2].dataType = TimestampType()\n",
    "\n",
    "#dropoff_datetime: \n",
    "fields[3].dataType = TimestampType()\n",
    "\n",
    "#store_and_fwd_flag: StringType (i.e. no change reqd): 4\n",
    "\n",
    "#rate_code_id: StringType (i.e. no change reqd): 5\n",
    "\n",
    "#pickup_longitude\n",
    "fields[6].dataType = FloatType()\n",
    "\n",
    "#pickup_latitude\n",
    "fields[7].dataType = FloatType()\n",
    "\n",
    "#dropoff_longitude\n",
    "fields[8].dataType = FloatType()\n",
    "\n",
    "#dropoff_longitude\n",
    "fields[9].dataType = FloatType()\n",
    "\n",
    "#passenger_count\n",
    "fields[10].dataType = IntegerType()\n",
    "\n",
    "#trip_distance\n",
    "fields[11].dataType = FloatType()\n",
    "\n",
    "#fare_amount\n",
    "fields[12].dataType = FloatType()\n",
    "\n",
    "#extra\n",
    "fields[13].dataType = FloatType()\n",
    "\n",
    "#mta_tax\n",
    "fields[14].dataType = FloatType()\n",
    "\n",
    "#tip_amount\n",
    "fields[15].dataType = FloatType()\n",
    "\n",
    "#tolls_amount\n",
    "fields[16].dataType = FloatType()\n",
    "\n",
    "#ehail_fee\n",
    "fields[17].dataType = FloatType()\n",
    "\n",
    "#improvement_surcharge\n",
    "fields[18].dataType = FloatType()\n",
    "\n",
    "#total_amount\n",
    "fields[19].dataType = FloatType()\n",
    "\n",
    "#payment_type: StringType (i.e. no change reqd)\n",
    "\n",
    "#trip_type: StringType (i.e. no change reqd)\n",
    "\n",
    "gCabSchema = StructType(fields)"
   ]
  },
  {
   "cell_type": "markdown",
   "metadata": {},
   "source": [
    "### 2. Functions to Parse & Cleanse the data"
   ]
  },
  {
   "cell_type": "code",
   "execution_count": 5,
   "metadata": {
    "collapsed": false
   },
   "outputs": [],
   "source": [
    "def parseDateWithErrorHandling(dateTimeStr):\n",
    "    \n",
    "    parsedDateTime = None\n",
    "    \n",
    "    try:\n",
    "        if (dateTimeStr is None) or (dateTimeStr == \"\"):\n",
    "            return None        \n",
    "        parsedDateTime = parse(dateTimeStr)\n",
    "    except:\n",
    "        return None\n",
    "\n",
    "    return parsedDateTime\n",
    "\n",
    "def parseIntWithErrorHandling(intStr):\n",
    "    parsedInt = None    \n",
    "    try:\n",
    "        if intStr is None:\n",
    "            return None        \n",
    "        parsedInt = int(intStr)\n",
    "    except:\n",
    "        return None\n",
    "\n",
    "    return parsedInt\n",
    "\n",
    "def parseFloatWithErrorHandling(floatStr):\n",
    "    parsedFloat = None    \n",
    "    try:\n",
    "        if floatStr is None:\n",
    "            return None        \n",
    "        parsedFloat = float(floatStr)\n",
    "    except:\n",
    "        return None\n",
    "\n",
    "    return parsedFloat"
   ]
  },
  {
   "cell_type": "markdown",
   "metadata": {},
   "source": [
    "#### 2.1 Parse Yellow Cab Data"
   ]
  },
  {
   "cell_type": "markdown",
   "metadata": {},
   "source": [
    "##### Issues with Yellow Cab data\n",
    "\n",
    "The older records (2014 and earlier) seems to be MISSING the improvement_surcharge. **This has been fixed in the below code. **"
   ]
  },
  {
   "cell_type": "code",
   "execution_count": 7,
   "metadata": {
    "collapsed": false
   },
   "outputs": [],
   "source": [
    "#Mandatory elements: pickup date, dropoff date and the lat/long for pickup/drop off: if these are empty then return None\n",
    "#other elements are can be empty\n",
    "def parseYellowCabLine(line):\n",
    "    \n",
    "    try:\n",
    "        elements = line.split(\",\")\n",
    "    except:\n",
    "        return None\n",
    "    \n",
    "    newRecordFormat = False\n",
    "    \n",
    "    if len(elements) == 19:\n",
    "        newRecordFormat = True\n",
    "    elif len(elements) == 18:\n",
    "        newRecordFormat = False\n",
    "    else:\n",
    "        return None        \n",
    "    \n",
    "    parsedElements = []\n",
    "    \n",
    "    #Cab company: Yellow or Green\n",
    "    parsedElements.append(\"Y\")\n",
    "        \n",
    "    #VendorID: StringType (i.e. no change reqd)\n",
    "    #If it is a header record, then we skip it (Starts with \"VendorId\")\n",
    "    item = str(elements[0])\n",
    "    if item.startswith('Vendor') is False:        \n",
    "         parsedElements.append(elements[0])\n",
    "    else:\n",
    "        return None\n",
    "        \n",
    "    #tpep_pickup_datetime\n",
    "    pickupDateTime = parseDateWithErrorHandling(elements[1])\n",
    "    if pickupDateTime is None:\n",
    "        return None    \n",
    "    parsedElements.append(pickupDateTime)\n",
    "\n",
    "    #tpep_dropoff_datetime\n",
    "    dropoffDateTime = parseDateWithErrorHandling(elements[2])\n",
    "    if dropoffDateTime is None:\n",
    "        return None    \n",
    "    parsedElements.append(dropoffDateTime)    \n",
    "    \n",
    "    #passenger_count\n",
    "    item =  parseIntWithErrorHandling(elements[3])\n",
    "    if (item is None):\n",
    "        item = 0\n",
    "    parsedElements.append(item)    \n",
    "\n",
    "    #trip_distance\n",
    "    item =  parseFloatWithErrorHandling(elements[4])    \n",
    "    if (item is None):\n",
    "        item = 0.0\n",
    "    parsedElements.append(item)    \n",
    "\n",
    "    #pickup_longitude\n",
    "    item =  parseFloatWithErrorHandling(elements[5])\n",
    "    if (item is None) or (item == 0):\n",
    "        return None\n",
    "    parsedElements.append(item)\n",
    "\n",
    "    #pickup_latitude\n",
    "    item =  parseFloatWithErrorHandling(elements[6])\n",
    "    if (item is None) or (item == 0):\n",
    "        return None\n",
    "    parsedElements.append(item)\n",
    "        \n",
    "    #RateCodeID: StringType (i.e. no change reqd)  \n",
    "    parsedElements.append(elements[7]) \n",
    "    \n",
    "    #store_and_fwd_flag: StringType (i.e. no change reqd)\n",
    "    parsedElements.append(elements[8]) \n",
    "\n",
    "    #dropoff_longitude\n",
    "    item =  parseFloatWithErrorHandling(elements[9])\n",
    "    if (item is None) or (item == 0):\n",
    "        return None\n",
    "    parsedElements.append(item)\n",
    "\n",
    "    #dropoff_latitude\n",
    "    item =  parseFloatWithErrorHandling(elements[10])\n",
    "    if (item is None) or (item == 0):\n",
    "        return None\n",
    "    parsedElements.append(item)\n",
    "\n",
    "    #payment_type    \n",
    "    parsedElements.append(elements[11])\n",
    "\n",
    "    #fare_amount\n",
    "    item =  parseFloatWithErrorHandling(elements[12])\n",
    "    if (item is None):\n",
    "        item = 0.0\n",
    "    parsedElements.append(item)\n",
    "\n",
    "    #extra\n",
    "    item =  parseFloatWithErrorHandling(elements[13])    \n",
    "    if (item is None):\n",
    "        item = 0.0\n",
    "    parsedElements.append(item)\n",
    "\n",
    "    #mta_tax\n",
    "    item =  parseFloatWithErrorHandling(elements[14])    \n",
    "    if (item is None):\n",
    "        item = 0.0\n",
    "    parsedElements.append(item)\n",
    "\n",
    "    #tip_amount\n",
    "    item =  parseFloatWithErrorHandling(elements[15])    \n",
    "    if (item is None):\n",
    "        item = 0.0\n",
    "    parsedElements.append(item)\n",
    "\n",
    "    #tolls_amount\n",
    "    item =  parseFloatWithErrorHandling(elements[16])    \n",
    "    if (item is None):\n",
    "        item = 0.0\n",
    "    parsedElements.append(item)\n",
    "\n",
    "    #improvement_surcharge\n",
    "    if (newRecordFormat):\n",
    "        item =  parseFloatWithErrorHandling(elements[17])\n",
    "        if (item is None):\n",
    "            item = 0.0\n",
    "        parsedElements.append(item)\n",
    "\n",
    "    #total_amount\n",
    "    if (newRecordFormat):\n",
    "        item =  parseFloatWithErrorHandling(elements[18])    \n",
    "    else:\n",
    "        item =  parseFloatWithErrorHandling(elements[17])\n",
    "    if (item is None):\n",
    "        item = 0.0\n",
    "    parsedElements.append(item)\n",
    "    \n",
    "    return parsedElements"
   ]
  },
  {
   "cell_type": "markdown",
   "metadata": {},
   "source": [
    "#### 2.2 Parse Green Cab Data"
   ]
  },
  {
   "cell_type": "markdown",
   "metadata": {},
   "source": [
    "**Issues with Green Cab data**\n",
    "\n",
    "1. Some old records seem to have **lat/long as zero**. These records will be **skipped** in the parse/cleanse belpw\n",
    "2. The newer records (2015 onwards) has an extra empty column - this will be ignored\n",
    "3. The pickup/dropoff date time seems to be inconsistent for many records: example: (2013-10-01 00:00:00, 2013-10-01 09:05:05).\n",
    "    **Notice the high duration?**\n",
    "\n",
    "**The issues (1) and (2) are addressed in the code below - issue (3) needs to be handled during analysis**"
   ]
  },
  {
   "cell_type": "code",
   "execution_count": 8,
   "metadata": {
    "collapsed": true
   },
   "outputs": [],
   "source": [
    "#Mandatory elements: pickup date, dropoff date and the lat/long for pickup/drop off: if these are empty then return None\n",
    "#other elements are can be empty\n",
    "def parseGreenCabLine(line):\n",
    "    \n",
    "    try:\n",
    "        elements = line.split(\",\")\n",
    "    except:\n",
    "        return None\n",
    "    \n",
    "    if len(elements) < 21:\n",
    "        return None\n",
    "    \n",
    "    parsedElements = []\n",
    "    #Cab company: Yellow or Green\n",
    "    parsedElements.append(\"G\") \n",
    "            \n",
    "    #VendorID: StringType (i.e. no change reqd)\n",
    "    #If it is a header record, then we skip it (Starts with \"VendorId\")\n",
    "    item = str(elements[0])\n",
    "    if item.startswith('Vendor') is False:        \n",
    "         parsedElements.append(elements[0])\n",
    "    else:\n",
    "        return None\n",
    "        \n",
    "    #tpep_pickup_datetime\n",
    "    pickupDateTime = parseDateWithErrorHandling(elements[1])\n",
    "    if pickupDateTime is None:\n",
    "        return None    \n",
    "    parsedElements.append(pickupDateTime)\n",
    "\n",
    "    #tpep_dropoff_datetime\n",
    "    dropoffDateTime = parseDateWithErrorHandling(elements[2])\n",
    "    if dropoffDateTime is None:\n",
    "        return None    \n",
    "    parsedElements.append(dropoffDateTime)    \n",
    "    \n",
    "    #store_and_fwd_flag: StringType (i.e. no change reqd)\n",
    "    parsedElements.append(elements[3])\n",
    "    \n",
    "    #RateCodeID: StringType (i.e. no change reqd)  \n",
    "    parsedElements.append(elements[4])\n",
    "    \n",
    "     #pickup_longitude\n",
    "    item =  parseFloatWithErrorHandling(elements[5])\n",
    "    if (item is None) or (item == 0):\n",
    "        return None\n",
    "    parsedElements.append(item)\n",
    "\n",
    "    #pickup_latitude\n",
    "    item =  parseFloatWithErrorHandling(elements[6])\n",
    "    if (item is None) or (item == 0):\n",
    "        return None\n",
    "    parsedElements.append(item)\n",
    "    \n",
    "    #dropoff_longitude\n",
    "    item =  parseFloatWithErrorHandling(elements[7])\n",
    "    if (item is None) or (item == 0):\n",
    "        return None\n",
    "    parsedElements.append(item)\n",
    "\n",
    "    #dropoff_latitude\n",
    "    item =  parseFloatWithErrorHandling(elements[8])\n",
    "    if (item is None) or (item == 0):\n",
    "        return None\n",
    "    parsedElements.append(item)\n",
    "    \n",
    "    #passenger_count\n",
    "    item =  parseIntWithErrorHandling(elements[9])\n",
    "    if (item is None):\n",
    "        item = 0\n",
    "    parsedElements.append(item)    \n",
    "\n",
    "    #trip_distance\n",
    "    item =  parseFloatWithErrorHandling(elements[10])    \n",
    "    if (item is None):\n",
    "        item = 0.0\n",
    "    parsedElements.append(item)    \n",
    "\n",
    "    #fare_amount\n",
    "    item =  parseFloatWithErrorHandling(elements[11])    \n",
    "    if (item is None):\n",
    "        item = 0.0\n",
    "    parsedElements.append(item)\n",
    "\n",
    "    #extra\n",
    "    item =  parseFloatWithErrorHandling(elements[12])    \n",
    "    if (item is None):\n",
    "        item = 0.0\n",
    "    parsedElements.append(item)\n",
    "\n",
    "    #mta_tax\n",
    "    item =  parseFloatWithErrorHandling(elements[13])    \n",
    "    if (item is None):\n",
    "        item = 0.0\n",
    "    parsedElements.append(item)\n",
    "\n",
    "    #tip_amount\n",
    "    item =  parseFloatWithErrorHandling(elements[14])    \n",
    "    if (item is None):\n",
    "        item = 0.0\n",
    "    parsedElements.append(item)\n",
    "\n",
    "    #tolls_amount\n",
    "    item =  parseFloatWithErrorHandling(elements[15])    \n",
    "    if (item is None):\n",
    "        item = 0.0\n",
    "    parsedElements.append(item)\n",
    "    \n",
    "    #ehail_fee\n",
    "    item =  parseFloatWithErrorHandling(elements[16])    \n",
    "    if (item is None):\n",
    "        item = 0.0\n",
    "    parsedElements.append(item)\n",
    "    \n",
    "    #improvement_surcharge\n",
    "    item =  parseFloatWithErrorHandling(elements[17])    \n",
    "    if (item is None):\n",
    "        item = 0.0\n",
    "    parsedElements.append(item)\n",
    "\n",
    "    #total_amount\n",
    "    item =  parseFloatWithErrorHandling(elements[18])    \n",
    "    if (item is None):\n",
    "        item = 0.0\n",
    "    parsedElements.append(item)       \n",
    "\n",
    "    #payment_type    \n",
    "    parsedElements.append(elements[19])\n",
    "    \n",
    "    #trip_type    \n",
    "    parsedElements.append(elements[20])\n",
    "    \n",
    "    return parsedElements"
   ]
  },
  {
   "cell_type": "markdown",
   "metadata": {},
   "source": [
    "## 3. Create parsed/validated RDDs"
   ]
  },
  {
   "cell_type": "markdown",
   "metadata": {},
   "source": [
    "### 3.1 Parse Yellow Cab"
   ]
  },
  {
   "cell_type": "code",
   "execution_count": 7,
   "metadata": {
    "collapsed": false
   },
   "outputs": [
    {
     "data": {
      "text/plain": [
       "415400276"
      ]
     },
     "execution_count": 7,
     "metadata": {},
     "output_type": "execute_result"
    }
   ],
   "source": [
    "#Raw count: for info purpose only\n",
    "#sc.textFile(\"s3://testsetu/nyc/yellow/*\").count()"
   ]
  },
  {
   "cell_type": "code",
   "execution_count": 63,
   "metadata": {
    "collapsed": false
   },
   "outputs": [
    {
     "name": "stdout",
     "output_type": "stream",
     "text": [
      "Yellow cab: Number of parsed & clean records =  415396639\n",
      "CPU times: user 492 ms, sys: 160 ms, total: 652 ms\n",
      "Wall time: 1h 43min 43s\n"
     ]
    }
   ],
   "source": [
    "yCabRDD = sc.textFile(\"s3://testsetu/nyc/yellow/*\")\n",
    "yCabParsedRDD = yCabRDD.map(lambda line: parseYellowCabLine(line)).filter(lambda x: x is not None)\n",
    "#count after parsing\n",
    "\n",
    "#Number of clean records\n",
    "%time print \"Yellow cab: Number of parsed & clean records = \", yCabParsedRDD.count()"
   ]
  },
  {
   "cell_type": "code",
   "execution_count": 83,
   "metadata": {
    "collapsed": false
   },
   "outputs": [
    {
     "name": "stdout",
     "output_type": "stream",
     "text": [
      "Number of dirty Yellow Cab records =  3637\n"
     ]
    }
   ],
   "source": [
    "print \"Number of dirty Yellow Cab records = \", 415400276- 415396639"
   ]
  },
  {
   "cell_type": "code",
   "execution_count": 62,
   "metadata": {
    "collapsed": false
   },
   "outputs": [
    {
     "name": "stdout",
     "output_type": "stream",
     "text": [
      "[[u'2', datetime.datetime(2015, 1, 15, 19, 5, 39), datetime.datetime(2015, 1, 15, 19, 23, 42), 1, 1.59, -73.993896484375, 40.7501106262207, u'1', u'N', -73.97478485107422, 40.75061798095703, 1.0, 12.0, 1.0, 0.5, 3.25, 0.0, 0.3, 17.05], [u'1', datetime.datetime(2015, 1, 10, 20, 33, 38), datetime.datetime(2015, 1, 10, 20, 53, 28), 1, 3.3, -74.00164794921875, 40.7242431640625, u'1', u'N', -73.99441528320312, 40.75910949707031, 1.0, 14.5, 0.5, 0.5, 2.0, 0.0, 0.3, 17.8]]\n"
     ]
    }
   ],
   "source": [
    "print yCabParsedRDD.take(2)"
   ]
  },
  {
   "cell_type": "code",
   "execution_count": null,
   "metadata": {
    "collapsed": true
   },
   "outputs": [],
   "source": [
    "# Save the cleaned data\n",
    "yCabParsedRDD.saveAsTextFile(\"s3://testsetu/nyc/final/yellow/\")"
   ]
  },
  {
   "cell_type": "markdown",
   "metadata": {},
   "source": [
    "### 3.2 Sanity tests on smaller data sets (Yellow Cab): To ensure we are not skipping good records"
   ]
  },
  {
   "cell_type": "markdown",
   "metadata": {},
   "source": [
    "##### Test on a file from 2015"
   ]
  },
  {
   "cell_type": "code",
   "execution_count": 60,
   "metadata": {
    "collapsed": false
   },
   "outputs": [
    {
     "name": "stdout",
     "output_type": "stream",
     "text": [
      "Raw count for small dataset (without header):  12748986\n"
     ]
    }
   ],
   "source": [
    "ySmallRDD = sc.textFile(\"s3://testsetu/nyc/yellow/yellow_tripdata_2015-01.csv\")\n",
    "print \"Raw count for small dataset (without header): \", ySmallRDD.count() - 1"
   ]
  },
  {
   "cell_type": "code",
   "execution_count": 61,
   "metadata": {
    "collapsed": false
   },
   "outputs": [
    {
     "name": "stdout",
     "output_type": "stream",
     "text": [
      "Parsed/Cleaned count:  12748986\n"
     ]
    }
   ],
   "source": [
    "ySmallParsedRDD = ySmallRDD.map(lambda line: parseYellowCabLine(line)).filter(lambda x: x is not None)\n",
    "print \"Parsed/Cleaned count: \", ySmallParsedRDD.count()"
   ]
  },
  {
   "cell_type": "code",
   "execution_count": 62,
   "metadata": {
    "collapsed": false
   },
   "outputs": [
    {
     "data": {
      "text/plain": [
       "[['Y',\n",
       "  u'2',\n",
       "  datetime.datetime(2015, 1, 15, 19, 5, 39),\n",
       "  datetime.datetime(2015, 1, 15, 19, 23, 42),\n",
       "  1,\n",
       "  1.59,\n",
       "  -73.993896484375,\n",
       "  40.7501106262207,\n",
       "  u'1',\n",
       "  u'N',\n",
       "  -73.97478485107422,\n",
       "  40.75061798095703,\n",
       "  u'1',\n",
       "  12.0,\n",
       "  1.0,\n",
       "  0.5,\n",
       "  3.25,\n",
       "  0.0,\n",
       "  0.3,\n",
       "  17.05],\n",
       " ['Y',\n",
       "  u'1',\n",
       "  datetime.datetime(2015, 1, 10, 20, 33, 38),\n",
       "  datetime.datetime(2015, 1, 10, 20, 53, 28),\n",
       "  1,\n",
       "  3.3,\n",
       "  -74.00164794921875,\n",
       "  40.7242431640625,\n",
       "  u'1',\n",
       "  u'N',\n",
       "  -73.99441528320312,\n",
       "  40.75910949707031,\n",
       "  u'1',\n",
       "  14.5,\n",
       "  0.5,\n",
       "  0.5,\n",
       "  2.0,\n",
       "  0.0,\n",
       "  0.3,\n",
       "  17.8]]"
      ]
     },
     "execution_count": 62,
     "metadata": {},
     "output_type": "execute_result"
    }
   ],
   "source": [
    "ySmallParsedRDD.take(2)"
   ]
  },
  {
   "cell_type": "markdown",
   "metadata": {},
   "source": [
    "##### Test on a file from 2013"
   ]
  },
  {
   "cell_type": "code",
   "execution_count": 51,
   "metadata": {
    "collapsed": false
   },
   "outputs": [
    {
     "name": "stdout",
     "output_type": "stream",
     "text": [
      "Raw count for small dataset (without header):  14776616\n"
     ]
    }
   ],
   "source": [
    "ySmallRDD = sc.textFile(\"s3://testsetu/nyc/yellow/yellow_tripdata_2013-01.csv\")\n",
    "print \"Raw count for small dataset (without header): \", ySmallRDD.count() - 1"
   ]
  },
  {
   "cell_type": "code",
   "execution_count": 58,
   "metadata": {
    "collapsed": false
   },
   "outputs": [
    {
     "name": "stdout",
     "output_type": "stream",
     "text": [
      "Parsed/Cleaned count:  14776529\n"
     ]
    }
   ],
   "source": [
    "ySmallParsedRDD = ySmallRDD.map(lambda line: parseYellowCabLine(line)).filter(lambda x: x is not None)\n",
    "print \"Parsed/Cleaned count: \", ySmallParsedRDD.count()"
   ]
  },
  {
   "cell_type": "code",
   "execution_count": 59,
   "metadata": {
    "collapsed": false
   },
   "outputs": [
    {
     "data": {
      "text/plain": [
       "[['Y',\n",
       "  u'CMT',\n",
       "  datetime.datetime(2013, 1, 1, 15, 11, 48),\n",
       "  datetime.datetime(2013, 1, 1, 15, 18, 10),\n",
       "  4,\n",
       "  1.0,\n",
       "  -73.978165,\n",
       "  40.757977,\n",
       "  u'1',\n",
       "  u'N',\n",
       "  -73.98984,\n",
       "  40.751173,\n",
       "  u'CSH',\n",
       "  6.5,\n",
       "  0.0,\n",
       "  0.5,\n",
       "  0.0,\n",
       "  0.0,\n",
       "  7.0],\n",
       " ['Y',\n",
       "  u'CMT',\n",
       "  datetime.datetime(2013, 1, 6, 0, 18, 35),\n",
       "  datetime.datetime(2013, 1, 6, 0, 22, 54),\n",
       "  1,\n",
       "  1.5,\n",
       "  -74.00668,\n",
       "  40.731781,\n",
       "  u'1',\n",
       "  u'N',\n",
       "  -73.994499,\n",
       "  40.750659,\n",
       "  u'CSH',\n",
       "  6.0,\n",
       "  0.5,\n",
       "  0.5,\n",
       "  0.0,\n",
       "  0.0,\n",
       "  7.0]]"
      ]
     },
     "execution_count": 59,
     "metadata": {},
     "output_type": "execute_result"
    }
   ],
   "source": [
    "ySmallParsedRDD.take(2)"
   ]
  },
  {
   "cell_type": "markdown",
   "metadata": {},
   "source": [
    "### 3.3 Parse Green Cab"
   ]
  },
  {
   "cell_type": "code",
   "execution_count": 69,
   "metadata": {
    "collapsed": false
   },
   "outputs": [
    {
     "name": "stdout",
     "output_type": "stream",
     "text": [
      "Raw count of all green cab records: 26943879\n"
     ]
    }
   ],
   "source": [
    "#Raw count: for info purpose only\n",
    "print \"Raw count of all green cab records:\" , sc.textFile(\"s3://testsetu/nyc/green/*\").count()"
   ]
  },
  {
   "cell_type": "code",
   "execution_count": 9,
   "metadata": {
    "collapsed": false
   },
   "outputs": [
    {
     "name": "stdout",
     "output_type": "stream",
     "text": [
      "Green cab: Number of parsed & clean records =  26869879\n",
      "CPU times: user 44 ms, sys: 20 ms, total: 64 ms\n",
      "Wall time: 7min 41s\n"
     ]
    }
   ],
   "source": [
    "gCabRDD = sc.textFile(\"s3://testsetu/nyc/green/*\")\n",
    "gCabParsedRDD = gCabRDD.map(lambda line: parseGreenCabLine(line)).filter(lambda x: x is not None)\n",
    "#count after parsing\n",
    "\n",
    "#Number of clean records\n",
    "%time print \"Green cab: Number of parsed & clean records = \", gCabParsedRDD.count()"
   ]
  },
  {
   "cell_type": "code",
   "execution_count": 84,
   "metadata": {
    "collapsed": false
   },
   "outputs": [
    {
     "name": "stdout",
     "output_type": "stream",
     "text": [
      "Number of dirty Green Cab records =  74000\n"
     ]
    }
   ],
   "source": [
    "print \"Number of dirty Green Cab records = \", 26943879 - 26869879"
   ]
  },
  {
   "cell_type": "code",
   "execution_count": 94,
   "metadata": {
    "collapsed": false
   },
   "outputs": [],
   "source": [
    "#Sanity check the saved file\n",
    "#gSavedFileRDD = sc.textFile(\"s3://testsetu/nyc/final/green/final-green.csv/part-00000\")\n",
    "#gParsedSavedFileRDD = gSavedFileRDD.map(lambda line: parseGreenCabLine(line)).filter(lambda x: x is not None)\n",
    "#gParsedSavedFileRDD.count()\n",
    "\n",
    "#gCabDF = sqlContext.read.format('com.databricks.spark.csv').options( mode=\"DROPMALFORMED\", header='false').load('s3://testsetu/nyc/yellow_tripdata_2015-02.csv', schema = yCabSchema)\n"
   ]
  },
  {
   "cell_type": "markdown",
   "metadata": {},
   "source": [
    "### 3.4 Sanity tests on smaller data sets (Green Cab): To ensure we are not skipping good records"
   ]
  },
  {
   "cell_type": "markdown",
   "metadata": {},
   "source": [
    "##### Test on a file from 2015"
   ]
  },
  {
   "cell_type": "code",
   "execution_count": 70,
   "metadata": {
    "collapsed": false
   },
   "outputs": [
    {
     "name": "stdout",
     "output_type": "stream",
     "text": [
      "Raw count for small dataset (without header):  1508501\n"
     ]
    }
   ],
   "source": [
    "gSmallRDD = sc.textFile(\"s3://testsetu/nyc/green/green_tripdata_2015-01.csv\")\n",
    "print \"Raw count for small dataset (without header): \", gSmallRDD.count() - 1"
   ]
  },
  {
   "cell_type": "code",
   "execution_count": 76,
   "metadata": {
    "collapsed": false
   },
   "outputs": [
    {
     "name": "stdout",
     "output_type": "stream",
     "text": [
      "Parsed/Cleaned count:  1504083\n"
     ]
    }
   ],
   "source": [
    "gSmallParsedRDD = gSmallRDD.map(lambda line: parseGreenCabLine(line)).filter(lambda x: x is not None)\n",
    "print \"Parsed/Cleaned count: \", gSmallParsedRDD.count()"
   ]
  },
  {
   "cell_type": "code",
   "execution_count": 77,
   "metadata": {
    "collapsed": false
   },
   "outputs": [
    {
     "data": {
      "text/plain": [
       "[['G',\n",
       "  u'2',\n",
       "  datetime.datetime(2015, 1, 1, 0, 34, 42),\n",
       "  datetime.datetime(2015, 1, 1, 0, 38, 34),\n",
       "  u'N',\n",
       "  u'1',\n",
       "  -73.92259216308594,\n",
       "  40.7545280456543,\n",
       "  -73.91363525390625,\n",
       "  40.76552200317383,\n",
       "  1,\n",
       "  0.88,\n",
       "  5.0,\n",
       "  0.5,\n",
       "  0.5,\n",
       "  0.0,\n",
       "  0.0,\n",
       "  None,\n",
       "  0.3,\n",
       "  6.3,\n",
       "  u'2',\n",
       "  u'1'],\n",
       " ['G',\n",
       "  u'2',\n",
       "  datetime.datetime(2015, 1, 1, 0, 34, 46),\n",
       "  datetime.datetime(2015, 1, 1, 0, 47, 23),\n",
       "  u'N',\n",
       "  u'1',\n",
       "  -73.95275115966797,\n",
       "  40.677711486816406,\n",
       "  -73.98152923583984,\n",
       "  40.65897750854492,\n",
       "  1,\n",
       "  3.08,\n",
       "  12.0,\n",
       "  0.5,\n",
       "  0.5,\n",
       "  0.0,\n",
       "  0.0,\n",
       "  None,\n",
       "  0.3,\n",
       "  13.3,\n",
       "  u'2',\n",
       "  u'1']]"
      ]
     },
     "execution_count": 77,
     "metadata": {},
     "output_type": "execute_result"
    }
   ],
   "source": [
    "gSmallParsedRDD.take(2)"
   ]
  },
  {
   "cell_type": "markdown",
   "metadata": {},
   "source": [
    "##### Test on a file from 2013"
   ]
  },
  {
   "cell_type": "code",
   "execution_count": 79,
   "metadata": {
    "collapsed": false
   },
   "outputs": [
    {
     "name": "stdout",
     "output_type": "stream",
     "text": [
      "Raw count for small dataset (without header):  170009\n"
     ]
    }
   ],
   "source": [
    "gSmallRDD = sc.textFile(\"s3://testsetu/nyc/green/green_tripdata_2013-10.csv\")\n",
    "print \"Raw count for small dataset (without header): \", gSmallRDD.count() - 1"
   ]
  },
  {
   "cell_type": "code",
   "execution_count": 80,
   "metadata": {
    "collapsed": false
   },
   "outputs": [
    {
     "name": "stdout",
     "output_type": "stream",
     "text": [
      "Parsed/Cleaned count:  169018\n"
     ]
    }
   ],
   "source": [
    "gSmallParsedRDD = gSmallRDD.map(lambda line: parseGreenCabLine(line)).filter(lambda x: x is not None)\n",
    "print \"Parsed/Cleaned count: \", gSmallParsedRDD.count()"
   ]
  },
  {
   "cell_type": "code",
   "execution_count": 81,
   "metadata": {
    "collapsed": false
   },
   "outputs": [
    {
     "data": {
      "text/plain": [
       "[['G',\n",
       "  u'2',\n",
       "  datetime.datetime(2013, 10, 1, 0, 0, 54),\n",
       "  datetime.datetime(2013, 10, 1, 0, 41, 52),\n",
       "  u'N',\n",
       "  u'1',\n",
       "  -73.9388198852539,\n",
       "  40.74968719482422,\n",
       "  -74.0289535522461,\n",
       "  40.63574981689453,\n",
       "  1,\n",
       "  12.76,\n",
       "  42.0,\n",
       "  0.5,\n",
       "  0.5,\n",
       "  0.0,\n",
       "  0.0,\n",
       "  None,\n",
       "  43.0,\n",
       "  2.0,\n",
       "  u'',\n",
       "  u'']]"
      ]
     },
     "execution_count": 81,
     "metadata": {},
     "output_type": "execute_result"
    }
   ],
   "source": [
    "gSmallParsedRDD.take(1)"
   ]
  },
  {
   "cell_type": "markdown",
   "metadata": {},
   "source": [
    "## 4. Save cleaned files"
   ]
  },
  {
   "cell_type": "code",
   "execution_count": 10,
   "metadata": {
    "collapsed": false
   },
   "outputs": [],
   "source": [
    "def stringify(input):\n",
    "    if input is None:\n",
    "        return \"\"\n",
    "    else:\n",
    "        return str(input)\n",
    "    \n",
    "def rddToCsv(itemList):\n",
    "    return ','.join(stringify(item) for item in itemList)    "
   ]
  },
  {
   "cell_type": "code",
   "execution_count": 17,
   "metadata": {
    "collapsed": true
   },
   "outputs": [],
   "source": [
    "#Tmp: to be deleted\n",
    "#yCabRDD = sc.textFile(\"s3://testsetu/nyc/yellow/*\")\n",
    "#yCabParsedRDD = yCabRDD.map(lambda line: parseYellowCabLine(line)).filter(lambda x: x is not None)"
   ]
  },
  {
   "cell_type": "code",
   "execution_count": 18,
   "metadata": {
    "collapsed": false
   },
   "outputs": [
    {
     "name": "stdout",
     "output_type": "stream",
     "text": [
      "CPU times: user 540 ms, sys: 228 ms, total: 768 ms\n",
      "Wall time: 1h 58min 12s\n"
     ]
    }
   ],
   "source": [
    "yCleanedCsvRDD = yCabParsedRDD.map(lambda x: rddToCsv(x))\n",
    "%time yCleanedCsvRDD.repartition(36).saveAsTextFile(\"s3://testsetu/nyc/final/yellow/consolidated\")"
   ]
  },
  {
   "cell_type": "code",
   "execution_count": 11,
   "metadata": {
    "collapsed": false
   },
   "outputs": [
    {
     "name": "stdout",
     "output_type": "stream",
     "text": [
      "CPU times: user 48 ms, sys: 16 ms, total: 64 ms\n",
      "Wall time: 8min 35s\n"
     ]
    }
   ],
   "source": [
    "gCleanedCsvRDD = gCabParsedRDD.map(lambda x: rddToCsv(x))\n",
    "%time gCleanedCsvRDD.repartition(10).saveAsTextFile(\"s3://testsetu/nyc/final/green/consolidated\")"
   ]
  },
  {
   "cell_type": "markdown",
   "metadata": {},
   "source": [
    "## 5. Create dataframe & sanity checking of the the whole process"
   ]
  },
  {
   "cell_type": "code",
   "execution_count": 16,
   "metadata": {
    "collapsed": false
   },
   "outputs": [
    {
     "name": "stdout",
     "output_type": "stream",
     "text": [
      "Count of # records from data frame:  26869879\n",
      "CPU times: user 0 ns, sys: 4 ms, total: 4 ms\n",
      "Wall time: 25.4 s\n",
      "+-----------+---------+--------------------+--------------------+------------------+------------+----------------+---------------+-----------------+----------------+---------------+-------------+-----------+-----+-------+----------+------------+---------+---------------------+------------+------------+---------+\n",
      "|cab_company|vendor_id|     pickup_datetime|    dropoff_datetime|store_and_fwd_flag|rate_code_id|pickup_longitude|pickup_latitude|dropoff_longitude|dropoff_latitude|passenger_count|trip_distance|fare_amount|extra|mta_tax|tip_amount|tolls_amount|ehail_fee|improvement_surcharge|total_amount|payment_type|trip_type|\n",
      "+-----------+---------+--------------------+--------------------+------------------+------------+----------------+---------------+-----------------+----------------+---------------+-------------+-----------+-----+-------+----------+------------+---------+---------------------+------------+------------+---------+\n",
      "|          G|        2|2013-11-01 00:04:...|2013-11-01 00:23:...|                 N|           1|       -73.88326|       40.74317|        -73.94208|        40.75569|              5|         3.74|       16.0|  0.5|    0.5|       0.0|         0.0|      0.0|                 17.0|         2.0|            |         |\n",
      "+-----------+---------+--------------------+--------------------+------------------+------------+----------------+---------------+-----------------+----------------+---------------+-------------+-----------+-----+-------+----------+------------+---------+---------------------+------------+------------+---------+\n",
      "only showing top 1 row\n",
      "\n",
      "CPU times: user 4 ms, sys: 0 ns, total: 4 ms\n",
      "Wall time: 284 ms\n"
     ]
    }
   ],
   "source": [
    "sqlContext = SQLContext(sc)\n",
    "gCabDF = sqlContext.read.format('com.databricks.spark.csv').options( mode=\"DROPMALFORMED\", header='false').load('s3://testsetu/nyc/final/green/consolidated/pa*', schema = gCabSchema)\n",
    "%time print \"Count of # records from data frame: \", gCabDF.count()\n",
    "%time gCabDF.show(1)"
   ]
  },
  {
   "cell_type": "code",
   "execution_count": 21,
   "metadata": {
    "collapsed": false
   },
   "outputs": [
    {
     "name": "stdout",
     "output_type": "stream",
     "text": [
      "Count of # records from data frame:  407403053\n",
      "CPU times: user 20 ms, sys: 8 ms, total: 28 ms\n",
      "Wall time: 5min 24s\n"
     ]
    }
   ],
   "source": [
    "#yCabDF = sqlContext.read.format('com.databricks.spark.csv').options( mode=\"DROPMALFORMED\", header='false').load('s3://testsetu/nyc/final/yellow/consolidated/part*', schema = yCabSchema)\n",
    "yCabDF = sqlContext.read.format('com.databricks.spark.csv').options( mode=\"PERMISSIVE\", header='false').load('s3://testsetu/nyc/final/yellow/consolidated/part*', schema = yCabSchema)\n",
    "%time print \"Count of # records from data frame: \", yCabDF.count()\n",
    "#%time gCabDF.show(1)"
   ]
  },
  {
   "cell_type": "code",
   "execution_count": 24,
   "metadata": {
    "collapsed": false
   },
   "outputs": [
    {
     "name": "stdout",
     "output_type": "stream",
     "text": [
      "# dirty yellow cab records:  7997223\n"
     ]
    }
   ],
   "source": [
    "#12748986-75640815\n",
    "print \"# dirty yellow cab records: \", 415400276 - 407403053\n",
    "#415396639-407403053"
   ]
  },
  {
   "cell_type": "markdown",
   "metadata": {
    "collapsed": true
   },
   "source": [
    "### Appendix (Some testing code - for future reference):"
   ]
  },
  {
   "cell_type": "code",
   "execution_count": 15,
   "metadata": {
    "collapsed": false
   },
   "outputs": [
    {
     "name": "stdout",
     "output_type": "stream",
     "text": [
      "+-----------+---------+--------------------+--------------------+------------------+------------+----------------+---------------+-----------------+----------------+---------------+-------------+-----------+-----+-------+----------+------------+---------+---------------------+------------+------------+---------+\n",
      "|cab_company|vendor_id|     pickup_datetime|    dropoff_datetime|store_and_fwd_flag|rate_code_id|pickup_longitude|pickup_latitude|dropoff_longitude|dropoff_latitude|passenger_count|trip_distance|fare_amount|extra|mta_tax|tip_amount|tolls_amount|ehail_fee|improvement_surcharge|total_amount|payment_type|trip_type|\n",
      "+-----------+---------+--------------------+--------------------+------------------+------------+----------------+---------------+-----------------+----------------+---------------+-------------+-----------+-----+-------+----------+------------+---------+---------------------+------------+------------+---------+\n",
      "|          G|        2|2013-08-01 17:22:...|2013-08-01 17:22:...|                 N|           1|       -73.93777|       40.75848|        -73.93777|        40.75848|              1|          0.0|        2.5|  1.0|    0.5|       0.0|        5.33|      0.0|                 9.33|         2.0|            |         |\n",
      "|          G|        2|2013-08-01 17:24:...|2013-08-01 17:25:...|                 N|           1|       -73.93793|      40.757843|        -73.93793|       40.757843|              1|          0.0|        2.5|  1.0|    0.5|       0.0|        1.11|      0.0|                 5.11|         2.0|            |         |\n",
      "+-----------+---------+--------------------+--------------------+------------------+------------+----------------+---------------+-----------------+----------------+---------------+-------------+-----------+-----+-------+----------+------------+---------+---------------------+------------+------------+---------+\n",
      "only showing top 2 rows\n",
      "\n"
     ]
    }
   ],
   "source": [
    "#Create dataframe from RDD\n",
    "from pyspark.sql import SQLContext\n",
    "sqlContext = SQLContext(sc)\n",
    "#yCabDF = sqlContext.createDataFrame(yCabParsedRDD, yCabSchema)\n",
    "gCabDF = sqlContext.createDataFrame(gCabParsedRDD, gCabSchema)\n",
    "gCabDF.show(2)"
   ]
  },
  {
   "cell_type": "code",
   "execution_count": 89,
   "metadata": {
    "collapsed": false
   },
   "outputs": [],
   "source": [
    "from pyspark.sql import SQLContext\n",
    "from pyspark.sql.types import *\n",
    "#from com.databricks.spark import csv\n",
    "sqlContext = SQLContext(sc)\n",
    "#yCabDF = sqlContext.read.format('com.databricks.spark.csv').options( mode=\"DROPMALFORMED\", header='true').load('./tmplocaldata/small/y*.csv', schema = yCabSchema)\n",
    "#yCabDF = sqlContext.read.format('com.databricks.spark.csv').options( mode=\"DROPMALFORMED\", header='true').load('s3://testsetu/nyc/yellow_tripdata_2015-02.csv', schema = yCabSchema)\n",
    "#yCabDF = sqlContext.read.format('com.databricks.spark.csv').options( mode=\"DROPMALFORMED\", header='true').load('s3://testsetu/nyc/yellow*.csv', schema = yCabSchema)\n",
    "yCabDF.select('pickup_datetime', 'pickup_longitude').take(2)\n",
    "\n",
    "#.write.format('com.databricks.spark.csv').save('newcars.csv')"
   ]
  },
  {
   "cell_type": "code",
   "execution_count": 53,
   "metadata": {
    "collapsed": false
   },
   "outputs": [
    {
     "name": "stdout",
     "output_type": "stream",
     "text": [
      "raw count:  100\n",
      "Parsed count:  95\n"
     ]
    }
   ],
   "source": [
    "#Test on local file\n",
    "yLocalRDD = sc.textFile(\"./tmplocaldata/small/y1.csv\")\n",
    "print \"raw count: \", yLocalRDD.count()\n",
    "yLocalParsedRDD = yLocalRDD.map(lambda line: parseYellowCabLine(line)).filter(lambda x: x is not None)\n",
    "print \"Parsed count: \", yLocalParsedRDD.count()"
   ]
  },
  {
   "cell_type": "code",
   "execution_count": 58,
   "metadata": {
    "collapsed": false
   },
   "outputs": [
    {
     "name": "stdout",
     "output_type": "stream",
     "text": [
      "Count:  95\n"
     ]
    }
   ],
   "source": [
    "yCleanedCsvRDD = yLocalParsedRDD.map(lambda x: rddToCsv(x))\n",
    "print \"Count: \", yCleanedCsvRDD.count()\n",
    "#yCleanedCsvRDD.take(2)\n",
    "yCleanedCsvRDD.repartition(1).saveAsTextFile(\"./tmplocaldata/aa1.csv\")"
   ]
  },
  {
   "cell_type": "code",
   "execution_count": 99,
   "metadata": {
    "collapsed": true
   },
   "outputs": [],
   "source": [
    "# code for future reference\n",
    "gCabDF = sqlContext.createDataFrame(gCabParsedRDD, gCabSchema)\n",
    "# Save the cleaned data\n",
    "#gCabDF.show(5)\n",
    "gCabDF.repartition(1).write \\\n",
    "    .format('com.databricks.spark.csv') \\\n",
    "    .save('s3://testsetu/nyc/final/green/consolidated')"
   ]
  }
 ],
 "metadata": {
  "kernelspec": {
   "display_name": "Python 2",
   "language": "python",
   "name": "python2"
  },
  "language_info": {
   "codemirror_mode": {
    "name": "ipython",
    "version": 2
   },
   "file_extension": ".py",
   "mimetype": "text/x-python",
   "name": "python",
   "nbconvert_exporter": "python",
   "pygments_lexer": "ipython2",
   "version": "2.7.10"
  }
 },
 "nbformat": 4,
 "nbformat_minor": 0
}
