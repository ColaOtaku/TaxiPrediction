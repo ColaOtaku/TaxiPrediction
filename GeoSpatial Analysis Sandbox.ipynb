{
 "cells": [
  {
   "cell_type": "markdown",
   "metadata": {},
   "source": [
    "# Notes for the project: learning/playing with the spatial data"
   ]
  },
  {
   "cell_type": "code",
   "execution_count": 7,
   "metadata": {
    "collapsed": false
   },
   "outputs": [],
   "source": [
    "#%matplotlib inline\n",
    "import numpy as np\n",
    "import scipy as sp\n",
    "import pandas as pd\n",
    "pd.set_option('display.width', 500)\n",
    "pd.set_option('display.max_columns', 100)\n",
    "pd.set_option('display.notebook_repr_html', True)\n"
   ]
  },
  {
   "cell_type": "code",
   "execution_count": 31,
   "metadata": {
    "collapsed": false
   },
   "outputs": [
    {
     "name": "stdout",
     "output_type": "stream",
     "text": [
      "Collecting geopy\n",
      "  Downloading geopy-1.11.0-py2.py3-none-any.whl (66kB)\n",
      "Installing collected packages: geopy\n",
      "Successfully installed geopy-1.11.0\n"
     ]
    }
   ],
   "source": [
    "!pip install geopy"
   ]
  },
  {
   "cell_type": "code",
   "execution_count": 33,
   "metadata": {
    "collapsed": true
   },
   "outputs": [],
   "source": [
    "import geopy as gp"
   ]
  },
  {
   "cell_type": "markdown",
   "metadata": {},
   "source": [
    "## Notes on processing geo spatial data\n",
    "\n",
    "We assume the NYC taxi data set has the lat/long entries based on WGS 84 (since this is GPS data)\n",
    "\n",
    "The table below shows the dimensions of geohash cells at the worst-case scenario at the equator.\n",
    "\n",
    "Source: [Wikipedia](https://en.wikipedia.org/wiki/Geohash)\n",
    "\n"
   ]
  },
  {
   "cell_type": "markdown",
   "metadata": {},
   "source": [
    "| Geohash Length | Width of cell | Height of cell |\n",
    "|----------------|---------------|----------------|\n",
    "| 1              | 5,009.4km     | 4,992.6km      |\n",
    "| 2              | 1,252.3km     | 624.1km        |\n",
    "| 3              | 156.5km       | 156km          |\n",
    "| 4              | 39.1km        | 19.5km         |\n",
    "| 5              | 4.9km         | 4.9km          |\n",
    "| 6              | 1.2km         | 609.4m         |\n",
    "| 7              | 152.9m        | 152.4m         |\n",
    "| 8              | 38.2m         | 19m            |\n",
    "| 9              | 4.8m          | 4.8m           |\n",
    "| 10             | 1.2m          | 59.5cm         |\n",
    "| 11             | 14.9cm        | 14.9cm         |\n",
    "| 12             | 3.7cm         | 1.9cm          |"
   ]
  },
  {
   "cell_type": "code",
   "execution_count": 25,
   "metadata": {
    "collapsed": false
   },
   "outputs": [
    {
     "name": "stdout",
     "output_type": "stream",
     "text": [
      "d\n",
      "dr\n",
      "dr5\n",
      "dr5r\n",
      "dr5ru\n",
      "dr5ru4\n",
      "dr5ru4r\n",
      "dr5ru4r6\n",
      "dr5ru4r69\n",
      "dr5ru4r697\n",
      "dr5ru4r6972\n",
      "dr5ru4r69720\n"
     ]
    }
   ],
   "source": [
    "import geohash as gh\n",
    "\n",
    "sampleLat = 40.750111\n",
    "sampleLong = -73.993896\n",
    "\n",
    "for precision in range (1,13):\n",
    "    print gh.encode(sampleLat, sampleLong, precision)   \n",
    "\n",
    "#Sanity check: go the URL link to get the same lat/long: http://geohash.org/dr5ru4r69720"
   ]
  },
  {
   "cell_type": "code",
   "execution_count": 29,
   "metadata": {
    "collapsed": false
   },
   "outputs": [
    {
     "data": {
      "text/plain": [
       "(40.750110978260636, -73.99389607831836)"
      ]
     },
     "execution_count": 29,
     "metadata": {},
     "output_type": "execute_result"
    }
   ],
   "source": [
    "gh.decode(\"dr5ru4r69720\")\n",
    "#Notice the small errors in decoding"
   ]
  },
  {
   "cell_type": "markdown",
   "metadata": {},
   "source": [
    "## Check if nearby lat/long hash to the same cell"
   ]
  },
  {
   "cell_type": "code",
   "execution_count": 66,
   "metadata": {
    "collapsed": false
   },
   "outputs": [
    {
     "name": "stdout",
     "output_type": "stream",
     "text": [
      "Distance between locA and locB in Meters:  412.970969318\n",
      "Distance between locA and locC in Meters:  7.60066447988\n",
      "Precision  1  geocode for LocA:  d\n",
      "Precision  1  geocode for LocB:  d\n",
      "Precision  1  geocode for LocC:  d\n",
      "Precision  2  geocode for LocA:  dr\n",
      "Precision  2  geocode for LocB:  dr\n",
      "Precision  2  geocode for LocC:  dr\n",
      "Precision  3  geocode for LocA:  dr5\n",
      "Precision  3  geocode for LocB:  dr5\n",
      "Precision  3  geocode for LocC:  dr5\n",
      "Precision  4  geocode for LocA:  dr5r\n",
      "Precision  4  geocode for LocB:  dr5r\n",
      "Precision  4  geocode for LocC:  dr5r\n",
      "Precision  5  geocode for LocA:  dr5ru\n",
      "Precision  5  geocode for LocB:  dr5ru\n",
      "Precision  5  geocode for LocC:  dr5ru\n",
      "Precision  6  geocode for LocA:  dr5ru4\n",
      "Precision  6  geocode for LocB:  dr5ru6\n",
      "Precision  6  geocode for LocC:  dr5ru4\n",
      "Precision  7  geocode for LocA:  dr5ru4r\n",
      "Precision  7  geocode for LocB:  dr5ru66\n",
      "Precision  7  geocode for LocC:  dr5ru4r\n",
      "Precision  8  geocode for LocA:  dr5ru4r6\n",
      "Precision  8  geocode for LocB:  dr5ru66f\n",
      "Precision  8  geocode for LocC:  dr5ru4r6\n",
      "Precision  9  geocode for LocA:  dr5ru4r69\n",
      "Precision  9  geocode for LocB:  dr5ru66fe\n",
      "Precision  9  geocode for LocC:  dr5ru4r6e\n"
     ]
    }
   ],
   "source": [
    "#check if nearby lat/long hash to the same cell\n",
    "\n",
    "sampleLat1 = 40.750111\n",
    "sampleLong1 = -73.993896\n",
    "\n",
    "from geopy.distance import vincenty\n",
    "locA = (40.750111, -73.99389)\n",
    "locB = (40.750111, -73.989)\n",
    "locC = (40.750111, -73.9938)\n",
    "print \"Distance between locA and locB in Meters: \",(vincenty(locA, locB).meters)\n",
    "print \"Distance between locA and locC in Meters: \",(vincenty(locA, locC).meters)\n",
    "\n",
    "for precision in range (1,10):\n",
    "    print \"Precision \", precision,\" geocode for LocA: \", gh.encode(locA[0],locA[1], precision)\n",
    "    print \"Precision \", precision,\" geocode for LocB: \",gh.encode(locB[0],locB[1], precision)\n",
    "    print \"Precision \", precision,\" geocode for LocC: \",gh.encode(locC[0],locC[1], precision)"
   ]
  },
  {
   "cell_type": "markdown",
   "metadata": {},
   "source": [
    "## Distance between two points: Actual and Geohashed"
   ]
  },
  {
   "cell_type": "code",
   "execution_count": 69,
   "metadata": {
    "collapsed": false
   },
   "outputs": [
    {
     "name": "stdout",
     "output_type": "stream",
     "text": [
      "Actual distance between locA and locB in Meters:  222137.267177\n",
      "Precision =  1 , Distance based on geohash (in meters):  0.0\n",
      "Precision =  2 , Distance based on geohash (in meters):  0.0\n",
      "Precision =  3 , Distance based on geohash (in meters):  312365.562867\n",
      "Precision =  4 , Distance based on geohash (in meters):  234284.925235\n",
      "Precision =  5 , Distance based on geohash (in meters):  219642.113731\n",
      "Precision =  6 , Distance based on geohash (in meters):  222084.567987\n",
      "Precision =  7 , Distance based on geohash (in meters):  222082.926417\n",
      "Precision =  8 , Distance based on geohash (in meters):  222140.220258\n",
      "Precision =  9 , Distance based on geohash (in meters):  222135.466682\n",
      "Precision =  10 , Distance based on geohash (in meters):  222137.25434\n",
      "Precision =  11 , Distance based on geohash (in meters):  222137.253906\n",
      "Precision =  12 , Distance based on geohash (in meters):  222137.272556\n"
     ]
    }
   ],
   "source": [
    "locA = (40.750111, -73.99389)\n",
    "locB = (42.750111, -73.989)\n",
    "print \"Actual distance between locA and locB in Meters: \",(vincenty(locA, locB).meters)\n",
    "\n",
    "for precision in range (1,13):\n",
    "    ghLocA = gh.decode(gh.encode(locA[0],locA[1], precision))\n",
    "    ghLocB = gh.decode(gh.encode(locB[0],locB[1], precision))\n",
    "    print \"Precision = \",precision,\", Distance based on geohash (in meters): \",(vincenty(ghLocA, ghLocB).meters)"
   ]
  },
  {
   "cell_type": "markdown",
   "metadata": {},
   "source": [
    "## Play with pandas (incomplete)"
   ]
  },
  {
   "cell_type": "code",
   "execution_count": 8,
   "metadata": {
    "collapsed": true
   },
   "outputs": [],
   "source": [
    "df=pd.read_csv(\"./tmplocaldata/yellow_tripdata_2015-01.csv\"); #, header=None,"
   ]
  },
  {
   "cell_type": "code",
   "execution_count": 9,
   "metadata": {
    "collapsed": false
   },
   "outputs": [
    {
     "data": {
      "text/html": [
       "<div>\n",
       "<table border=\"1\" class=\"dataframe\">\n",
       "  <thead>\n",
       "    <tr style=\"text-align: right;\">\n",
       "      <th></th>\n",
       "      <th>VendorID</th>\n",
       "      <th>tpep_pickup_datetime</th>\n",
       "      <th>tpep_dropoff_datetime</th>\n",
       "      <th>passenger_count</th>\n",
       "      <th>trip_distance</th>\n",
       "      <th>pickup_longitude</th>\n",
       "      <th>pickup_latitude</th>\n",
       "      <th>RateCodeID</th>\n",
       "      <th>store_and_fwd_flag</th>\n",
       "      <th>dropoff_longitude</th>\n",
       "      <th>dropoff_latitude</th>\n",
       "      <th>payment_type</th>\n",
       "      <th>fare_amount</th>\n",
       "      <th>extra</th>\n",
       "      <th>mta_tax</th>\n",
       "      <th>tip_amount</th>\n",
       "      <th>tolls_amount</th>\n",
       "      <th>improvement_surcharge</th>\n",
       "      <th>total_amount</th>\n",
       "    </tr>\n",
       "  </thead>\n",
       "  <tbody>\n",
       "    <tr>\n",
       "      <th>0</th>\n",
       "      <td>2</td>\n",
       "      <td>2015-01-15 19:05:39</td>\n",
       "      <td>2015-01-15 19:23:42</td>\n",
       "      <td>1</td>\n",
       "      <td>1.59</td>\n",
       "      <td>-73.993896</td>\n",
       "      <td>40.750111</td>\n",
       "      <td>1</td>\n",
       "      <td>N</td>\n",
       "      <td>-73.974785</td>\n",
       "      <td>40.750618</td>\n",
       "      <td>1</td>\n",
       "      <td>12.0</td>\n",
       "      <td>1.0</td>\n",
       "      <td>0.5</td>\n",
       "      <td>3.25</td>\n",
       "      <td>0</td>\n",
       "      <td>0.3</td>\n",
       "      <td>17.05</td>\n",
       "    </tr>\n",
       "    <tr>\n",
       "      <th>1</th>\n",
       "      <td>1</td>\n",
       "      <td>2015-01-10 20:33:38</td>\n",
       "      <td>2015-01-10 20:53:28</td>\n",
       "      <td>1</td>\n",
       "      <td>3.30</td>\n",
       "      <td>-74.001648</td>\n",
       "      <td>40.724243</td>\n",
       "      <td>1</td>\n",
       "      <td>N</td>\n",
       "      <td>-73.994415</td>\n",
       "      <td>40.759109</td>\n",
       "      <td>1</td>\n",
       "      <td>14.5</td>\n",
       "      <td>0.5</td>\n",
       "      <td>0.5</td>\n",
       "      <td>2.00</td>\n",
       "      <td>0</td>\n",
       "      <td>0.3</td>\n",
       "      <td>17.80</td>\n",
       "    </tr>\n",
       "    <tr>\n",
       "      <th>2</th>\n",
       "      <td>1</td>\n",
       "      <td>2015-01-10 20:33:38</td>\n",
       "      <td>2015-01-10 20:43:41</td>\n",
       "      <td>1</td>\n",
       "      <td>1.80</td>\n",
       "      <td>-73.963341</td>\n",
       "      <td>40.802788</td>\n",
       "      <td>1</td>\n",
       "      <td>N</td>\n",
       "      <td>-73.951820</td>\n",
       "      <td>40.824413</td>\n",
       "      <td>2</td>\n",
       "      <td>9.5</td>\n",
       "      <td>0.5</td>\n",
       "      <td>0.5</td>\n",
       "      <td>0.00</td>\n",
       "      <td>0</td>\n",
       "      <td>0.3</td>\n",
       "      <td>10.80</td>\n",
       "    </tr>\n",
       "    <tr>\n",
       "      <th>3</th>\n",
       "      <td>1</td>\n",
       "      <td>2015-01-10 20:33:39</td>\n",
       "      <td>2015-01-10 20:35:31</td>\n",
       "      <td>1</td>\n",
       "      <td>0.50</td>\n",
       "      <td>-74.009087</td>\n",
       "      <td>40.713818</td>\n",
       "      <td>1</td>\n",
       "      <td>N</td>\n",
       "      <td>-74.004326</td>\n",
       "      <td>40.719986</td>\n",
       "      <td>2</td>\n",
       "      <td>3.5</td>\n",
       "      <td>0.5</td>\n",
       "      <td>0.5</td>\n",
       "      <td>0.00</td>\n",
       "      <td>0</td>\n",
       "      <td>0.3</td>\n",
       "      <td>4.80</td>\n",
       "    </tr>\n",
       "    <tr>\n",
       "      <th>4</th>\n",
       "      <td>1</td>\n",
       "      <td>2015-01-10 20:33:39</td>\n",
       "      <td>2015-01-10 20:52:58</td>\n",
       "      <td>1</td>\n",
       "      <td>3.00</td>\n",
       "      <td>-73.971176</td>\n",
       "      <td>40.762428</td>\n",
       "      <td>1</td>\n",
       "      <td>N</td>\n",
       "      <td>-74.004181</td>\n",
       "      <td>40.742653</td>\n",
       "      <td>2</td>\n",
       "      <td>15.0</td>\n",
       "      <td>0.5</td>\n",
       "      <td>0.5</td>\n",
       "      <td>0.00</td>\n",
       "      <td>0</td>\n",
       "      <td>0.3</td>\n",
       "      <td>16.30</td>\n",
       "    </tr>\n",
       "  </tbody>\n",
       "</table>\n",
       "</div>"
      ],
      "text/plain": [
       "   VendorID tpep_pickup_datetime tpep_dropoff_datetime  passenger_count  trip_distance  pickup_longitude  pickup_latitude  RateCodeID store_and_fwd_flag  dropoff_longitude  dropoff_latitude  payment_type  fare_amount  extra  mta_tax  tip_amount  tolls_amount  improvement_surcharge  total_amount\n",
       "0         2  2015-01-15 19:05:39   2015-01-15 19:23:42                1           1.59        -73.993896        40.750111           1                  N         -73.974785         40.750618             1         12.0    1.0      0.5        3.25             0                    0.3         17.05\n",
       "1         1  2015-01-10 20:33:38   2015-01-10 20:53:28                1           3.30        -74.001648        40.724243           1                  N         -73.994415         40.759109             1         14.5    0.5      0.5        2.00             0                    0.3         17.80\n",
       "2         1  2015-01-10 20:33:38   2015-01-10 20:43:41                1           1.80        -73.963341        40.802788           1                  N         -73.951820         40.824413             2          9.5    0.5      0.5        0.00             0                    0.3         10.80\n",
       "3         1  2015-01-10 20:33:39   2015-01-10 20:35:31                1           0.50        -74.009087        40.713818           1                  N         -74.004326         40.719986             2          3.5    0.5      0.5        0.00             0                    0.3          4.80\n",
       "4         1  2015-01-10 20:33:39   2015-01-10 20:52:58                1           3.00        -73.971176        40.762428           1                  N         -74.004181         40.742653             2         15.0    0.5      0.5        0.00             0                    0.3         16.30"
      ]
     },
     "execution_count": 9,
     "metadata": {},
     "output_type": "execute_result"
    }
   ],
   "source": [
    "df.head()"
   ]
  },
  {
   "cell_type": "code",
   "execution_count": 18,
   "metadata": {
    "collapsed": false
   },
   "outputs": [
    {
     "data": {
      "text/plain": [
       "[1, 2, 3, 4, 5, 6, 7, 8, 9, 10, 11]"
      ]
     },
     "execution_count": 18,
     "metadata": {},
     "output_type": "execute_result"
    }
   ],
   "source": [
    "range (1,12)"
   ]
  },
  {
   "cell_type": "code",
   "execution_count": 73,
   "metadata": {
    "collapsed": false
   },
   "outputs": [
    {
     "data": {
      "text/plain": [
       "VendorID                   int64\n",
       "tpep_pickup_datetime      object\n",
       "tpep_dropoff_datetime     object\n",
       "passenger_count            int64\n",
       "trip_distance            float64\n",
       "pickup_longitude         float64\n",
       "pickup_latitude          float64\n",
       "RateCodeID                 int64\n",
       "store_and_fwd_flag        object\n",
       "dropoff_longitude        float64\n",
       "dropoff_latitude         float64\n",
       "payment_type               int64\n",
       "fare_amount              float64\n",
       "extra                    float64\n",
       "mta_tax                  float64\n",
       "tip_amount               float64\n",
       "tolls_amount             float64\n",
       "improvement_surcharge    float64\n",
       "total_amount             float64\n",
       "dtype: object"
      ]
     },
     "execution_count": 73,
     "metadata": {},
     "output_type": "execute_result"
    }
   ],
   "source": [
    "df.dtypes"
   ]
  },
  {
   "cell_type": "code",
   "execution_count": null,
   "metadata": {
    "collapsed": true
   },
   "outputs": [],
   "source": []
  }
 ],
 "metadata": {
  "kernelspec": {
   "display_name": "Python 2",
   "language": "python",
   "name": "python2"
  },
  "language_info": {
   "codemirror_mode": {
    "name": "ipython",
    "version": 2
   },
   "file_extension": ".py",
   "mimetype": "text/x-python",
   "name": "python",
   "nbconvert_exporter": "python",
   "pygments_lexer": "ipython2",
   "version": "2.7.10"
  }
 },
 "nbformat": 4,
 "nbformat_minor": 0
}
