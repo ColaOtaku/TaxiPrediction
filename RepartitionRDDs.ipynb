{
 "cells": [
  {
   "cell_type": "markdown",
   "metadata": {},
   "source": [
    "# NYC Taxi Dataset Project - Convert RDD output to CSV"
   ]
  },
  {
   "cell_type": "markdown",
   "metadata": {},
   "source": [
    "## Overall Steps\n",
    "\n",
    "**Step 0:** Prerequisites\n",
    "\n",
    "**Step 1:** Load data, reformat, save data to csv\n"
   ]
  },
  {
   "cell_type": "markdown",
   "metadata": {},
   "source": [
    "Note: You must complete DataPrepNew.ipynb, and download the single file containing the RDD output saved as a file called taxi_data.\n",
    "\n",
    "### Step 0: Prerequisites\n",
    "You will need a directory containing the following files:\n",
    "    \n",
    "    a) a subdirectory called data containing:\n",
    "    \n",
    "        1) taxi_data\n",
    "    \n",
    "    b) ConvertRDDtoCSV.ipynb (this notebook)\n"
   ]
  },
  {
   "cell_type": "markdown",
   "metadata": {},
   "source": [
    "### Step 1: Load data, reformat, save data to csv"
   ]
  },
  {
   "cell_type": "code",
   "execution_count": 2,
   "metadata": {
    "collapsed": true
   },
   "outputs": [],
   "source": [
    "y_rdd = sc.textFile(\"s3://cs109-nyc-taxi/validset7/part-00000\")"
   ]
  },
  {
   "cell_type": "code",
   "execution_count": 11,
   "metadata": {
    "collapsed": false
   },
   "outputs": [],
   "source": [
    "for i in xrange(1,32):\n",
    "    url = \"s3://cs109-nyc-taxi/validset7/part-000%02d\" % i\n",
    "    y_new = sc.textFile(url)\n",
    "    y_rdd = y_rdd.union(y_new)"
   ]
  },
  {
   "cell_type": "code",
   "execution_count": 12,
   "metadata": {
    "collapsed": false
   },
   "outputs": [
    {
     "data": {
      "text/plain": [
       "1569528"
      ]
     },
     "execution_count": 12,
     "metadata": {},
     "output_type": "execute_result"
    }
   ],
   "source": [
    "y_rdd.count()"
   ]
  },
  {
   "cell_type": "code",
   "execution_count": 15,
   "metadata": {
    "collapsed": false
   },
   "outputs": [],
   "source": [
    "y_rdd.repartition(1).saveAsTextFile(\"s3://cs109-nyc-taxi/validset7_one_file\")"
   ]
  },
  {
   "cell_type": "code",
   "execution_count": 20,
   "metadata": {
    "collapsed": true
   },
   "outputs": [],
   "source": [
    "y_rdd = sc.textFile(\"s3://cs109-nyc-taxi/trainset7/part-00000\")"
   ]
  },
  {
   "cell_type": "code",
   "execution_count": 21,
   "metadata": {
    "collapsed": false
   },
   "outputs": [],
   "source": [
    "for i in xrange(1,32):\n",
    "    url = \"s3://cs109-nyc-taxi/trainset7/part-000%02d\" % i\n",
    "    y_new = sc.textFile(url)\n",
    "    y_rdd = y_rdd.union(y_new)"
   ]
  },
  {
   "cell_type": "code",
   "execution_count": 22,
   "metadata": {
    "collapsed": false
   },
   "outputs": [
    {
     "data": {
      "text/plain": [
       "7238532"
      ]
     },
     "execution_count": 22,
     "metadata": {},
     "output_type": "execute_result"
    }
   ],
   "source": [
    "y_rdd.count()"
   ]
  },
  {
   "cell_type": "code",
   "execution_count": 23,
   "metadata": {
    "collapsed": false
   },
   "outputs": [],
   "source": [
    "y_rdd.repartition(1).saveAsTextFile(\"s3://cs109-nyc-taxi/trainset7_one_file\")"
   ]
  },
  {
   "cell_type": "code",
   "execution_count": 24,
   "metadata": {
    "collapsed": true
   },
   "outputs": [],
   "source": [
    "y_rdd = sc.textFile(\"s3://cs109-nyc-taxi/testset7/part-00000\")"
   ]
  },
  {
   "cell_type": "code",
   "execution_count": 25,
   "metadata": {
    "collapsed": true
   },
   "outputs": [],
   "source": [
    "for i in xrange(1,32):\n",
    "    url = \"s3://cs109-nyc-taxi/testset7/part-000%02d\" % i\n",
    "    y_new = sc.textFile(url)\n",
    "    y_rdd = y_rdd.union(y_new)"
   ]
  },
  {
   "cell_type": "code",
   "execution_count": 26,
   "metadata": {
    "collapsed": false
   },
   "outputs": [
    {
     "data": {
      "text/plain": [
       "6306640"
      ]
     },
     "execution_count": 26,
     "metadata": {},
     "output_type": "execute_result"
    }
   ],
   "source": [
    "y_rdd.count()"
   ]
  },
  {
   "cell_type": "code",
   "execution_count": 27,
   "metadata": {
    "collapsed": true
   },
   "outputs": [],
   "source": [
    "y_rdd.repartition(1).saveAsTextFile(\"s3://cs109-nyc-taxi/testset7_one_file\")"
   ]
  },
  {
   "cell_type": "code",
   "execution_count": 28,
   "metadata": {
    "collapsed": true
   },
   "outputs": [],
   "source": [
    "y_rdd = sc.textFile(\"s3://cs109-nyc-taxi/trainset7_full/part-00000\")"
   ]
  },
  {
   "cell_type": "code",
   "execution_count": 29,
   "metadata": {
    "collapsed": true
   },
   "outputs": [],
   "source": [
    "for i in xrange(1,32):\n",
    "    url = \"s3://cs109-nyc-taxi/trainset7_full/part-000%02d\" % i\n",
    "    y_new = sc.textFile(url)\n",
    "    y_rdd = y_rdd.union(y_new)"
   ]
  },
  {
   "cell_type": "code",
   "execution_count": 30,
   "metadata": {
    "collapsed": false
   },
   "outputs": [
    {
     "data": {
      "text/plain": [
       "72411100"
      ]
     },
     "execution_count": 30,
     "metadata": {},
     "output_type": "execute_result"
    }
   ],
   "source": [
    "y_rdd.count()"
   ]
  },
  {
   "cell_type": "code",
   "execution_count": 31,
   "metadata": {
    "collapsed": true
   },
   "outputs": [],
   "source": [
    "y_rdd.repartition(1).saveAsTextFile(\"s3://cs109-nyc-taxi/trainset7_full_one_file\")"
   ]
  },
  {
   "cell_type": "code",
   "execution_count": 32,
   "metadata": {
    "collapsed": true
   },
   "outputs": [],
   "source": [
    "y_rdd = sc.textFile(\"s3://cs109-nyc-taxi/validset7_full/part-00000\")"
   ]
  },
  {
   "cell_type": "code",
   "execution_count": 33,
   "metadata": {
    "collapsed": true
   },
   "outputs": [],
   "source": [
    "for i in xrange(1,32):\n",
    "    url = \"s3://cs109-nyc-taxi/validset7_full/part-000%02d\" % i\n",
    "    y_new = sc.textFile(url)\n",
    "    y_rdd = y_rdd.union(y_new)"
   ]
  },
  {
   "cell_type": "code",
   "execution_count": 34,
   "metadata": {
    "collapsed": false
   },
   "outputs": [
    {
     "data": {
      "text/plain": [
       "6278646"
      ]
     },
     "execution_count": 34,
     "metadata": {},
     "output_type": "execute_result"
    }
   ],
   "source": [
    "y_rdd.count()"
   ]
  },
  {
   "cell_type": "code",
   "execution_count": 35,
   "metadata": {
    "collapsed": true
   },
   "outputs": [],
   "source": [
    "y_rdd.repartition(1).saveAsTextFile(\"s3://cs109-nyc-taxi/validset7_full_one_file\")"
   ]
  }
 ],
 "metadata": {
  "kernelspec": {
   "display_name": "Python 2",
   "language": "python",
   "name": "python2"
  },
  "language_info": {
   "codemirror_mode": {
    "name": "ipython",
    "version": 2
   },
   "file_extension": ".py",
   "mimetype": "text/x-python",
   "name": "python",
   "nbconvert_exporter": "python",
   "pygments_lexer": "ipython2",
   "version": "2.7.10"
  }
 },
 "nbformat": 4,
 "nbformat_minor": 0
}
