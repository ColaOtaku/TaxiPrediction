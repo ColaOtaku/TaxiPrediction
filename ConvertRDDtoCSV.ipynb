{
 "cells": [
  {
   "cell_type": "markdown",
   "metadata": {},
   "source": [
    "# NYC Taxi Dataset Project - Convert RDD output to CSV"
   ]
  },
  {
   "cell_type": "markdown",
   "metadata": {},
   "source": [
    "## Overall Steps\n",
    "\n",
    "**Step 0:** Prerequisites\n",
    "\n",
    "**Step 1:** Load data, reformat, save data to csv\n"
   ]
  },
  {
   "cell_type": "markdown",
   "metadata": {},
   "source": [
    "Note: You must complete DataPrepNew.ipynb, and download the single file containing the RDD output saved as a file called taxi_data.\n",
    "\n",
    "### Step 0: Prerequisites\n",
    "You will need a directory containing the following files:\n",
    "    \n",
    "    a) a subdirectory called data containing:\n",
    "    \n",
    "        1) taxi_data\n",
    "    \n",
    "    b) ConvertRDDtoCSV.ipynb (this notebook)\n"
   ]
  },
  {
   "cell_type": "markdown",
   "metadata": {},
   "source": [
    "### Step 1: Load data, reformat, save data to csv"
   ]
  },
  {
   "cell_type": "code",
   "execution_count": 1,
   "metadata": {
    "collapsed": true
   },
   "outputs": [],
   "source": [
    "import re"
   ]
  },
  {
   "cell_type": "code",
   "execution_count": 14,
   "metadata": {
    "collapsed": false
   },
   "outputs": [],
   "source": [
    "num_records_dropped = 0\n",
    "num_valid_records = 0\n",
    "\n",
    "# Open file to read from\n",
    "with open('./data/taxi_data_test','r') as in_fp:\n",
    "    # Open file to write to\n",
    "    with open('./data/taxi_data_test.csv','w') as out_fp:\n",
    "        # Each line is of the format:\n",
    "        # ((time_cat, time_num, time_cos, time_sin, day_cat, day_num, day_cos, day_sin, weekend, geohash), number of pickups)\n",
    "        for line_str in in_fp:\n",
    "            # Bool indicating if record is valid\n",
    "            write_line_out = False\n",
    "            \n",
    "            # Get rid of parens, quotes, spaces\n",
    "            line_str = re.sub('[()\\'\\s]', '', line_str)\n",
    "            line = line_str.split(',')\n",
    "            \n",
    "            # Need to check if the datetime info is valid:\n",
    "            # (i.e. if all the data for is records was present in the original datafile)\n",
    "            #     If it is valid, line should have length 11\n",
    "            #     If it is not valid, line should be [None, geohash, number of taxis]\n",
    "            if len(line) == 15:\n",
    "            # Need to check the geohash is valid:\n",
    "            # (i.e. if latitude/longitude was present in the original datafile)\n",
    "                if line[12] is not None:\n",
    "                    csv_line = \",\".join(line[0:14]) + '\\n'\n",
    "                    write_line_out = True\n",
    "            \n",
    "            # Check if the line is valid\n",
    "            if write_line_out:\n",
    "                out_fp.write(csv_line)\n",
    "                num_valid_records += 1\n",
    "            else:\n",
    "                num_records_dropped += 1"
   ]
  },
  {
   "cell_type": "code",
   "execution_count": 11,
   "metadata": {
    "collapsed": false
   },
   "outputs": [
    {
     "name": "stdout",
     "output_type": "stream",
     "text": [
      "Number of records dropped 0\n",
      "Number of valid records 7238532\n"
     ]
    }
   ],
   "source": [
    "# See how many records were dropped\n",
    "print \"Number of records dropped\",num_records_dropped\n",
    "# See how many records were valid\n",
    "print \"Number of valid records\",num_valid_records"
   ]
  },
  {
   "cell_type": "code",
   "execution_count": 12,
   "metadata": {
    "collapsed": false
   },
   "outputs": [
    {
     "name": "stdout",
     "output_type": "stream",
     "text": [
      "(7238532, 14)\n"
     ]
    },
    {
     "data": {
      "text/html": [
       "<div>\n",
       "<table border=\"1\" class=\"dataframe\">\n",
       "  <thead>\n",
       "    <tr style=\"text-align: right;\">\n",
       "      <th></th>\n",
       "      <th>year</th>\n",
       "      <th>month</th>\n",
       "      <th>day</th>\n",
       "      <th>time_cat</th>\n",
       "      <th>time_num</th>\n",
       "      <th>time_cos</th>\n",
       "      <th>time_sin</th>\n",
       "      <th>day_cat</th>\n",
       "      <th>day_num</th>\n",
       "      <th>day_cos</th>\n",
       "      <th>day_sin</th>\n",
       "      <th>weekend</th>\n",
       "      <th>geohash</th>\n",
       "      <th>pickups</th>\n",
       "    </tr>\n",
       "  </thead>\n",
       "  <tbody>\n",
       "    <tr>\n",
       "      <th>0</th>\n",
       "      <td>2014</td>\n",
       "      <td>11</td>\n",
       "      <td>10</td>\n",
       "      <td>09:00</td>\n",
       "      <td>0.385417</td>\n",
       "      <td>-0.751840</td>\n",
       "      <td>0.659346</td>\n",
       "      <td>Monday</td>\n",
       "      <td>0.055060</td>\n",
       "      <td>0.940754</td>\n",
       "      <td>0.339090</td>\n",
       "      <td>0</td>\n",
       "      <td>dr5ry5g</td>\n",
       "      <td>1</td>\n",
       "    </tr>\n",
       "    <tr>\n",
       "      <th>1</th>\n",
       "      <td>2014</td>\n",
       "      <td>12</td>\n",
       "      <td>4</td>\n",
       "      <td>22:00</td>\n",
       "      <td>0.927083</td>\n",
       "      <td>0.896873</td>\n",
       "      <td>-0.442289</td>\n",
       "      <td>Thursday</td>\n",
       "      <td>0.561012</td>\n",
       "      <td>-0.927417</td>\n",
       "      <td>-0.374029</td>\n",
       "      <td>0</td>\n",
       "      <td>dr5rvnr</td>\n",
       "      <td>3</td>\n",
       "    </tr>\n",
       "    <tr>\n",
       "      <th>2</th>\n",
       "      <td>2014</td>\n",
       "      <td>9</td>\n",
       "      <td>15</td>\n",
       "      <td>16:00</td>\n",
       "      <td>0.677083</td>\n",
       "      <td>-0.442289</td>\n",
       "      <td>-0.896873</td>\n",
       "      <td>Monday</td>\n",
       "      <td>0.096726</td>\n",
       "      <td>0.820936</td>\n",
       "      <td>0.571021</td>\n",
       "      <td>0</td>\n",
       "      <td>dr5rs31</td>\n",
       "      <td>1</td>\n",
       "    </tr>\n",
       "    <tr>\n",
       "      <th>3</th>\n",
       "      <td>2014</td>\n",
       "      <td>8</td>\n",
       "      <td>14</td>\n",
       "      <td>19:00</td>\n",
       "      <td>0.802083</td>\n",
       "      <td>0.321439</td>\n",
       "      <td>-0.946930</td>\n",
       "      <td>Thursday</td>\n",
       "      <td>0.543155</td>\n",
       "      <td>-0.963464</td>\n",
       "      <td>-0.267839</td>\n",
       "      <td>0</td>\n",
       "      <td>dr5rkyn</td>\n",
       "      <td>2</td>\n",
       "    </tr>\n",
       "    <tr>\n",
       "      <th>4</th>\n",
       "      <td>2013</td>\n",
       "      <td>6</td>\n",
       "      <td>21</td>\n",
       "      <td>20:00</td>\n",
       "      <td>0.843750</td>\n",
       "      <td>0.555570</td>\n",
       "      <td>-0.831470</td>\n",
       "      <td>Friday</td>\n",
       "      <td>0.691964</td>\n",
       "      <td>-0.356622</td>\n",
       "      <td>-0.934249</td>\n",
       "      <td>0</td>\n",
       "      <td>dr5rzn9</td>\n",
       "      <td>10</td>\n",
       "    </tr>\n",
       "  </tbody>\n",
       "</table>\n",
       "</div>"
      ],
      "text/plain": [
       "   year  month  day time_cat  time_num  time_cos  time_sin   day_cat  \\\n",
       "0  2014     11   10    09:00  0.385417 -0.751840  0.659346    Monday   \n",
       "1  2014     12    4    22:00  0.927083  0.896873 -0.442289  Thursday   \n",
       "2  2014      9   15    16:00  0.677083 -0.442289 -0.896873    Monday   \n",
       "3  2014      8   14    19:00  0.802083  0.321439 -0.946930  Thursday   \n",
       "4  2013      6   21    20:00  0.843750  0.555570 -0.831470    Friday   \n",
       "\n",
       "    day_num   day_cos   day_sin  weekend  geohash  pickups  \n",
       "0  0.055060  0.940754  0.339090        0  dr5ry5g        1  \n",
       "1  0.561012 -0.927417 -0.374029        0  dr5rvnr        3  \n",
       "2  0.096726  0.820936  0.571021        0  dr5rs31        1  \n",
       "3  0.543155 -0.963464 -0.267839        0  dr5rkyn        2  \n",
       "4  0.691964 -0.356622 -0.934249        0  dr5rzn9       10  "
      ]
     },
     "execution_count": 12,
     "metadata": {},
     "output_type": "execute_result"
    }
   ],
   "source": [
    "import pandas as pd\n",
    "names = [\"year\",\"month\",\"day\",\"time_cat\", \"time_num\", \"time_cos\", \"time_sin\", \"day_cat\", \"day_num\", \"day_cos\", \"day_sin\", \"weekend\", \"geohash\", \"pickups\"]\n",
    "dftaxi=pd.read_csv(\"./data/taxi_data_training.csv\", header=None, names=names)\n",
    "print dftaxi.shape\n",
    "dftaxi.head()"
   ]
  },
  {
   "cell_type": "code",
   "execution_count": 13,
   "metadata": {
    "collapsed": true
   },
   "outputs": [],
   "source": [
    "dftaxi = 1"
   ]
  },
  {
   "cell_type": "code",
   "execution_count": null,
   "metadata": {
    "collapsed": true
   },
   "outputs": [],
   "source": []
  }
 ],
 "metadata": {
  "kernelspec": {
   "display_name": "Python 2",
   "language": "python",
   "name": "python2"
  },
  "language_info": {
   "codemirror_mode": {
    "name": "ipython",
    "version": 2
   },
   "file_extension": ".py",
   "mimetype": "text/x-python",
   "name": "python",
   "nbconvert_exporter": "python",
   "pygments_lexer": "ipython2",
   "version": "2.7.10"
  }
 },
 "nbformat": 4,
 "nbformat_minor": 0
}
