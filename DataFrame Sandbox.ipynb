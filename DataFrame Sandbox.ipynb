{
 "cells": [
  {
   "cell_type": "code",
   "execution_count": 1,
   "metadata": {
    "collapsed": false
   },
   "outputs": [
    {
     "data": {
      "text/plain": [
       "<pyspark.context.SparkContext at 0x7fdfb16d4e10>"
      ]
     },
     "execution_count": 1,
     "metadata": {},
     "output_type": "execute_result"
    }
   ],
   "source": [
    "import numpy as np\n",
    "import scipy as sp\n",
    "import pandas as pd\n",
    "from pyspark.sql import SQLContext\n",
    "from pyspark.sql.types import *\n",
    "\n",
    "import TaxiSparkSchema\n",
    "import geohash\n",
    "\n",
    "from datetime import *\n",
    "from dateutil.parser import parse\n",
    "\n",
    "pd.set_option('display.width', 500)\n",
    "pd.set_option('display.max_columns', 100)\n",
    "pd.set_option('display.notebook_repr_html', True)\n",
    "\n",
    "sc"
   ]
  },
  {
   "cell_type": "markdown",
   "metadata": {},
   "source": [
    "## 0. Prerequsites\n",
    "\n",
    "1. Setup the spark cluster\n",
    "2. Upload (a) this notebook (b) TaxiSparkSchema.py (c) geohash.py\n",
    "3. When you start pyspark, use the following command instead. This is required for loading the spark-csv framework used by data frames. This library is used in the last section for sanity checking.\n",
    ">pyspark --packages com.databricks:spark-csv_2.10:1.3.0"
   ]
  },
  {
   "cell_type": "markdown",
   "metadata": {},
   "source": [
    "## 1. Setup the schema and load required libraries"
   ]
  },
  {
   "cell_type": "code",
   "execution_count": 2,
   "metadata": {
    "collapsed": false
   },
   "outputs": [
    {
     "name": "stdout",
     "output_type": "stream",
     "text": [
      "# of columns:  20\n",
      "# of columns:  22\n"
     ]
    }
   ],
   "source": [
    "yCabSchema = TaxiSparkSchema.getYellowCabSchema()\n",
    "gCabSchema = TaxiSparkSchema.getGreenCabSchema()"
   ]
  },
  {
   "cell_type": "code",
   "execution_count": 3,
   "metadata": {
    "collapsed": false
   },
   "outputs": [],
   "source": [
    "sc.addPyFile(\"TaxiSparkSchema.py\")\n",
    "sc.addPyFile(\"geohash.py\")"
   ]
  },
  {
   "cell_type": "code",
   "execution_count": 4,
   "metadata": {
    "collapsed": true
   },
   "outputs": [],
   "source": [
    "sqlContext = SQLContext(sc)\n",
    "yCabDF = sqlContext.read.format('com.databricks.spark.csv').options( mode=\"PERMISSIVE\", header='false').load('s3://testsetu/nyc/final/yellow/consolidated/part*', schema = yCabSchema)\n",
    "gCabDF = sqlContext.read.format('com.databricks.spark.csv').options( mode=\"PERMISSIVE\", header='false').load('s3://testsetu/nyc/final/green/consolidated/pa*', schema = gCabSchema)\n",
    "#gCabDF = sqlContext.read.format('com.databricks.spark.csv').options( mode=\"PERMISSIVE\", header='false').load('s3://testsetu/nyc/final/green/consolidated/pa*', schema = gCabSchema)"
   ]
  },
  {
   "cell_type": "markdown",
   "metadata": {},
   "source": [
    "## 2. Some basic cleanup\n",
    "\n",
    "There seems to be 325 records in the Yellow Cab data with **incorrect latitud**. the below code filters them out."
   ]
  },
  {
   "cell_type": "code",
   "execution_count": 26,
   "metadata": {
    "collapsed": true
   },
   "outputs": [],
   "source": [
    "yCabDF = yCabDF.filter((yCabDF.pickup_latitude >-90.0) & (yCabDF.pickup_latitude < 90.0))"
   ]
  },
  {
   "cell_type": "code",
   "execution_count": 22,
   "metadata": {
    "collapsed": false
   },
   "outputs": [
    {
     "name": "stdout",
     "output_type": "stream",
     "text": [
      "# dirty latitude recoerds:  325\n"
     ]
    }
   ],
   "source": [
    "totalRecordsYellowCab = 407403053\n",
    "print \"# dirty latitude records: \", totalRecordsYellowCab - yFil.count()"
   ]
  },
  {
   "cell_type": "markdown",
   "metadata": {},
   "source": [
    "## 3. Checking out the data structure"
   ]
  },
  {
   "cell_type": "code",
   "execution_count": 11,
   "metadata": {
    "collapsed": false
   },
   "outputs": [
    {
     "name": "stdout",
     "output_type": "stream",
     "text": [
      "root\n",
      " |-- cab_company: string (nullable = true)\n",
      " |-- vendor_id: string (nullable = true)\n",
      " |-- pickup_datetime: timestamp (nullable = true)\n",
      " |-- dropoff_datetime: timestamp (nullable = true)\n",
      " |-- passenger_count: integer (nullable = true)\n",
      " |-- trip_distance: float (nullable = true)\n",
      " |-- pickup_longitude: float (nullable = true)\n",
      " |-- pickup_latitude: float (nullable = true)\n",
      " |-- rate_code_id: string (nullable = true)\n",
      " |-- store_and_fwd_flag: string (nullable = true)\n",
      " |-- dropoff_longitude: float (nullable = true)\n",
      " |-- dropoff_latitude: float (nullable = true)\n",
      " |-- payment_type: string (nullable = true)\n",
      " |-- fare_amount: float (nullable = true)\n",
      " |-- extra: float (nullable = true)\n",
      " |-- mta_tax: float (nullable = true)\n",
      " |-- tip_amount: float (nullable = true)\n",
      " |-- tolls_amount: float (nullable = true)\n",
      " |-- improvement_surcharge: float (nullable = true)\n",
      " |-- total_amount: float (nullable = true)\n",
      "\n"
     ]
    }
   ],
   "source": [
    "yCabDF.printSchema()"
   ]
  },
  {
   "cell_type": "code",
   "execution_count": 23,
   "metadata": {
    "collapsed": false
   },
   "outputs": [
    {
     "name": "stdout",
     "output_type": "stream",
     "text": [
      "CPU times: user 20 ms, sys: 12 ms, total: 32 ms\n",
      "Wall time: 5min 10s\n"
     ]
    },
    {
     "data": {
      "text/plain": [
       "407403053"
      ]
     },
     "execution_count": 23,
     "metadata": {},
     "output_type": "execute_result"
    }
   ],
   "source": [
    "#Number of Yellow cab records\n",
    "%time yCabDF.count()"
   ]
  },
  {
   "cell_type": "code",
   "execution_count": 5,
   "metadata": {
    "collapsed": false
   },
   "outputs": [
    {
     "name": "stdout",
     "output_type": "stream",
     "text": [
      "Count of # records from data frame:  26869879\n",
      "CPU times: user 4 ms, sys: 4 ms, total: 8 ms\n",
      "Wall time: 32.5 s\n"
     ]
    }
   ],
   "source": [
    "#Number of Green cab records\n",
    "%time print \"Count of # records from data frame: \", gCabDF.count()"
   ]
  },
  {
   "cell_type": "markdown",
   "metadata": {},
   "source": [
    "## 4. Checking out the GeoSpatial data"
   ]
  },
  {
   "cell_type": "code",
   "execution_count": 9,
   "metadata": {
    "collapsed": false
   },
   "outputs": [
    {
     "name": "stdout",
     "output_type": "stream",
     "text": [
      "3968\n",
      "CPU times: user 28 ms, sys: 4 ms, total: 32 ms\n",
      "Wall time: 1min 2s\n"
     ]
    }
   ],
   "source": [
    "precision = 6\n",
    "gCabPickupGeoHash = gCabDF.select(\"pickup_latitude\", \"pickup_longitude\").map(lambda latLong: geohash.encode(latLong[0], latLong[1], precision))\n",
    "%time print gCabPickupGeoHash.distinct().count()"
   ]
  },
  {
   "cell_type": "code",
   "execution_count": 27,
   "metadata": {
    "collapsed": false
   },
   "outputs": [
    {
     "name": "stdout",
     "output_type": "stream",
     "text": [
      "30365\n",
      "CPU times: user 120 ms, sys: 64 ms, total: 184 ms\n",
      "Wall time: 14min 13s\n"
     ]
    }
   ],
   "source": [
    "precision = 6\n",
    "yCabPickupGeoHash = yCabDF.select(\"pickup_latitude\", \"pickup_longitude\").map(lambda latLong: geohash.encode(latLong[0], latLong[1], precision))\n",
    "%time print yCabPickupGeoHash.distinct().count()"
   ]
  },
  {
   "cell_type": "markdown",
   "metadata": {},
   "source": [
    "## 5. Feature Extraction"
   ]
  },
  {
   "cell_type": "code",
   "execution_count": 33,
   "metadata": {
    "collapsed": false
   },
   "outputs": [],
   "source": [
    "#Add extra column: geohash\n",
    "#gCabDF.withColumn(\"pickup_geohash\", geohash.encode(col(gCabDF.pickup_latitude, col(gCabDF.pickup_longitude), precision))\n",
    "#gCabDF.map(lambda record: )\n"
   ]
  },
  {
   "cell_type": "code",
   "execution_count": null,
   "metadata": {
    "collapsed": true
   },
   "outputs": [],
   "source": []
  }
 ],
 "metadata": {
  "kernelspec": {
   "display_name": "Python 2",
   "language": "python",
   "name": "python2"
  },
  "language_info": {
   "codemirror_mode": {
    "name": "ipython",
    "version": 2
   },
   "file_extension": ".py",
   "mimetype": "text/x-python",
   "name": "python",
   "nbconvert_exporter": "python",
   "pygments_lexer": "ipython2",
   "version": "2.7.10"
  }
 },
 "nbformat": 4,
 "nbformat_minor": 0
}
