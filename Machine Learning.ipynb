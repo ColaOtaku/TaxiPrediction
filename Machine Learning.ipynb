{
 "cells": [
  {
   "cell_type": "markdown",
   "metadata": {},
   "source": [
    "### Preamble"
   ]
  },
  {
   "cell_type": "code",
   "execution_count": 1,
   "metadata": {
    "collapsed": true
   },
   "outputs": [],
   "source": [
    "# Configure libraries\n",
    "\n",
    "%matplotlib inline\n",
    "import numpy as np\n",
    "import scipy as sp\n",
    "import matplotlib as mpl\n",
    "import matplotlib.cm as cm\n",
    "import matplotlib.pyplot as plt\n",
    "import pandas as pd\n",
    "pd.set_option('display.width', 500)\n",
    "pd.set_option('display.max_columns', 100)\n",
    "pd.set_option('display.notebook_repr_html', True)\n",
    "import seaborn as sns\n",
    "sns.set_style(\"whitegrid\")\n",
    "sns.set_context(\"poster\")\n",
    "from sklearn.grid_search import GridSearchCV\n",
    "from sklearn.cross_validation import train_test_split\n",
    "from sklearn.metrics import confusion_matrix\n",
    "from sklearn.ensemble import RandomForestRegressor\n",
    "from sklearn.pipeline import Pipeline\n",
    "from sklearn.cross_validation import cross_val_score\n",
    "import geohash\n",
    "from sklearn.metrics import mean_squared_error"
   ]
  },
  {
   "cell_type": "code",
   "execution_count": 2,
   "metadata": {
    "collapsed": true
   },
   "outputs": [],
   "source": [
    "# Funtion for cross-validation over a grid of parameters\n",
    "\n",
    "def cv_optimize(clf, parameters, X, y, n_jobs=1, n_folds=5, score_func=None):\n",
    "    if score_func:\n",
    "        gs = GridSearchCV(clf, param_grid=parameters, cv=n_folds, n_jobs=n_jobs, scoring=score_func)\n",
    "    else:\n",
    "        gs = GridSearchCV(clf, param_grid=parameters, n_jobs=n_jobs, cv=n_folds)\n",
    "    gs.fit(X, y)\n",
    "    print \"BEST\", gs.best_params_, gs.best_score_, gs.grid_scores_\n",
    "    best = gs.best_estimator_\n",
    "    return best"
   ]
  },
  {
   "cell_type": "markdown",
   "metadata": {},
   "source": [
    "###  Reading the data"
   ]
  },
  {
   "cell_type": "code",
   "execution_count": 3,
   "metadata": {
    "collapsed": false
   },
   "outputs": [
    {
     "name": "stdout",
     "output_type": "stream",
     "text": [
      "(312330, 11)\n"
     ]
    },
    {
     "data": {
      "text/html": [
       "<div>\n",
       "<table border=\"1\" class=\"dataframe\">\n",
       "  <thead>\n",
       "    <tr style=\"text-align: right;\">\n",
       "      <th></th>\n",
       "      <th>time_cat</th>\n",
       "      <th>time_num</th>\n",
       "      <th>time_cos</th>\n",
       "      <th>time_sin</th>\n",
       "      <th>day_cat</th>\n",
       "      <th>day_num</th>\n",
       "      <th>day_cos</th>\n",
       "      <th>day_sin</th>\n",
       "      <th>weekend</th>\n",
       "      <th>geohash</th>\n",
       "      <th>pickups</th>\n",
       "    </tr>\n",
       "  </thead>\n",
       "  <tbody>\n",
       "    <tr>\n",
       "      <th>0</th>\n",
       "      <td>22:00</td>\n",
       "      <td>0.937500</td>\n",
       "      <td>0.923880</td>\n",
       "      <td>-0.382683</td>\n",
       "      <td>Monday</td>\n",
       "      <td>0.133929</td>\n",
       "      <td>0.666347</td>\n",
       "      <td>0.745642</td>\n",
       "      <td>0</td>\n",
       "      <td>dr5rst</td>\n",
       "      <td>5476</td>\n",
       "    </tr>\n",
       "    <tr>\n",
       "      <th>1</th>\n",
       "      <td>22:00</td>\n",
       "      <td>0.937500</td>\n",
       "      <td>0.923880</td>\n",
       "      <td>-0.382683</td>\n",
       "      <td>Monday</td>\n",
       "      <td>0.133929</td>\n",
       "      <td>0.666347</td>\n",
       "      <td>0.745642</td>\n",
       "      <td>0</td>\n",
       "      <td>dr5xep</td>\n",
       "      <td>3</td>\n",
       "    </tr>\n",
       "    <tr>\n",
       "      <th>2</th>\n",
       "      <td>02:00</td>\n",
       "      <td>0.104167</td>\n",
       "      <td>0.793353</td>\n",
       "      <td>0.608761</td>\n",
       "      <td>Wednesday</td>\n",
       "      <td>0.300595</td>\n",
       "      <td>-0.312572</td>\n",
       "      <td>0.949894</td>\n",
       "      <td>0</td>\n",
       "      <td>dr5rek</td>\n",
       "      <td>18</td>\n",
       "    </tr>\n",
       "    <tr>\n",
       "      <th>3</th>\n",
       "      <td>05:00</td>\n",
       "      <td>0.229167</td>\n",
       "      <td>0.130526</td>\n",
       "      <td>0.991445</td>\n",
       "      <td>Thursday</td>\n",
       "      <td>0.461310</td>\n",
       "      <td>-0.970597</td>\n",
       "      <td>0.240712</td>\n",
       "      <td>0</td>\n",
       "      <td>dr72qr</td>\n",
       "      <td>54</td>\n",
       "    </tr>\n",
       "    <tr>\n",
       "      <th>4</th>\n",
       "      <td>08:00</td>\n",
       "      <td>0.354167</td>\n",
       "      <td>-0.608761</td>\n",
       "      <td>0.793353</td>\n",
       "      <td>Tuesday</td>\n",
       "      <td>0.193452</td>\n",
       "      <td>0.347871</td>\n",
       "      <td>0.937542</td>\n",
       "      <td>0</td>\n",
       "      <td>dr70jn</td>\n",
       "      <td>2</td>\n",
       "    </tr>\n",
       "  </tbody>\n",
       "</table>\n",
       "</div>"
      ],
      "text/plain": [
       "  time_cat  time_num  time_cos  time_sin    day_cat   day_num   day_cos   day_sin  weekend geohash  pickups\n",
       "0    22:00  0.937500  0.923880 -0.382683     Monday  0.133929  0.666347  0.745642        0  dr5rst     5476\n",
       "1    22:00  0.937500  0.923880 -0.382683     Monday  0.133929  0.666347  0.745642        0  dr5xep        3\n",
       "2    02:00  0.104167  0.793353  0.608761  Wednesday  0.300595 -0.312572  0.949894        0  dr5rek       18\n",
       "3    05:00  0.229167  0.130526  0.991445   Thursday  0.461310 -0.970597  0.240712        0  dr72qr       54\n",
       "4    08:00  0.354167 -0.608761  0.793353    Tuesday  0.193452  0.347871  0.937542        0  dr70jn        2"
      ]
     },
     "execution_count": 3,
     "metadata": {},
     "output_type": "execute_result"
    }
   ],
   "source": [
    "# Each line is of the format:\n",
    "# ((time_cat, time_num, time_cos, time_sin, day_cat, day_num, day_cos, day_sin, weekend, geohash), number of pickups)\n",
    "names = [\"time_cat\", \"time_num\", \"time_cos\", \"time_sin\", \"day_cat\", \"day_num\", \"day_cos\", \"day_sin\", \"weekend\", \"geohash\", \"pickups\"]\n",
    "dftaxi=pd.read_csv(\"./data/taxi_data.csv\", header=None, names = names)\n",
    "print dftaxi.shape\n",
    "\n",
    "# n = 50000\n",
    "# dftaxi = dftaxi.head(n)\n",
    "dftaxi.head()"
   ]
  },
  {
   "cell_type": "markdown",
   "metadata": {},
   "source": [
    "### Define training and test sets"
   ]
  },
  {
   "cell_type": "code",
   "execution_count": 4,
   "metadata": {
    "collapsed": false
   },
   "outputs": [
    {
     "data": {
      "text/plain": [
       "array([ True,  True, False, False, False,  True, False,  True,  True, False], dtype=bool)"
      ]
     },
     "execution_count": 4,
     "metadata": {},
     "output_type": "execute_result"
    }
   ],
   "source": [
    "itrain, itest = train_test_split(xrange(dftaxi.shape[0]), train_size=0.8)\n",
    "mask=np.ones(dftaxi.shape[0], dtype='int')\n",
    "mask[itrain]=1\n",
    "mask[itest]=0\n",
    "mask = (mask==1)\n",
    "mask[:10]"
   ]
  },
  {
   "cell_type": "markdown",
   "metadata": {},
   "source": [
    "### Final preperation for machine learning"
   ]
  },
  {
   "cell_type": "code",
   "execution_count": 57,
   "metadata": {
    "collapsed": true
   },
   "outputs": [],
   "source": [
    "# Split off the features\n",
    "Xnames = [\"time_cat\", \"time_num\", \"time_cos\", \"time_sin\", \"day_cat\",\n",
    "          \"day_num\", \"day_cos\", \"day_sin\", \"weekend\", \"geohash\"]\n",
    "X = dftaxi[Xnames]\n",
    "\n",
    "# Split off the target (which will be the logarithm of the number of pickups (+1))\n",
    "y = np.log10(dftaxi['pickups']+1)"
   ]
  },
  {
   "cell_type": "code",
   "execution_count": 58,
   "metadata": {
    "collapsed": false
   },
   "outputs": [],
   "source": [
    "# Get the longitude and latitude from the geohash\n",
    "def decodegeo(geo, which):\n",
    "    if len(geo) == 6:\n",
    "        geodecoded = geohash.decode(geo)\n",
    "        return geodecoded[which]\n",
    "    else:\n",
    "        return 0\n",
    "X['latitude'] = X['geohash'].apply(lambda geo: decodegeo(geo, 0))\n",
    "X['longitude'] = X['geohash'].apply(lambda geo: decodegeo(geo, 1))"
   ]
  },
  {
   "cell_type": "code",
   "execution_count": 59,
   "metadata": {
    "collapsed": false
   },
   "outputs": [
    {
     "data": {
      "text/html": [
       "<div>\n",
       "<table border=\"1\" class=\"dataframe\">\n",
       "  <thead>\n",
       "    <tr style=\"text-align: right;\">\n",
       "      <th></th>\n",
       "      <th>time_cat</th>\n",
       "      <th>time_num</th>\n",
       "      <th>time_cos</th>\n",
       "      <th>time_sin</th>\n",
       "      <th>day_cat</th>\n",
       "      <th>day_num</th>\n",
       "      <th>day_cos</th>\n",
       "      <th>day_sin</th>\n",
       "      <th>weekend</th>\n",
       "      <th>geohash</th>\n",
       "      <th>latitude</th>\n",
       "      <th>longitude</th>\n",
       "    </tr>\n",
       "  </thead>\n",
       "  <tbody>\n",
       "    <tr>\n",
       "      <th>0</th>\n",
       "      <td>22:00</td>\n",
       "      <td>0.937500</td>\n",
       "      <td>0.923880</td>\n",
       "      <td>-0.382683</td>\n",
       "      <td>Monday</td>\n",
       "      <td>0.133929</td>\n",
       "      <td>0.666347</td>\n",
       "      <td>0.745642</td>\n",
       "      <td>0</td>\n",
       "      <td>dr5rst</td>\n",
       "      <td>40.723572</td>\n",
       "      <td>-73.976440</td>\n",
       "    </tr>\n",
       "    <tr>\n",
       "      <th>1</th>\n",
       "      <td>22:00</td>\n",
       "      <td>0.937500</td>\n",
       "      <td>0.923880</td>\n",
       "      <td>-0.382683</td>\n",
       "      <td>Monday</td>\n",
       "      <td>0.133929</td>\n",
       "      <td>0.666347</td>\n",
       "      <td>0.745642</td>\n",
       "      <td>0</td>\n",
       "      <td>dr5xep</td>\n",
       "      <td>40.734558</td>\n",
       "      <td>-73.690796</td>\n",
       "    </tr>\n",
       "    <tr>\n",
       "      <th>2</th>\n",
       "      <td>02:00</td>\n",
       "      <td>0.104167</td>\n",
       "      <td>0.793353</td>\n",
       "      <td>0.608761</td>\n",
       "      <td>Wednesday</td>\n",
       "      <td>0.300595</td>\n",
       "      <td>-0.312572</td>\n",
       "      <td>0.949894</td>\n",
       "      <td>0</td>\n",
       "      <td>dr5rek</td>\n",
       "      <td>40.718079</td>\n",
       "      <td>-74.031372</td>\n",
       "    </tr>\n",
       "    <tr>\n",
       "      <th>3</th>\n",
       "      <td>05:00</td>\n",
       "      <td>0.229167</td>\n",
       "      <td>0.130526</td>\n",
       "      <td>0.991445</td>\n",
       "      <td>Thursday</td>\n",
       "      <td>0.461310</td>\n",
       "      <td>-0.970597</td>\n",
       "      <td>0.240712</td>\n",
       "      <td>0</td>\n",
       "      <td>dr72qr</td>\n",
       "      <td>40.866394</td>\n",
       "      <td>-73.899536</td>\n",
       "    </tr>\n",
       "    <tr>\n",
       "      <th>4</th>\n",
       "      <td>08:00</td>\n",
       "      <td>0.354167</td>\n",
       "      <td>-0.608761</td>\n",
       "      <td>0.793353</td>\n",
       "      <td>Tuesday</td>\n",
       "      <td>0.193452</td>\n",
       "      <td>0.347871</td>\n",
       "      <td>0.937542</td>\n",
       "      <td>0</td>\n",
       "      <td>dr70jn</td>\n",
       "      <td>40.816956</td>\n",
       "      <td>-74.306030</td>\n",
       "    </tr>\n",
       "  </tbody>\n",
       "</table>\n",
       "</div>"
      ],
      "text/plain": [
       "  time_cat  time_num  time_cos  time_sin    day_cat   day_num   day_cos   day_sin  weekend geohash   latitude  longitude\n",
       "0    22:00  0.937500  0.923880 -0.382683     Monday  0.133929  0.666347  0.745642        0  dr5rst  40.723572 -73.976440\n",
       "1    22:00  0.937500  0.923880 -0.382683     Monday  0.133929  0.666347  0.745642        0  dr5xep  40.734558 -73.690796\n",
       "2    02:00  0.104167  0.793353  0.608761  Wednesday  0.300595 -0.312572  0.949894        0  dr5rek  40.718079 -74.031372\n",
       "3    05:00  0.229167  0.130526  0.991445   Thursday  0.461310 -0.970597  0.240712        0  dr72qr  40.866394 -73.899536\n",
       "4    08:00  0.354167 -0.608761  0.793353    Tuesday  0.193452  0.347871  0.937542        0  dr70jn  40.816956 -74.306030"
      ]
     },
     "execution_count": 59,
     "metadata": {},
     "output_type": "execute_result"
    }
   ],
   "source": [
    "X.head()"
   ]
  },
  {
   "cell_type": "code",
   "execution_count": 60,
   "metadata": {
    "collapsed": false
   },
   "outputs": [],
   "source": [
    "# Create indicator variables for the hours and days of the week and drop the categorical values\n",
    "# g = 5\n",
    "X = X.join(pd.get_dummies(X['time_cat']))\\\n",
    "     .join(pd.get_dummies(X['day_cat']))\\\n",
    "     .drop(['time_cat','day_cat','geohash'], axis=1)\n",
    "#     .join(pd.get_dummies(X['geohash'].str[:g]))\\"
   ]
  },
  {
   "cell_type": "code",
   "execution_count": 61,
   "metadata": {
    "collapsed": false
   },
   "outputs": [
    {
     "name": "stdout",
     "output_type": "stream",
     "text": [
      "<class 'pandas.core.frame.DataFrame'>\n",
      "Int64Index: 312330 entries, 0 to 312329\n",
      "Data columns (total 40 columns):\n",
      "time_num     312330 non-null float64\n",
      "time_cos     312330 non-null float64\n",
      "time_sin     312330 non-null float64\n",
      "day_num      312330 non-null float64\n",
      "day_cos      312330 non-null float64\n",
      "day_sin      312330 non-null float64\n",
      "weekend      312330 non-null int64\n",
      "latitude     312330 non-null float64\n",
      "longitude    312330 non-null float64\n",
      "00:00        312330 non-null float64\n",
      "01:00        312330 non-null float64\n",
      "02:00        312330 non-null float64\n",
      "03:00        312330 non-null float64\n",
      "04:00        312330 non-null float64\n",
      "05:00        312330 non-null float64\n",
      "06:00        312330 non-null float64\n",
      "07:00        312330 non-null float64\n",
      "08:00        312330 non-null float64\n",
      "09:00        312330 non-null float64\n",
      "10:00        312330 non-null float64\n",
      "11:00        312330 non-null float64\n",
      "12:00        312330 non-null float64\n",
      "13:00        312330 non-null float64\n",
      "14:00        312330 non-null float64\n",
      "15:00        312330 non-null float64\n",
      "16:00        312330 non-null float64\n",
      "17:00        312330 non-null float64\n",
      "18:00        312330 non-null float64\n",
      "19:00        312330 non-null float64\n",
      "20:00        312330 non-null float64\n",
      "21:00        312330 non-null float64\n",
      "22:00        312330 non-null float64\n",
      "23:00        312330 non-null float64\n",
      "Friday       312330 non-null float64\n",
      "Monday       312330 non-null float64\n",
      "Saturday     312330 non-null float64\n",
      "Sunday       312330 non-null float64\n",
      "Thursday     312330 non-null float64\n",
      "Tuesday      312330 non-null float64\n",
      "Wednesday    312330 non-null float64\n",
      "dtypes: float64(39), int64(1)\n",
      "memory usage: 97.7 MB\n"
     ]
    }
   ],
   "source": [
    "X.head()\n",
    "X.info() # http://pandas.pydata.org/pandas-docs/stable/faq.html"
   ]
  },
  {
   "cell_type": "markdown",
   "metadata": {},
   "source": [
    "### Get the training and test sets"
   ]
  },
  {
   "cell_type": "code",
   "execution_count": 62,
   "metadata": {
    "collapsed": false
   },
   "outputs": [
    {
     "data": {
      "text/html": [
       "<div>\n",
       "<table border=\"1\" class=\"dataframe\">\n",
       "  <thead>\n",
       "    <tr style=\"text-align: right;\">\n",
       "      <th></th>\n",
       "      <th>time_num</th>\n",
       "      <th>time_cos</th>\n",
       "      <th>time_sin</th>\n",
       "      <th>day_num</th>\n",
       "      <th>day_cos</th>\n",
       "      <th>day_sin</th>\n",
       "      <th>weekend</th>\n",
       "      <th>latitude</th>\n",
       "      <th>longitude</th>\n",
       "      <th>00:00</th>\n",
       "      <th>01:00</th>\n",
       "      <th>02:00</th>\n",
       "      <th>03:00</th>\n",
       "      <th>04:00</th>\n",
       "      <th>05:00</th>\n",
       "      <th>06:00</th>\n",
       "      <th>07:00</th>\n",
       "      <th>08:00</th>\n",
       "      <th>09:00</th>\n",
       "      <th>10:00</th>\n",
       "      <th>11:00</th>\n",
       "      <th>12:00</th>\n",
       "      <th>13:00</th>\n",
       "      <th>14:00</th>\n",
       "      <th>15:00</th>\n",
       "      <th>16:00</th>\n",
       "      <th>17:00</th>\n",
       "      <th>18:00</th>\n",
       "      <th>19:00</th>\n",
       "      <th>20:00</th>\n",
       "      <th>21:00</th>\n",
       "      <th>22:00</th>\n",
       "      <th>23:00</th>\n",
       "      <th>Friday</th>\n",
       "      <th>Monday</th>\n",
       "      <th>Saturday</th>\n",
       "      <th>Sunday</th>\n",
       "      <th>Thursday</th>\n",
       "      <th>Tuesday</th>\n",
       "      <th>Wednesday</th>\n",
       "    </tr>\n",
       "  </thead>\n",
       "  <tbody>\n",
       "    <tr>\n",
       "      <th>0</th>\n",
       "      <td>0.937500</td>\n",
       "      <td>0.923880</td>\n",
       "      <td>-0.382683</td>\n",
       "      <td>0.133929</td>\n",
       "      <td>0.666347</td>\n",
       "      <td>0.745642</td>\n",
       "      <td>0</td>\n",
       "      <td>40.723572</td>\n",
       "      <td>-73.976440</td>\n",
       "      <td>0</td>\n",
       "      <td>0</td>\n",
       "      <td>0</td>\n",
       "      <td>0</td>\n",
       "      <td>0</td>\n",
       "      <td>0</td>\n",
       "      <td>0</td>\n",
       "      <td>0</td>\n",
       "      <td>0</td>\n",
       "      <td>0</td>\n",
       "      <td>0</td>\n",
       "      <td>0</td>\n",
       "      <td>0</td>\n",
       "      <td>0</td>\n",
       "      <td>0</td>\n",
       "      <td>0</td>\n",
       "      <td>0</td>\n",
       "      <td>0</td>\n",
       "      <td>0</td>\n",
       "      <td>0</td>\n",
       "      <td>0</td>\n",
       "      <td>0</td>\n",
       "      <td>1</td>\n",
       "      <td>0</td>\n",
       "      <td>0</td>\n",
       "      <td>1</td>\n",
       "      <td>0</td>\n",
       "      <td>0</td>\n",
       "      <td>0</td>\n",
       "      <td>0</td>\n",
       "      <td>0</td>\n",
       "    </tr>\n",
       "    <tr>\n",
       "      <th>1</th>\n",
       "      <td>0.937500</td>\n",
       "      <td>0.923880</td>\n",
       "      <td>-0.382683</td>\n",
       "      <td>0.133929</td>\n",
       "      <td>0.666347</td>\n",
       "      <td>0.745642</td>\n",
       "      <td>0</td>\n",
       "      <td>40.734558</td>\n",
       "      <td>-73.690796</td>\n",
       "      <td>0</td>\n",
       "      <td>0</td>\n",
       "      <td>0</td>\n",
       "      <td>0</td>\n",
       "      <td>0</td>\n",
       "      <td>0</td>\n",
       "      <td>0</td>\n",
       "      <td>0</td>\n",
       "      <td>0</td>\n",
       "      <td>0</td>\n",
       "      <td>0</td>\n",
       "      <td>0</td>\n",
       "      <td>0</td>\n",
       "      <td>0</td>\n",
       "      <td>0</td>\n",
       "      <td>0</td>\n",
       "      <td>0</td>\n",
       "      <td>0</td>\n",
       "      <td>0</td>\n",
       "      <td>0</td>\n",
       "      <td>0</td>\n",
       "      <td>0</td>\n",
       "      <td>1</td>\n",
       "      <td>0</td>\n",
       "      <td>0</td>\n",
       "      <td>1</td>\n",
       "      <td>0</td>\n",
       "      <td>0</td>\n",
       "      <td>0</td>\n",
       "      <td>0</td>\n",
       "      <td>0</td>\n",
       "    </tr>\n",
       "    <tr>\n",
       "      <th>5</th>\n",
       "      <td>0.229167</td>\n",
       "      <td>0.130526</td>\n",
       "      <td>0.991445</td>\n",
       "      <td>0.032738</td>\n",
       "      <td>0.978918</td>\n",
       "      <td>0.204252</td>\n",
       "      <td>0</td>\n",
       "      <td>40.641174</td>\n",
       "      <td>-73.844604</td>\n",
       "      <td>0</td>\n",
       "      <td>0</td>\n",
       "      <td>0</td>\n",
       "      <td>0</td>\n",
       "      <td>0</td>\n",
       "      <td>1</td>\n",
       "      <td>0</td>\n",
       "      <td>0</td>\n",
       "      <td>0</td>\n",
       "      <td>0</td>\n",
       "      <td>0</td>\n",
       "      <td>0</td>\n",
       "      <td>0</td>\n",
       "      <td>0</td>\n",
       "      <td>0</td>\n",
       "      <td>0</td>\n",
       "      <td>0</td>\n",
       "      <td>0</td>\n",
       "      <td>0</td>\n",
       "      <td>0</td>\n",
       "      <td>0</td>\n",
       "      <td>0</td>\n",
       "      <td>0</td>\n",
       "      <td>0</td>\n",
       "      <td>0</td>\n",
       "      <td>1</td>\n",
       "      <td>0</td>\n",
       "      <td>0</td>\n",
       "      <td>0</td>\n",
       "      <td>0</td>\n",
       "      <td>0</td>\n",
       "    </tr>\n",
       "    <tr>\n",
       "      <th>7</th>\n",
       "      <td>0.020833</td>\n",
       "      <td>0.991445</td>\n",
       "      <td>0.130526</td>\n",
       "      <td>0.288690</td>\n",
       "      <td>-0.240712</td>\n",
       "      <td>0.970597</td>\n",
       "      <td>0</td>\n",
       "      <td>40.619202</td>\n",
       "      <td>-73.943481</td>\n",
       "      <td>1</td>\n",
       "      <td>0</td>\n",
       "      <td>0</td>\n",
       "      <td>0</td>\n",
       "      <td>0</td>\n",
       "      <td>0</td>\n",
       "      <td>0</td>\n",
       "      <td>0</td>\n",
       "      <td>0</td>\n",
       "      <td>0</td>\n",
       "      <td>0</td>\n",
       "      <td>0</td>\n",
       "      <td>0</td>\n",
       "      <td>0</td>\n",
       "      <td>0</td>\n",
       "      <td>0</td>\n",
       "      <td>0</td>\n",
       "      <td>0</td>\n",
       "      <td>0</td>\n",
       "      <td>0</td>\n",
       "      <td>0</td>\n",
       "      <td>0</td>\n",
       "      <td>0</td>\n",
       "      <td>0</td>\n",
       "      <td>0</td>\n",
       "      <td>0</td>\n",
       "      <td>0</td>\n",
       "      <td>0</td>\n",
       "      <td>0</td>\n",
       "      <td>0</td>\n",
       "      <td>1</td>\n",
       "    </tr>\n",
       "    <tr>\n",
       "      <th>8</th>\n",
       "      <td>0.770833</td>\n",
       "      <td>0.130526</td>\n",
       "      <td>-0.991445</td>\n",
       "      <td>0.252976</td>\n",
       "      <td>-0.018699</td>\n",
       "      <td>0.999825</td>\n",
       "      <td>0</td>\n",
       "      <td>40.657654</td>\n",
       "      <td>-73.723755</td>\n",
       "      <td>0</td>\n",
       "      <td>0</td>\n",
       "      <td>0</td>\n",
       "      <td>0</td>\n",
       "      <td>0</td>\n",
       "      <td>0</td>\n",
       "      <td>0</td>\n",
       "      <td>0</td>\n",
       "      <td>0</td>\n",
       "      <td>0</td>\n",
       "      <td>0</td>\n",
       "      <td>0</td>\n",
       "      <td>0</td>\n",
       "      <td>0</td>\n",
       "      <td>0</td>\n",
       "      <td>0</td>\n",
       "      <td>0</td>\n",
       "      <td>0</td>\n",
       "      <td>1</td>\n",
       "      <td>0</td>\n",
       "      <td>0</td>\n",
       "      <td>0</td>\n",
       "      <td>0</td>\n",
       "      <td>0</td>\n",
       "      <td>0</td>\n",
       "      <td>0</td>\n",
       "      <td>0</td>\n",
       "      <td>0</td>\n",
       "      <td>0</td>\n",
       "      <td>1</td>\n",
       "      <td>0</td>\n",
       "    </tr>\n",
       "  </tbody>\n",
       "</table>\n",
       "</div>"
      ],
      "text/plain": [
       "   time_num  time_cos  time_sin   day_num   day_cos   day_sin  weekend   latitude  longitude  00:00  01:00  02:00  03:00  04:00  05:00  06:00  07:00  08:00  09:00  10:00  11:00  12:00  13:00  14:00  15:00  16:00  17:00  18:00  19:00  20:00  21:00  22:00  23:00  Friday  Monday  Saturday  Sunday  Thursday  Tuesday  Wednesday\n",
       "0  0.937500  0.923880 -0.382683  0.133929  0.666347  0.745642        0  40.723572 -73.976440      0      0      0      0      0      0      0      0      0      0      0      0      0      0      0      0      0      0      0      0      0      0      1      0       0       1         0       0         0        0          0\n",
       "1  0.937500  0.923880 -0.382683  0.133929  0.666347  0.745642        0  40.734558 -73.690796      0      0      0      0      0      0      0      0      0      0      0      0      0      0      0      0      0      0      0      0      0      0      1      0       0       1         0       0         0        0          0\n",
       "5  0.229167  0.130526  0.991445  0.032738  0.978918  0.204252        0  40.641174 -73.844604      0      0      0      0      0      1      0      0      0      0      0      0      0      0      0      0      0      0      0      0      0      0      0      0       0       1         0       0         0        0          0\n",
       "7  0.020833  0.991445  0.130526  0.288690 -0.240712  0.970597        0  40.619202 -73.943481      1      0      0      0      0      0      0      0      0      0      0      0      0      0      0      0      0      0      0      0      0      0      0      0       0       0         0       0         0        0          1\n",
       "8  0.770833  0.130526 -0.991445  0.252976 -0.018699  0.999825        0  40.657654 -73.723755      0      0      0      0      0      0      0      0      0      0      0      0      0      0      0      0      0      0      1      0      0      0      0      0       0       0         0       0         0        1          0"
      ]
     },
     "execution_count": 62,
     "metadata": {},
     "output_type": "execute_result"
    }
   ],
   "source": [
    "Xtrain, Xtest, ytrain, ytest = X[mask], X[~mask], y[mask], y[~mask]\n",
    "n_samples = Xtrain.shape[0]\n",
    "n_features = Xtrain.shape[1]\n",
    "Xtrain.head()"
   ]
  },
  {
   "cell_type": "markdown",
   "metadata": {},
   "source": [
    "### Random Forest Regression"
   ]
  },
  {
   "cell_type": "code",
   "execution_count": 11,
   "metadata": {
    "collapsed": false
   },
   "outputs": [],
   "source": [
    "# Create a Random Forest Regression estimator\n",
    "estimator = RandomForestRegressor(random_state=0, n_estimators=100, n_jobs=-1)"
   ]
  },
  {
   "cell_type": "code",
   "execution_count": 13,
   "metadata": {
    "collapsed": false
   },
   "outputs": [
    {
     "name": "stdout",
     "output_type": "stream",
     "text": [
      "BEST {'max_features': 'auto', 'n_estimators': 100} -0.0206022292971 [mean: -0.04350, std: 0.00059, params: {'max_features': 'auto', 'n_estimators': 1}, mean: -0.03192, std: 0.00044, params: {'max_features': 'auto', 'n_estimators': 2}, mean: -0.02500, std: 0.00024, params: {'max_features': 'auto', 'n_estimators': 5}, mean: -0.02263, std: 0.00026, params: {'max_features': 'auto', 'n_estimators': 10}, mean: -0.02150, std: 0.00022, params: {'max_features': 'auto', 'n_estimators': 20}, mean: -0.02083, std: 0.00018, params: {'max_features': 'auto', 'n_estimators': 50}, mean: -0.02060, std: 0.00017, params: {'max_features': 'auto', 'n_estimators': 100}]\n",
      "Wall time: 26min 24s\n"
     ]
    }
   ],
   "source": [
    "%%time\n",
    "# Define a grid of parameters over which to optimize the random forest\n",
    "# We will figure out which number of trees is optimal\n",
    "parameters = {\"n_estimators\": [1,2,5,10,20,50,100], \"max_features\": [\"auto\"]} # [\"auto\",\"sqrt\",\"log2\"]\n",
    "best = cv_optimize(estimator, parameters, Xtrain, ytrain, score_func='mean_squared_error')"
   ]
  },
  {
   "cell_type": "markdown",
   "metadata": {},
   "source": [
    "### Evaluate the results"
   ]
  },
  {
   "cell_type": "code",
   "execution_count": 14,
   "metadata": {
    "collapsed": false
   },
   "outputs": [
    {
     "name": "stdout",
     "output_type": "stream",
     "text": [
      "############# based on standard predict ################\n",
      "R^2 on training data: 0.9976\n",
      "R^2 on test data:     0.9829\n"
     ]
    }
   ],
   "source": [
    "# Fit the best Random Forest and calculate R^2 values for training and test sets\n",
    "reg=best.fit(Xtrain, ytrain)\n",
    "training_accuracy = reg.score(Xtrain, ytrain)\n",
    "test_accuracy = reg.score(Xtest, ytest)\n",
    "print \"############# based on standard predict ################\"\n",
    "print \"R^2 on training data: %0.4f\" % (training_accuracy)\n",
    "print \"R^2 on test data:     %0.4f\" % (test_accuracy)\n"
   ]
  },
  {
   "cell_type": "code",
   "execution_count": 15,
   "metadata": {
    "collapsed": false
   },
   "outputs": [
    {
     "data": {
      "text/plain": [
       "array([[14, 18],\n",
       "       [82, 54],\n",
       "       [ 1,  2],\n",
       "       ..., \n",
       "       [69, 43],\n",
       "       [ 1,  1],\n",
       "       [78, 73]])"
      ]
     },
     "execution_count": 15,
     "metadata": {},
     "output_type": "execute_result"
    }
   ],
   "source": [
    "# Show some of the predictions vs. the real number of pickups\n",
    "# predictions vs. real number of pickups\n",
    "np.round(np.power(10,np.column_stack((reg.predict(Xtest),ytest))) - 1,decimals=0).astype(int)"
   ]
  },
  {
   "cell_type": "code",
   "execution_count": 16,
   "metadata": {
    "collapsed": false
   },
   "outputs": [
    {
     "data": {
      "text/plain": [
       "0.13874775789291882"
      ]
     },
     "execution_count": 16,
     "metadata": {},
     "output_type": "execute_result"
    }
   ],
   "source": [
    "# Calculate the Root Mean Squared Error\n",
    "np.sqrt(mean_squared_error(reg.predict(Xtest),ytest))"
   ]
  },
  {
   "cell_type": "code",
   "execution_count": 17,
   "metadata": {
    "collapsed": false
   },
   "outputs": [
    {
     "data": {
      "text/plain": [
       "[('longitude', 0.55106921611840609),\n",
       " ('latitude', 0.40910715177375095),\n",
       " ('time_num', 0.01326481573615192),\n",
       " ('time_cos', 0.0055988625564140195),\n",
       " ('day_sin', 0.0049410718365886395),\n",
       " ('day_num', 0.0043325735479966951),\n",
       " ('time_sin', 0.0038848278821744277),\n",
       " ('day_cos', 0.0024896997185055768),\n",
       " ('03:00', 0.00032909317599588814),\n",
       " ('weekend', 0.00032382335834664917),\n",
       " ('08:00', 0.00027236043093186422),\n",
       " ('Friday', 0.00024653499530508246),\n",
       " ('04:00', 0.00023754211740766067),\n",
       " ('Wednesday', 0.00022642512634473905),\n",
       " ('07:00', 0.00020736443263761771),\n",
       " ('06:00', 0.00020342575310213214),\n",
       " ('Saturday', 0.0001954715331625305),\n",
       " ('05:00', 0.00018939232506098142),\n",
       " ('02:00', 0.00017836012836718241),\n",
       " ('Tuesday', 0.00017088124382944159),\n",
       " ('09:00', 0.00016160841671645107),\n",
       " ('16:00', 0.00015316886248659798),\n",
       " ('Sunday', 0.00015006319757993912),\n",
       " ('15:00', 0.00014802743667468798),\n",
       " ('10:00', 0.00014684024605048998),\n",
       " ('20:00', 0.00013840505018140816),\n",
       " ('21:00', 0.00013714731945380096),\n",
       " ('19:00', 0.00013527927252715691),\n",
       " ('14:00', 0.00013402161862812148),\n",
       " ('00:00', 0.00012876485934728695),\n",
       " ('01:00', 0.00012761880159461875),\n",
       " ('13:00', 0.00012418439774710297),\n",
       " ('22:00', 0.00012288653802177085),\n",
       " ('17:00', 0.00012138838803787596),\n",
       " ('Thursday', 0.00011573292285707254),\n",
       " ('18:00', 0.00011540441588325039),\n",
       " ('12:00', 0.00011006843586126416),\n",
       " ('11:00', 0.0001046317068746146),\n",
       " ('Monday', 9.4513546573757074e-05),\n",
       " ('23:00', 6.1350776422777444e-05)]"
      ]
     },
     "execution_count": 17,
     "metadata": {},
     "output_type": "execute_result"
    }
   ],
   "source": [
    "# What are the most important features?\n",
    "import operator\n",
    "dict_feat_imp = dict(zip(list(X.columns.values),reg.feature_importances_))\n",
    "\n",
    "sorted_features = sorted(dict_feat_imp.items(), key=operator.itemgetter(1), reverse=True)\n",
    "sorted_features"
   ]
  },
  {
   "cell_type": "markdown",
   "metadata": {},
   "source": [
    "### Create predictions for visualization"
   ]
  },
  {
   "cell_type": "markdown",
   "metadata": {},
   "source": [
    "Now we are going to generate predictions that we can visualize in Tableau."
   ]
  },
  {
   "cell_type": "markdown",
   "metadata": {},
   "source": [
    "#### First we need a dataframe with all possible combinations of time and location"
   ]
  },
  {
   "cell_type": "code",
   "execution_count": 113,
   "metadata": {
    "collapsed": false
   },
   "outputs": [],
   "source": [
    "# Construct dataframes with all possible times (time_data) and all possible locations (loc_data)\n",
    "\n",
    "# Columns about time\n",
    "time_cols = list(X.columns.values)\n",
    "time_cols.remove('latitude')\n",
    "time_cols.remove('longitude')\n",
    "\n",
    "# Columns about location\n",
    "loc_cols = ['latitude', 'longitude']\n",
    "\n",
    "# Unique times\n",
    "time_data = X.drop(loc_cols, axis=1).drop_duplicates()\n",
    "\n",
    "# Unique locations\n",
    "loc_data = X.drop(time_cols, axis=1).drop_duplicates()"
   ]
  },
  {
   "cell_type": "code",
   "execution_count": 90,
   "metadata": {
    "collapsed": false
   },
   "outputs": [],
   "source": [
    "# Dummy column to be able to join them together\n",
    "time_data['key'] = 1\n",
    "loc_data['key'] = 1\n",
    "\n",
    "# Merge the time_data and location_data\n",
    "result = pd.merge(time_data, loc_data, on='key').drop(['key'], axis=1)\n",
    "result = result[Xtrain.columns.values]"
   ]
  },
  {
   "cell_type": "markdown",
   "metadata": {},
   "source": [
    "#### Then we do the prediction"
   ]
  },
  {
   "cell_type": "code",
   "execution_count": 92,
   "metadata": {
    "collapsed": false
   },
   "outputs": [
    {
     "name": "stdout",
     "output_type": "stream",
     "text": [
      "<class 'pandas.core.frame.DataFrame'>\n",
      "Int64Index: 312330 entries, 0 to 312329\n",
      "Data columns (total 5 columns):\n",
      "geohash      312330 non-null object\n",
      "day_num      312330 non-null float64\n",
      "pickups      312330 non-null int64\n",
      "latitude     312330 non-null float64\n",
      "longitude    312330 non-null float64\n",
      "dtypes: float64(3), int64(1), object(1)\n",
      "memory usage: 14.3+ MB\n"
     ]
    }
   ],
   "source": [
    "# Get the real number of pickups and take care that we can merge it with the predictions,\n",
    "# by also taking the geohash and the timestamp\n",
    "yy = dftaxi[['geohash','day_num','pickups']]\n",
    "\n",
    "# Decode the geohash in the latitude and longitude\n",
    "yy['latitude'] = yy['geohash'].apply(lambda geo: decodegeo(geo, 0))\n",
    "yy['longitude'] = yy['geohash'].apply(lambda geo: decodegeo(geo, 1))\n",
    "\n",
    "# Do predictions and convert the logarithm to the normal numbers\n",
    "result['pred_pickups'] = np.power(10,reg.predict(result))\n",
    "\n",
    "# Merge the predictions and the real pickups\n",
    "result = pd.merge(result, yy, how='left', on=['day_num', 'latitude', 'longitude']).drop(['geohash'], axis=1)\n",
    "result.head(20)"
   ]
  },
  {
   "cell_type": "code",
   "execution_count": 100,
   "metadata": {
    "collapsed": false
   },
   "outputs": [],
   "source": [
    "# Write to csv\n",
    "result.to_csv('./data/taxi-data-predictions.csv')"
   ]
  }
 ],
 "metadata": {
  "kernelspec": {
   "display_name": "Python 2",
   "language": "python",
   "name": "python2"
  },
  "language_info": {
   "codemirror_mode": {
    "name": "ipython",
    "version": 2
   },
   "file_extension": ".py",
   "mimetype": "text/x-python",
   "name": "python",
   "nbconvert_exporter": "python",
   "pygments_lexer": "ipython2",
   "version": "2.7.10"
  }
 },
 "nbformat": 4,
 "nbformat_minor": 0
}
