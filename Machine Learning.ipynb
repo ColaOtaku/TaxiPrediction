{
 "cells": [
  {
   "cell_type": "markdown",
   "metadata": {},
   "source": [
    "### Preamble"
   ]
  },
  {
   "cell_type": "code",
   "execution_count": 1,
   "metadata": {
    "collapsed": true
   },
   "outputs": [],
   "source": [
    "# Configure libraries\n",
    "\n",
    "%matplotlib inline\n",
    "import numpy as np\n",
    "import scipy as sp\n",
    "import matplotlib as mpl\n",
    "import matplotlib.cm as cm\n",
    "import matplotlib.pyplot as plt\n",
    "import pandas as pd\n",
    "pd.set_option('display.width', 500)\n",
    "pd.set_option('display.max_columns', 100)\n",
    "pd.set_option('display.notebook_repr_html', True)\n",
    "import seaborn as sns\n",
    "sns.set_style(\"whitegrid\")\n",
    "sns.set_context(\"poster\")\n",
    "from sklearn.grid_search import GridSearchCV\n",
    "from sklearn.cross_validation import train_test_split\n",
    "from sklearn.metrics import confusion_matrix\n",
    "from sklearn.ensemble import RandomForestRegressor\n",
    "from sklearn.pipeline import Pipeline\n",
    "from sklearn.cross_validation import cross_val_score\n",
    "import geohash\n",
    "from sklearn.metrics import mean_squared_error"
   ]
  },
  {
   "cell_type": "code",
   "execution_count": 2,
   "metadata": {
    "collapsed": true
   },
   "outputs": [],
   "source": [
    "# Funtion for cross-validation over a grid of parameters\n",
    "\n",
    "def cv_optimize(clf, parameters, X, y, n_jobs=1, n_folds=5, score_func=None):\n",
    "    if score_func:\n",
    "        gs = GridSearchCV(clf, param_grid=parameters, cv=n_folds, n_jobs=n_jobs, scoring=score_func)\n",
    "    else:\n",
    "        gs = GridSearchCV(clf, param_grid=parameters, n_jobs=n_jobs, cv=n_folds)\n",
    "    gs.fit(X, y)\n",
    "    print \"BEST\", gs.best_params_, gs.best_score_, gs.grid_scores_\n",
    "    best = gs.best_estimator_\n",
    "    return best"
   ]
  },
  {
   "cell_type": "markdown",
   "metadata": {},
   "source": [
    "###  Reading the data"
   ]
  },
  {
   "cell_type": "code",
   "execution_count": 67,
   "metadata": {
    "collapsed": false
   },
   "outputs": [
    {
     "name": "stdout",
     "output_type": "stream",
     "text": [
      "(312330, 11)\n"
     ]
    },
    {
     "data": {
      "text/html": [
       "<div>\n",
       "<table border=\"1\" class=\"dataframe\">\n",
       "  <thead>\n",
       "    <tr style=\"text-align: right;\">\n",
       "      <th></th>\n",
       "      <th>time_cat</th>\n",
       "      <th>time_num</th>\n",
       "      <th>time_cos</th>\n",
       "      <th>time_sin</th>\n",
       "      <th>day_cat</th>\n",
       "      <th>day_num</th>\n",
       "      <th>day_cos</th>\n",
       "      <th>day_sin</th>\n",
       "      <th>weekend</th>\n",
       "      <th>geohash</th>\n",
       "      <th>pickups</th>\n",
       "    </tr>\n",
       "  </thead>\n",
       "  <tbody>\n",
       "    <tr>\n",
       "      <th>0</th>\n",
       "      <td>22:00</td>\n",
       "      <td>0.937500</td>\n",
       "      <td>0.923880</td>\n",
       "      <td>-0.382683</td>\n",
       "      <td>Monday</td>\n",
       "      <td>0.133929</td>\n",
       "      <td>0.666347</td>\n",
       "      <td>0.745642</td>\n",
       "      <td>0</td>\n",
       "      <td>dr5rst</td>\n",
       "      <td>5476</td>\n",
       "    </tr>\n",
       "    <tr>\n",
       "      <th>1</th>\n",
       "      <td>22:00</td>\n",
       "      <td>0.937500</td>\n",
       "      <td>0.923880</td>\n",
       "      <td>-0.382683</td>\n",
       "      <td>Monday</td>\n",
       "      <td>0.133929</td>\n",
       "      <td>0.666347</td>\n",
       "      <td>0.745642</td>\n",
       "      <td>0</td>\n",
       "      <td>dr5xep</td>\n",
       "      <td>3</td>\n",
       "    </tr>\n",
       "    <tr>\n",
       "      <th>2</th>\n",
       "      <td>02:00</td>\n",
       "      <td>0.104167</td>\n",
       "      <td>0.793353</td>\n",
       "      <td>0.608761</td>\n",
       "      <td>Wednesday</td>\n",
       "      <td>0.300595</td>\n",
       "      <td>-0.312572</td>\n",
       "      <td>0.949894</td>\n",
       "      <td>0</td>\n",
       "      <td>dr5rek</td>\n",
       "      <td>18</td>\n",
       "    </tr>\n",
       "    <tr>\n",
       "      <th>3</th>\n",
       "      <td>05:00</td>\n",
       "      <td>0.229167</td>\n",
       "      <td>0.130526</td>\n",
       "      <td>0.991445</td>\n",
       "      <td>Thursday</td>\n",
       "      <td>0.461310</td>\n",
       "      <td>-0.970597</td>\n",
       "      <td>0.240712</td>\n",
       "      <td>0</td>\n",
       "      <td>dr72qr</td>\n",
       "      <td>54</td>\n",
       "    </tr>\n",
       "    <tr>\n",
       "      <th>4</th>\n",
       "      <td>08:00</td>\n",
       "      <td>0.354167</td>\n",
       "      <td>-0.608761</td>\n",
       "      <td>0.793353</td>\n",
       "      <td>Tuesday</td>\n",
       "      <td>0.193452</td>\n",
       "      <td>0.347871</td>\n",
       "      <td>0.937542</td>\n",
       "      <td>0</td>\n",
       "      <td>dr70jn</td>\n",
       "      <td>2</td>\n",
       "    </tr>\n",
       "  </tbody>\n",
       "</table>\n",
       "</div>"
      ],
      "text/plain": [
       "  time_cat  time_num  time_cos  time_sin    day_cat   day_num   day_cos   day_sin  weekend geohash  pickups\n",
       "0    22:00  0.937500  0.923880 -0.382683     Monday  0.133929  0.666347  0.745642        0  dr5rst     5476\n",
       "1    22:00  0.937500  0.923880 -0.382683     Monday  0.133929  0.666347  0.745642        0  dr5xep        3\n",
       "2    02:00  0.104167  0.793353  0.608761  Wednesday  0.300595 -0.312572  0.949894        0  dr5rek       18\n",
       "3    05:00  0.229167  0.130526  0.991445   Thursday  0.461310 -0.970597  0.240712        0  dr72qr       54\n",
       "4    08:00  0.354167 -0.608761  0.793353    Tuesday  0.193452  0.347871  0.937542        0  dr70jn        2"
      ]
     },
     "execution_count": 67,
     "metadata": {},
     "output_type": "execute_result"
    }
   ],
   "source": [
    "# Each line is of the format:\n",
    "# ((time_cat, time_num, time_cos, time_sin, day_cat, day_num, day_cos, day_sin, weekend, geohash), number of pickups)\n",
    "names = [\"time_cat\", \"time_num\", \"time_cos\", \"time_sin\", \"day_cat\", \"day_num\", \"day_cos\", \"day_sin\", \"weekend\", \"geohash\", \"pickups\"]\n",
    "dftaxi=pd.read_csv(\"./data/taxi_data.csv\", header=None, names = names)\n",
    "print dftaxi.shape\n",
    "\n",
    "# n = 50000\n",
    "# dftaxi = dftaxi.head(n)\n",
    "dftaxi.head()"
   ]
  },
  {
   "cell_type": "markdown",
   "metadata": {},
   "source": [
    "### Define training and test sets"
   ]
  },
  {
   "cell_type": "code",
   "execution_count": 4,
   "metadata": {
    "collapsed": false
   },
   "outputs": [
    {
     "data": {
      "text/plain": [
       "array([ True, False,  True,  True, False,  True,  True,  True,  True, False], dtype=bool)"
      ]
     },
     "execution_count": 4,
     "metadata": {},
     "output_type": "execute_result"
    }
   ],
   "source": [
    "itrain, itest = train_test_split(xrange(dftaxi.shape[0]), train_size=0.8)\n",
    "mask=np.ones(dftaxi.shape[0], dtype='int')\n",
    "mask[itrain]=1\n",
    "mask[itest]=0\n",
    "mask = (mask==1)\n",
    "mask[:10]"
   ]
  },
  {
   "cell_type": "markdown",
   "metadata": {},
   "source": [
    "### Final preperation for machine learning"
   ]
  },
  {
   "cell_type": "code",
   "execution_count": 20,
   "metadata": {
    "collapsed": true
   },
   "outputs": [],
   "source": [
    "# Split off the features\n",
    "Xnames = [\"time_cat\", \"time_num\", \"time_cos\", \"time_sin\", \"day_cat\",\n",
    "          \"day_num\", \"day_cos\", \"day_sin\", \"weekend\", \"geohash\"]\n",
    "X = dftaxi[Xnames]\n",
    "\n",
    "# Split off the target (which will be the logarithm of the number of pickups (+1))\n",
    "y = np.log10(dftaxi['pickups']+1)"
   ]
  },
  {
   "cell_type": "code",
   "execution_count": 21,
   "metadata": {
    "collapsed": false
   },
   "outputs": [],
   "source": [
    "# Get the longitude and latitude from the geohash\n",
    "def decodegeo(geo, which):\n",
    "    if len(geo) == 6:\n",
    "        geodecoded = geohash.decode(geo)\n",
    "        return geodecoded[which]\n",
    "    else:\n",
    "        return 0\n",
    "X['latitude'] = X['geohash'].apply(lambda geo: decodegeo(geo, 0))\n",
    "X['longitude'] = X['geohash'].apply(lambda geo: decodegeo(geo, 1))"
   ]
  },
  {
   "cell_type": "code",
   "execution_count": 22,
   "metadata": {
    "collapsed": false
   },
   "outputs": [
    {
     "data": {
      "text/html": [
       "<div>\n",
       "<table border=\"1\" class=\"dataframe\">\n",
       "  <thead>\n",
       "    <tr style=\"text-align: right;\">\n",
       "      <th></th>\n",
       "      <th>time_cat</th>\n",
       "      <th>time_num</th>\n",
       "      <th>time_cos</th>\n",
       "      <th>time_sin</th>\n",
       "      <th>day_cat</th>\n",
       "      <th>day_num</th>\n",
       "      <th>day_cos</th>\n",
       "      <th>day_sin</th>\n",
       "      <th>weekend</th>\n",
       "      <th>geohash</th>\n",
       "      <th>latitude</th>\n",
       "      <th>longitude</th>\n",
       "    </tr>\n",
       "  </thead>\n",
       "  <tbody>\n",
       "    <tr>\n",
       "      <th>0</th>\n",
       "      <td>22:00</td>\n",
       "      <td>0.937500</td>\n",
       "      <td>0.923880</td>\n",
       "      <td>-0.382683</td>\n",
       "      <td>Monday</td>\n",
       "      <td>0.133929</td>\n",
       "      <td>0.666347</td>\n",
       "      <td>0.745642</td>\n",
       "      <td>0</td>\n",
       "      <td>dr5rst</td>\n",
       "      <td>40.723572</td>\n",
       "      <td>-73.976440</td>\n",
       "    </tr>\n",
       "    <tr>\n",
       "      <th>1</th>\n",
       "      <td>22:00</td>\n",
       "      <td>0.937500</td>\n",
       "      <td>0.923880</td>\n",
       "      <td>-0.382683</td>\n",
       "      <td>Monday</td>\n",
       "      <td>0.133929</td>\n",
       "      <td>0.666347</td>\n",
       "      <td>0.745642</td>\n",
       "      <td>0</td>\n",
       "      <td>dr5xep</td>\n",
       "      <td>40.734558</td>\n",
       "      <td>-73.690796</td>\n",
       "    </tr>\n",
       "    <tr>\n",
       "      <th>2</th>\n",
       "      <td>02:00</td>\n",
       "      <td>0.104167</td>\n",
       "      <td>0.793353</td>\n",
       "      <td>0.608761</td>\n",
       "      <td>Wednesday</td>\n",
       "      <td>0.300595</td>\n",
       "      <td>-0.312572</td>\n",
       "      <td>0.949894</td>\n",
       "      <td>0</td>\n",
       "      <td>dr5rek</td>\n",
       "      <td>40.718079</td>\n",
       "      <td>-74.031372</td>\n",
       "    </tr>\n",
       "    <tr>\n",
       "      <th>3</th>\n",
       "      <td>05:00</td>\n",
       "      <td>0.229167</td>\n",
       "      <td>0.130526</td>\n",
       "      <td>0.991445</td>\n",
       "      <td>Thursday</td>\n",
       "      <td>0.461310</td>\n",
       "      <td>-0.970597</td>\n",
       "      <td>0.240712</td>\n",
       "      <td>0</td>\n",
       "      <td>dr72qr</td>\n",
       "      <td>40.866394</td>\n",
       "      <td>-73.899536</td>\n",
       "    </tr>\n",
       "    <tr>\n",
       "      <th>4</th>\n",
       "      <td>08:00</td>\n",
       "      <td>0.354167</td>\n",
       "      <td>-0.608761</td>\n",
       "      <td>0.793353</td>\n",
       "      <td>Tuesday</td>\n",
       "      <td>0.193452</td>\n",
       "      <td>0.347871</td>\n",
       "      <td>0.937542</td>\n",
       "      <td>0</td>\n",
       "      <td>dr70jn</td>\n",
       "      <td>40.816956</td>\n",
       "      <td>-74.306030</td>\n",
       "    </tr>\n",
       "  </tbody>\n",
       "</table>\n",
       "</div>"
      ],
      "text/plain": [
       "  time_cat  time_num  time_cos  time_sin    day_cat   day_num   day_cos   day_sin  weekend geohash   latitude  longitude\n",
       "0    22:00  0.937500  0.923880 -0.382683     Monday  0.133929  0.666347  0.745642        0  dr5rst  40.723572 -73.976440\n",
       "1    22:00  0.937500  0.923880 -0.382683     Monday  0.133929  0.666347  0.745642        0  dr5xep  40.734558 -73.690796\n",
       "2    02:00  0.104167  0.793353  0.608761  Wednesday  0.300595 -0.312572  0.949894        0  dr5rek  40.718079 -74.031372\n",
       "3    05:00  0.229167  0.130526  0.991445   Thursday  0.461310 -0.970597  0.240712        0  dr72qr  40.866394 -73.899536\n",
       "4    08:00  0.354167 -0.608761  0.793353    Tuesday  0.193452  0.347871  0.937542        0  dr70jn  40.816956 -74.306030"
      ]
     },
     "execution_count": 22,
     "metadata": {},
     "output_type": "execute_result"
    }
   ],
   "source": [
    "X.head()"
   ]
  },
  {
   "cell_type": "code",
   "execution_count": 24,
   "metadata": {
    "collapsed": false
   },
   "outputs": [],
   "source": [
    "# Create indicator variables for the hours and days of the week and drop the categorical values\n",
    "# g = 5\n",
    "X = X.join(pd.get_dummies(X['time_cat']))\\\n",
    "     .join(pd.get_dummies(X['day_cat']))\\\n",
    "     .drop(['time_cat','day_cat','geohash'], axis=1)\n",
    "#     .join(pd.get_dummies(X['geohash'].str[:g]))\\"
   ]
  },
  {
   "cell_type": "code",
   "execution_count": 25,
   "metadata": {
    "collapsed": false
   },
   "outputs": [
    {
     "name": "stdout",
     "output_type": "stream",
     "text": [
      "<class 'pandas.core.frame.DataFrame'>\n",
      "Int64Index: 50000 entries, 0 to 49999\n",
      "Data columns (total 40 columns):\n",
      "time_num     50000 non-null float64\n",
      "time_cos     50000 non-null float64\n",
      "time_sin     50000 non-null float64\n",
      "day_num      50000 non-null float64\n",
      "day_cos      50000 non-null float64\n",
      "day_sin      50000 non-null float64\n",
      "weekend      50000 non-null int64\n",
      "latitude     50000 non-null float64\n",
      "longitude    50000 non-null float64\n",
      "00:00        50000 non-null float64\n",
      "01:00        50000 non-null float64\n",
      "02:00        50000 non-null float64\n",
      "03:00        50000 non-null float64\n",
      "04:00        50000 non-null float64\n",
      "05:00        50000 non-null float64\n",
      "06:00        50000 non-null float64\n",
      "07:00        50000 non-null float64\n",
      "08:00        50000 non-null float64\n",
      "09:00        50000 non-null float64\n",
      "10:00        50000 non-null float64\n",
      "11:00        50000 non-null float64\n",
      "12:00        50000 non-null float64\n",
      "13:00        50000 non-null float64\n",
      "14:00        50000 non-null float64\n",
      "15:00        50000 non-null float64\n",
      "16:00        50000 non-null float64\n",
      "17:00        50000 non-null float64\n",
      "18:00        50000 non-null float64\n",
      "19:00        50000 non-null float64\n",
      "20:00        50000 non-null float64\n",
      "21:00        50000 non-null float64\n",
      "22:00        50000 non-null float64\n",
      "23:00        50000 non-null float64\n",
      "Friday       50000 non-null float64\n",
      "Monday       50000 non-null float64\n",
      "Saturday     50000 non-null float64\n",
      "Sunday       50000 non-null float64\n",
      "Thursday     50000 non-null float64\n",
      "Tuesday      50000 non-null float64\n",
      "Wednesday    50000 non-null float64\n",
      "dtypes: float64(39), int64(1)\n",
      "memory usage: 15.6 MB\n"
     ]
    }
   ],
   "source": [
    "X.head()\n",
    "X.info() # http://pandas.pydata.org/pandas-docs/stable/faq.html"
   ]
  },
  {
   "cell_type": "markdown",
   "metadata": {},
   "source": [
    "### Get the training and test sets"
   ]
  },
  {
   "cell_type": "code",
   "execution_count": 26,
   "metadata": {
    "collapsed": false
   },
   "outputs": [
    {
     "data": {
      "text/html": [
       "<div>\n",
       "<table border=\"1\" class=\"dataframe\">\n",
       "  <thead>\n",
       "    <tr style=\"text-align: right;\">\n",
       "      <th></th>\n",
       "      <th>time_num</th>\n",
       "      <th>time_cos</th>\n",
       "      <th>time_sin</th>\n",
       "      <th>day_num</th>\n",
       "      <th>day_cos</th>\n",
       "      <th>day_sin</th>\n",
       "      <th>weekend</th>\n",
       "      <th>latitude</th>\n",
       "      <th>longitude</th>\n",
       "      <th>00:00</th>\n",
       "      <th>01:00</th>\n",
       "      <th>02:00</th>\n",
       "      <th>03:00</th>\n",
       "      <th>04:00</th>\n",
       "      <th>05:00</th>\n",
       "      <th>06:00</th>\n",
       "      <th>07:00</th>\n",
       "      <th>08:00</th>\n",
       "      <th>09:00</th>\n",
       "      <th>10:00</th>\n",
       "      <th>11:00</th>\n",
       "      <th>12:00</th>\n",
       "      <th>13:00</th>\n",
       "      <th>14:00</th>\n",
       "      <th>15:00</th>\n",
       "      <th>16:00</th>\n",
       "      <th>17:00</th>\n",
       "      <th>18:00</th>\n",
       "      <th>19:00</th>\n",
       "      <th>20:00</th>\n",
       "      <th>21:00</th>\n",
       "      <th>22:00</th>\n",
       "      <th>23:00</th>\n",
       "      <th>Friday</th>\n",
       "      <th>Monday</th>\n",
       "      <th>Saturday</th>\n",
       "      <th>Sunday</th>\n",
       "      <th>Thursday</th>\n",
       "      <th>Tuesday</th>\n",
       "      <th>Wednesday</th>\n",
       "    </tr>\n",
       "  </thead>\n",
       "  <tbody>\n",
       "    <tr>\n",
       "      <th>0</th>\n",
       "      <td>0.937500</td>\n",
       "      <td>0.923880</td>\n",
       "      <td>-0.382683</td>\n",
       "      <td>0.133929</td>\n",
       "      <td>0.666347</td>\n",
       "      <td>0.745642</td>\n",
       "      <td>0</td>\n",
       "      <td>40.723572</td>\n",
       "      <td>-73.976440</td>\n",
       "      <td>0</td>\n",
       "      <td>0</td>\n",
       "      <td>0</td>\n",
       "      <td>0</td>\n",
       "      <td>0</td>\n",
       "      <td>0</td>\n",
       "      <td>0</td>\n",
       "      <td>0</td>\n",
       "      <td>0</td>\n",
       "      <td>0</td>\n",
       "      <td>0</td>\n",
       "      <td>0</td>\n",
       "      <td>0</td>\n",
       "      <td>0</td>\n",
       "      <td>0</td>\n",
       "      <td>0</td>\n",
       "      <td>0</td>\n",
       "      <td>0</td>\n",
       "      <td>0</td>\n",
       "      <td>0</td>\n",
       "      <td>0</td>\n",
       "      <td>0</td>\n",
       "      <td>1</td>\n",
       "      <td>0</td>\n",
       "      <td>0</td>\n",
       "      <td>1</td>\n",
       "      <td>0</td>\n",
       "      <td>0</td>\n",
       "      <td>0</td>\n",
       "      <td>0</td>\n",
       "      <td>0</td>\n",
       "    </tr>\n",
       "    <tr>\n",
       "      <th>2</th>\n",
       "      <td>0.104167</td>\n",
       "      <td>0.793353</td>\n",
       "      <td>0.608761</td>\n",
       "      <td>0.300595</td>\n",
       "      <td>-0.312572</td>\n",
       "      <td>0.949894</td>\n",
       "      <td>0</td>\n",
       "      <td>40.718079</td>\n",
       "      <td>-74.031372</td>\n",
       "      <td>0</td>\n",
       "      <td>0</td>\n",
       "      <td>1</td>\n",
       "      <td>0</td>\n",
       "      <td>0</td>\n",
       "      <td>0</td>\n",
       "      <td>0</td>\n",
       "      <td>0</td>\n",
       "      <td>0</td>\n",
       "      <td>0</td>\n",
       "      <td>0</td>\n",
       "      <td>0</td>\n",
       "      <td>0</td>\n",
       "      <td>0</td>\n",
       "      <td>0</td>\n",
       "      <td>0</td>\n",
       "      <td>0</td>\n",
       "      <td>0</td>\n",
       "      <td>0</td>\n",
       "      <td>0</td>\n",
       "      <td>0</td>\n",
       "      <td>0</td>\n",
       "      <td>0</td>\n",
       "      <td>0</td>\n",
       "      <td>0</td>\n",
       "      <td>0</td>\n",
       "      <td>0</td>\n",
       "      <td>0</td>\n",
       "      <td>0</td>\n",
       "      <td>0</td>\n",
       "      <td>1</td>\n",
       "    </tr>\n",
       "    <tr>\n",
       "      <th>3</th>\n",
       "      <td>0.229167</td>\n",
       "      <td>0.130526</td>\n",
       "      <td>0.991445</td>\n",
       "      <td>0.461310</td>\n",
       "      <td>-0.970597</td>\n",
       "      <td>0.240712</td>\n",
       "      <td>0</td>\n",
       "      <td>40.866394</td>\n",
       "      <td>-73.899536</td>\n",
       "      <td>0</td>\n",
       "      <td>0</td>\n",
       "      <td>0</td>\n",
       "      <td>0</td>\n",
       "      <td>0</td>\n",
       "      <td>1</td>\n",
       "      <td>0</td>\n",
       "      <td>0</td>\n",
       "      <td>0</td>\n",
       "      <td>0</td>\n",
       "      <td>0</td>\n",
       "      <td>0</td>\n",
       "      <td>0</td>\n",
       "      <td>0</td>\n",
       "      <td>0</td>\n",
       "      <td>0</td>\n",
       "      <td>0</td>\n",
       "      <td>0</td>\n",
       "      <td>0</td>\n",
       "      <td>0</td>\n",
       "      <td>0</td>\n",
       "      <td>0</td>\n",
       "      <td>0</td>\n",
       "      <td>0</td>\n",
       "      <td>0</td>\n",
       "      <td>0</td>\n",
       "      <td>0</td>\n",
       "      <td>0</td>\n",
       "      <td>1</td>\n",
       "      <td>0</td>\n",
       "      <td>0</td>\n",
       "    </tr>\n",
       "    <tr>\n",
       "      <th>5</th>\n",
       "      <td>0.229167</td>\n",
       "      <td>0.130526</td>\n",
       "      <td>0.991445</td>\n",
       "      <td>0.032738</td>\n",
       "      <td>0.978918</td>\n",
       "      <td>0.204252</td>\n",
       "      <td>0</td>\n",
       "      <td>40.641174</td>\n",
       "      <td>-73.844604</td>\n",
       "      <td>0</td>\n",
       "      <td>0</td>\n",
       "      <td>0</td>\n",
       "      <td>0</td>\n",
       "      <td>0</td>\n",
       "      <td>1</td>\n",
       "      <td>0</td>\n",
       "      <td>0</td>\n",
       "      <td>0</td>\n",
       "      <td>0</td>\n",
       "      <td>0</td>\n",
       "      <td>0</td>\n",
       "      <td>0</td>\n",
       "      <td>0</td>\n",
       "      <td>0</td>\n",
       "      <td>0</td>\n",
       "      <td>0</td>\n",
       "      <td>0</td>\n",
       "      <td>0</td>\n",
       "      <td>0</td>\n",
       "      <td>0</td>\n",
       "      <td>0</td>\n",
       "      <td>0</td>\n",
       "      <td>0</td>\n",
       "      <td>0</td>\n",
       "      <td>1</td>\n",
       "      <td>0</td>\n",
       "      <td>0</td>\n",
       "      <td>0</td>\n",
       "      <td>0</td>\n",
       "      <td>0</td>\n",
       "    </tr>\n",
       "    <tr>\n",
       "      <th>6</th>\n",
       "      <td>0.937500</td>\n",
       "      <td>0.923880</td>\n",
       "      <td>-0.382683</td>\n",
       "      <td>0.276786</td>\n",
       "      <td>-0.167506</td>\n",
       "      <td>0.985871</td>\n",
       "      <td>0</td>\n",
       "      <td>40.586243</td>\n",
       "      <td>-73.965454</td>\n",
       "      <td>0</td>\n",
       "      <td>0</td>\n",
       "      <td>0</td>\n",
       "      <td>0</td>\n",
       "      <td>0</td>\n",
       "      <td>0</td>\n",
       "      <td>0</td>\n",
       "      <td>0</td>\n",
       "      <td>0</td>\n",
       "      <td>0</td>\n",
       "      <td>0</td>\n",
       "      <td>0</td>\n",
       "      <td>0</td>\n",
       "      <td>0</td>\n",
       "      <td>0</td>\n",
       "      <td>0</td>\n",
       "      <td>0</td>\n",
       "      <td>0</td>\n",
       "      <td>0</td>\n",
       "      <td>0</td>\n",
       "      <td>0</td>\n",
       "      <td>0</td>\n",
       "      <td>1</td>\n",
       "      <td>0</td>\n",
       "      <td>0</td>\n",
       "      <td>0</td>\n",
       "      <td>0</td>\n",
       "      <td>0</td>\n",
       "      <td>0</td>\n",
       "      <td>1</td>\n",
       "      <td>0</td>\n",
       "    </tr>\n",
       "  </tbody>\n",
       "</table>\n",
       "</div>"
      ],
      "text/plain": [
       "   time_num  time_cos  time_sin   day_num   day_cos   day_sin  weekend   latitude  longitude  00:00  01:00  02:00  03:00  04:00  05:00  06:00  07:00  08:00  09:00  10:00  11:00  12:00  13:00  14:00  15:00  16:00  17:00  18:00  19:00  20:00  21:00  22:00  23:00  Friday  Monday  Saturday  Sunday  Thursday  Tuesday  Wednesday\n",
       "0  0.937500  0.923880 -0.382683  0.133929  0.666347  0.745642        0  40.723572 -73.976440      0      0      0      0      0      0      0      0      0      0      0      0      0      0      0      0      0      0      0      0      0      0      1      0       0       1         0       0         0        0          0\n",
       "2  0.104167  0.793353  0.608761  0.300595 -0.312572  0.949894        0  40.718079 -74.031372      0      0      1      0      0      0      0      0      0      0      0      0      0      0      0      0      0      0      0      0      0      0      0      0       0       0         0       0         0        0          1\n",
       "3  0.229167  0.130526  0.991445  0.461310 -0.970597  0.240712        0  40.866394 -73.899536      0      0      0      0      0      1      0      0      0      0      0      0      0      0      0      0      0      0      0      0      0      0      0      0       0       0         0       0         1        0          0\n",
       "5  0.229167  0.130526  0.991445  0.032738  0.978918  0.204252        0  40.641174 -73.844604      0      0      0      0      0      1      0      0      0      0      0      0      0      0      0      0      0      0      0      0      0      0      0      0       0       1         0       0         0        0          0\n",
       "6  0.937500  0.923880 -0.382683  0.276786 -0.167506  0.985871        0  40.586243 -73.965454      0      0      0      0      0      0      0      0      0      0      0      0      0      0      0      0      0      0      0      0      0      0      1      0       0       0         0       0         0        1          0"
      ]
     },
     "execution_count": 26,
     "metadata": {},
     "output_type": "execute_result"
    }
   ],
   "source": [
    "Xtrain, Xtest, ytrain, ytest = X[mask], X[~mask], y[mask], y[~mask]\n",
    "n_samples = Xtrain.shape[0]\n",
    "n_features = Xtrain.shape[1]\n",
    "Xtrain.head()"
   ]
  },
  {
   "cell_type": "markdown",
   "metadata": {},
   "source": [
    "### Random Forest Regression"
   ]
  },
  {
   "cell_type": "code",
   "execution_count": 46,
   "metadata": {
    "collapsed": false
   },
   "outputs": [],
   "source": [
    "# Create a Random Forest Regression estimator\n",
    "estimator = RandomForestRegressor(random_state=0, n_estimators=100, n_jobs=-1)"
   ]
  },
  {
   "cell_type": "code",
   "execution_count": 61,
   "metadata": {
    "collapsed": false
   },
   "outputs": [
    {
     "name": "stdout",
     "output_type": "stream",
     "text": [
      "BEST {'max_features': 'auto', 'n_estimators': 100} -0.0418280392681 [mean: -0.09901, std: 0.00618, params: {'max_features': 'auto', 'n_estimators': 1}, mean: -0.06986, std: 0.00392, params: {'max_features': 'auto', 'n_estimators': 2}, mean: -0.05285, std: 0.00255, params: {'max_features': 'auto', 'n_estimators': 5}, mean: -0.04684, std: 0.00149, params: {'max_features': 'auto', 'n_estimators': 10}, mean: -0.04411, std: 0.00086, params: {'max_features': 'auto', 'n_estimators': 20}, mean: -0.04234, std: 0.00091, params: {'max_features': 'auto', 'n_estimators': 50}, mean: -0.04183, std: 0.00070, params: {'max_features': 'auto', 'n_estimators': 100}]\n",
      "CPU times: user 7min 57s, sys: 8.77 s, total: 8min 6s\n",
      "Wall time: 5min 26s\n"
     ]
    }
   ],
   "source": [
    "# Define a grid of parameters over which to optimize the random forest\n",
    "# We will figure out which number of trees is optimal\n",
    "%%time\n",
    "parameters = {\"n_estimators\": [1,2,5,10,20,50,100], \"max_features\": [\"auto\"]} # [\"auto\",\"sqrt\",\"log2\"]\n",
    "best = cv_optimize(estimator, parameters, Xtrain, ytrain, score_func='mean_squared_error')"
   ]
  },
  {
   "cell_type": "markdown",
   "metadata": {},
   "source": [
    "### Evaluate the results"
   ]
  },
  {
   "cell_type": "code",
   "execution_count": 62,
   "metadata": {
    "collapsed": false
   },
   "outputs": [
    {
     "name": "stdout",
     "output_type": "stream",
     "text": [
      "############# based on standard predict ################\n",
      "R^2 on training data: 1.00\n",
      "R^2 on test data:     0.97\n"
     ]
    }
   ],
   "source": [
    "# Fit the best Random Forest and calculate R^2 values for training and test sets\n",
    "reg=best.fit(Xtrain, ytrain)\n",
    "training_accuracy = reg.score(Xtrain, ytrain)\n",
    "test_accuracy = reg.score(Xtest, ytest)\n",
    "print \"############# based on standard predict ################\"\n",
    "print \"R^2 on training data: %0.4f\" % (training_accuracy)\n",
    "print \"R^2 on test data:     %0.4f\" % (test_accuracy)\n"
   ]
  },
  {
   "cell_type": "code",
   "execution_count": 63,
   "metadata": {
    "collapsed": false
   },
   "outputs": [
    {
     "data": {
      "text/plain": [
       "array([[    3,     4],\n",
       "       [    2,     3],\n",
       "       [11088, 11952],\n",
       "       ..., \n",
       "       [    2,     4],\n",
       "       [    2,     2],\n",
       "       [    5,     8]])"
      ]
     },
     "execution_count": 63,
     "metadata": {},
     "output_type": "execute_result"
    }
   ],
   "source": [
    "# Show some of the predictions vs. the real number of pickups\n",
    "# predictions vs. real number of pickups\n",
    "np.round(np.power(10,np.column_stack((reg.predict(Xtest),ytest))) - 1,decimals=0).astype(int)"
   ]
  },
  {
   "cell_type": "code",
   "execution_count": 69,
   "metadata": {
    "collapsed": false
   },
   "outputs": [
    {
     "data": {
      "text/plain": [
       "0.19428735966633445"
      ]
     },
     "execution_count": 69,
     "metadata": {},
     "output_type": "execute_result"
    }
   ],
   "source": [
    "# Calculate the Root Mean Squared Error\n",
    "np.sqrt(mean_squared_error(reg.predict(Xtest),ytest))"
   ]
  },
  {
   "cell_type": "code",
   "execution_count": 74,
   "metadata": {
    "collapsed": false
   },
   "outputs": [
    {
     "data": {
      "text/plain": [
       "[('longitude', 0.55876141784035194),\n",
       " ('latitude', 0.39422900460091148),\n",
       " ('time_num', 0.011215205214659719),\n",
       " ('day_sin', 0.0064374833697586594),\n",
       " ('day_num', 0.0056726277733164321),\n",
       " ('time_cos', 0.005514918508135248),\n",
       " ('time_sin', 0.0048942741195212962),\n",
       " ('day_cos', 0.0043641218411276106),\n",
       " ('03:00', 0.00058260510586353672),\n",
       " ('04:00', 0.00052352179813915122),\n",
       " ('Friday', 0.0004469999455339973),\n",
       " ('Wednesday', 0.00042054321780137497),\n",
       " ('Saturday', 0.00038336550502161165),\n",
       " ('02:00', 0.00037829987499232942),\n",
       " ('08:00', 0.00034495692799035356),\n",
       " ('Tuesday', 0.00033026301166975898),\n",
       " ('19:00', 0.00029073486233320366),\n",
       " ('05:00', 0.00027808113569394101),\n",
       " ('weekend', 0.00027744968673522617),\n",
       " ('07:00', 0.00026795391773462443),\n",
       " ('16:00', 0.00025825324065636512),\n",
       " ('15:00', 0.00025716278950360921),\n",
       " ('09:00', 0.00025666948033309226),\n",
       " ('01:00', 0.00024972760581700565),\n",
       " ('12:00', 0.00024253898691489959),\n",
       " ('10:00', 0.00023825119293826341),\n",
       " ('20:00', 0.00023343971109137166),\n",
       " ('22:00', 0.00023167193869593747),\n",
       " ('17:00', 0.00022515562782435473),\n",
       " ('13:00', 0.00022184895734544421),\n",
       " ('Sunday', 0.00022073073213628062),\n",
       " ('06:00', 0.00021675245325090641),\n",
       " ('14:00', 0.00021525718673517404),\n",
       " ('21:00', 0.00020659441571219182),\n",
       " ('00:00', 0.00020191542822884197),\n",
       " ('Thursday', 0.00020141630189858303),\n",
       " ('Monday', 0.00019346901263134187),\n",
       " ('11:00', 0.00018654194186633468),\n",
       " ('18:00', 0.00018206847793526414),\n",
       " ('23:00', 0.00014670626119335712)]"
      ]
     },
     "execution_count": 74,
     "metadata": {},
     "output_type": "execute_result"
    }
   ],
   "source": [
    "# What are the most important features?\n",
    "import operator\n",
    "dict_feat_imp = dict(zip(list(X.columns.values),reg.feature_importances_))\n",
    "\n",
    "sorted_features = sorted(dict_feat_imp.items(), key=operator.itemgetter(1), reverse=True)\n",
    "sorted_features"
   ]
  },
  {
   "cell_type": "code",
   "execution_count": null,
   "metadata": {
    "collapsed": true
   },
   "outputs": [],
   "source": []
  }
 ],
 "metadata": {
  "kernelspec": {
   "display_name": "Python 2",
   "language": "python",
   "name": "python2"
  },
  "language_info": {
   "codemirror_mode": {
    "name": "ipython",
    "version": 2
   },
   "file_extension": ".py",
   "mimetype": "text/x-python",
   "name": "python",
   "nbconvert_exporter": "python",
   "pygments_lexer": "ipython2",
   "version": "2.7.10"
  }
 },
 "nbformat": 4,
 "nbformat_minor": 0
}
